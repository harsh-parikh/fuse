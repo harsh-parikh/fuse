{
 "cells": [
  {
   "cell_type": "code",
   "execution_count": 1,
   "id": "949d8262-5e51-4d35-a8bb-7acfd4fe5d11",
   "metadata": {
    "tags": []
   },
   "outputs": [
    {
     "data": {
      "text/html": [
       "\n",
       "                <script type=\"application/javascript\" id=\"jupyter_black\">\n",
       "                (function() {\n",
       "                    if (window.IPython === undefined) {\n",
       "                        return\n",
       "                    }\n",
       "                    var msg = \"WARNING: it looks like you might have loaded \" +\n",
       "                        \"jupyter_black in a non-lab notebook with \" +\n",
       "                        \"`is_lab=True`. Please double check, and if \" +\n",
       "                        \"loading with `%load_ext` please review the README!\"\n",
       "                    console.log(msg)\n",
       "                    alert(msg)\n",
       "                })()\n",
       "                </script>\n",
       "                "
      ],
      "text/plain": [
       "<IPython.core.display.HTML object>"
      ]
     },
     "metadata": {},
     "output_type": "display_data"
    }
   ],
   "source": [
    "import numpy as np\n",
    "import pandas as pd\n",
    "import matplotlib.pyplot as plt\n",
    "from matplotlib.patches import Rectangle\n",
    "import seaborn as sns\n",
    "import scipy.special as sp\n",
    "import sklearn.datasets as datasets\n",
    "import sklearn.linear_model as lm\n",
    "import sklearn.ensemble as en\n",
    "import sklearn.tree as tree\n",
    "from sklearn.model_selection import train_test_split\n",
    "import econml\n",
    "import importlib\n",
    "import pyreadr\n",
    "\n",
    "#### data generation packages\n",
    "import strawman_edge\n",
    "import strawman_center\n",
    "import all_linear\n",
    "\n",
    "#### main packages\n",
    "import characterize\n",
    "import estimate_atte as est\n",
    "import learn_w as learn\n",
    "import black\n",
    "\n",
    "importlib.reload(est)\n",
    "importlib.reload(learn)\n",
    "\n",
    "import warnings\n",
    "\n",
    "warnings.filterwarnings(\"ignore\")\n",
    "\n",
    "%load_ext jupyter_black\n",
    "sns.set(font_scale=1.25, style=\"whitegrid\")"
   ]
  },
  {
   "cell_type": "code",
   "execution_count": 2,
   "id": "76c797aa-dc0e-483c-a215-4183c505f722",
   "metadata": {
    "tags": []
   },
   "outputs": [],
   "source": [
    "baseline_harmonized = pyreadr.read_r(\n",
    "    \"/Users/harshparikh/Library/CloudStorage/OneDrive-JohnsHopkins/MOUD_data/merged/baseline_harmonized_07272023.rds\"\n",
    ")[None].set_index(\"who\")\n",
    "\n",
    "relapse_harmonized_wide = pyreadr.read_r(\n",
    "    \"/Users/harshparikh/Library/CloudStorage/OneDrive-JohnsHopkins/MOUD_data/merged/relapse_harmonized_wide_09062023.rds\"\n",
    ")[None].set_index(\"who\")\n",
    "\n",
    "stacked_list = []\n",
    "for i in range(1, 6):\n",
    "    stacked_list.append(\n",
    "        pd.read_csv(\n",
    "            \"/Users/harshparikh/Library/CloudStorage/OneDrive-JohnsHopkins/MOUD_data/stacked_list_%d.csv\"\n",
    "            % (i),\n",
    "            index_col=0,\n",
    "        )\n",
    "    )\n",
    "df = stacked_list[0]\n",
    "\n",
    "df_tedsa = df.loc[df[\"trialdata\"] == 0]"
   ]
  },
  {
   "cell_type": "code",
   "execution_count": 3,
   "id": "d46a786a-a200-489a-8947-db40255618a8",
   "metadata": {
    "tags": []
   },
   "outputs": [],
   "source": [
    "outcome_cols = [\"wk%d.relapse_this_week\" % (i) for i in range(1, 11)]\n",
    "outcome94 = relapse_harmonized_wide.loc[\n",
    "    (relapse_harmonized_wide[\"project\"] == \"27\")\n",
    "    # + (relapse_harmonized_wide[\"project\"] == \"30\")\n",
    "    # + (relapse_harmonized_wide[\"project\"] == \"51\")\n",
    "][outcome_cols]"
   ]
  },
  {
   "cell_type": "code",
   "execution_count": 4,
   "id": "b95c22b0-87fa-4151-9519-e37f979ddd98",
   "metadata": {
    "tags": []
   },
   "outputs": [],
   "source": [
    "ct94 = baseline_harmonized.loc[\n",
    "    (baseline_harmonized[\"project\"] == \"27\")\n",
    "    # + (baseline_harmonized[\"project\"] == \"30\")\n",
    "    # + (baseline_harmonized[\"project\"] == \"51\")\n",
    "]"
   ]
  },
  {
   "cell_type": "code",
   "execution_count": 5,
   "id": "9c5d3951-af68-41cb-9ce6-f8080cfbeb16",
   "metadata": {
    "tags": []
   },
   "outputs": [],
   "source": [
    "common_cols = set.intersection(set(df_tedsa.columns), set(ct94.columns))"
   ]
  },
  {
   "cell_type": "code",
   "execution_count": 6,
   "id": "16f1f5e2-74e1-4184-a3e4-dbaafa45a517",
   "metadata": {
    "tags": []
   },
   "outputs": [],
   "source": [
    "df_tedsa_cc = df_tedsa[common_cols]\n",
    "df_tedsa_cc[\"S\"] = 0\n",
    "ct94_cc = ct94[common_cols].fillna(0)\n",
    "ct94_cc[\"med_met\"] = (\n",
    "    (ct94[\"medicine\"] == \"met\").astype(int).fillna(0)\n",
    ")  # methadone = 1 and bupenorphine = 0\n",
    "ct94_cc[\"sex\"] = (ct94[\"sex\"] == \"male\").astype(int)  # male = 1 and female = 0\n",
    "\n",
    "# Create age categories\n",
    "ct94_cc[\"age1\"] = 0\n",
    "ct94_cc.loc[ct94_cc[\"age\"] < 15, \"age1\"] = 1\n",
    "ct94_cc.loc[(ct94_cc[\"age\"] > 14) & (ct94_cc[\"age\"] < 18), \"age1\"] = 2\n",
    "ct94_cc.loc[(ct94_cc[\"age\"] > 17) & (ct94_cc[\"age\"] < 21), \"age1\"] = 3\n",
    "ct94_cc.loc[(ct94_cc[\"age\"] > 20) & (ct94_cc[\"age\"] < 25), \"age1\"] = 4\n",
    "ct94_cc.loc[(ct94_cc[\"age\"] > 24) & (ct94_cc[\"age\"] < 30), \"age1\"] = 5\n",
    "ct94_cc.loc[(ct94_cc[\"age\"] > 29) & (ct94_cc[\"age\"] < 35), \"age1\"] = 6\n",
    "ct94_cc.loc[(ct94_cc[\"age\"] > 34) & (ct94_cc[\"age\"] < 40), \"age1\"] = 7\n",
    "ct94_cc.loc[(ct94_cc[\"age\"] > 39) & (ct94_cc[\"age\"] < 45), \"age1\"] = 8\n",
    "ct94_cc.loc[(ct94_cc[\"age\"] > 44) & (ct94_cc[\"age\"] < 50), \"age1\"] = 9\n",
    "ct94_cc.loc[(ct94_cc[\"age\"] > 49) & (ct94_cc[\"age\"] < 55), \"age1\"] = 10\n",
    "ct94_cc.loc[(ct94_cc[\"age\"] > 54) & (ct94_cc[\"age\"] < 65), \"age1\"] = 11\n",
    "ct94_cc.loc[ct94_cc[\"age\"] > 64, \"age1\"] = 12\n",
    "\n",
    "# Assign the 'age1' values to 'age' column\n",
    "ct94_cc[\"age\"] = ct94_cc[\"age1\"]\n",
    "\n",
    "# Optionally, you can drop the 'age1' column if you no longer need it\n",
    "ct94_cc.drop(columns=[\"age1\"], inplace=True)\n",
    "ct94_cc[\"S\"] = 1\n",
    "ct94_cc = ct94_cc.astype(int)"
   ]
  },
  {
   "cell_type": "code",
   "execution_count": 7,
   "id": "943bcafb-b3fd-40a1-8e06-42c7f661ce71",
   "metadata": {
    "tags": []
   },
   "outputs": [],
   "source": [
    "ct94_cc = ct94_cc.join(outcome94, how=\"inner\")"
   ]
  },
  {
   "cell_type": "code",
   "execution_count": 36,
   "id": "4fc1d9d2-60fc-408b-9477-6920fb5bdb18",
   "metadata": {
    "tags": []
   },
   "outputs": [
    {
     "data": {
      "text/html": [
       "<div>\n",
       "<style scoped>\n",
       "    .dataframe tbody tr th:only-of-type {\n",
       "        vertical-align: middle;\n",
       "    }\n",
       "\n",
       "    .dataframe tbody tr th {\n",
       "        vertical-align: top;\n",
       "    }\n",
       "\n",
       "    .dataframe thead th {\n",
       "        text-align: right;\n",
       "    }\n",
       "</style>\n",
       "<table border=\"1\" class=\"dataframe\">\n",
       "  <thead>\n",
       "    <tr style=\"text-align: right;\">\n",
       "      <th></th>\n",
       "      <th>wk1.relapse_this_week</th>\n",
       "      <th>wk2.relapse_this_week</th>\n",
       "      <th>wk3.relapse_this_week</th>\n",
       "      <th>wk4.relapse_this_week</th>\n",
       "      <th>wk5.relapse_this_week</th>\n",
       "      <th>wk6.relapse_this_week</th>\n",
       "      <th>wk7.relapse_this_week</th>\n",
       "      <th>wk8.relapse_this_week</th>\n",
       "      <th>wk9.relapse_this_week</th>\n",
       "      <th>wk10.relapse_this_week</th>\n",
       "    </tr>\n",
       "    <tr>\n",
       "      <th>med_met</th>\n",
       "      <th></th>\n",
       "      <th></th>\n",
       "      <th></th>\n",
       "      <th></th>\n",
       "      <th></th>\n",
       "      <th></th>\n",
       "      <th></th>\n",
       "      <th></th>\n",
       "      <th></th>\n",
       "      <th></th>\n",
       "    </tr>\n",
       "  </thead>\n",
       "  <tbody>\n",
       "    <tr>\n",
       "      <th>0</th>\n",
       "      <td>NaN</td>\n",
       "      <td>NaN</td>\n",
       "      <td>NaN</td>\n",
       "      <td>NaN</td>\n",
       "      <td>NaN</td>\n",
       "      <td>NaN</td>\n",
       "      <td>NaN</td>\n",
       "      <td>NaN</td>\n",
       "      <td>NaN</td>\n",
       "      <td>NaN</td>\n",
       "    </tr>\n",
       "    <tr>\n",
       "      <th>1</th>\n",
       "      <td>0.0</td>\n",
       "      <td>0.0</td>\n",
       "      <td>0.020954</td>\n",
       "      <td>-0.12616</td>\n",
       "      <td>-0.158609</td>\n",
       "      <td>-0.076485</td>\n",
       "      <td>-0.07188</td>\n",
       "      <td>-0.066685</td>\n",
       "      <td>-0.084872</td>\n",
       "      <td>-0.094153</td>\n",
       "    </tr>\n",
       "  </tbody>\n",
       "</table>\n",
       "</div>"
      ],
      "text/plain": [
       "         wk1.relapse_this_week  wk2.relapse_this_week  wk3.relapse_this_week  \\\n",
       "med_met                                                                        \n",
       "0                          NaN                    NaN                    NaN   \n",
       "1                          0.0                    0.0               0.020954   \n",
       "\n",
       "         wk4.relapse_this_week  wk5.relapse_this_week  wk6.relapse_this_week  \\\n",
       "med_met                                                                        \n",
       "0                          NaN                    NaN                    NaN   \n",
       "1                     -0.12616              -0.158609              -0.076485   \n",
       "\n",
       "         wk7.relapse_this_week  wk8.relapse_this_week  wk9.relapse_this_week  \\\n",
       "med_met                                                                        \n",
       "0                          NaN                    NaN                    NaN   \n",
       "1                     -0.07188              -0.066685              -0.084872   \n",
       "\n",
       "         wk10.relapse_this_week  \n",
       "med_met                          \n",
       "0                           NaN  \n",
       "1                     -0.094153  "
      ]
     },
     "execution_count": 36,
     "metadata": {},
     "output_type": "execute_result"
    }
   ],
   "source": [
    "ct94_cc.groupby(by=\"med_met\").mean()[outcome_cols].diff()"
   ]
  },
  {
   "cell_type": "code",
   "execution_count": 8,
   "id": "83c0b190-688d-41c3-8e19-73615bc8ad33",
   "metadata": {
    "tags": []
   },
   "outputs": [],
   "source": [
    "df_primary = pd.concat([df_tedsa_cc, ct94_cc])"
   ]
  },
  {
   "cell_type": "code",
   "execution_count": 10,
   "id": "73b5002a-8663-4230-a4a7-801dd9846283",
   "metadata": {
    "tags": []
   },
   "outputs": [],
   "source": [
    "df_ = df_primary.drop(\n",
    "    columns=[\"wk%d.relapse_this_week\" % (i) for i in range(1, 10)]\n",
    ").fillna(0)"
   ]
  },
  {
   "cell_type": "code",
   "execution_count": 11,
   "id": "380986a2-d312-425d-ac75-b77b667eb5da",
   "metadata": {
    "tags": []
   },
   "outputs": [],
   "source": [
    "outcome = \"wk10.relapse_this_week\"\n",
    "treatment = \"med_met\"\n",
    "sample = \"S\"\n",
    "data = df_\n",
    "S = df_[sample]  # indicator for the sample\n",
    "Y = df_[outcome]  # outcome variable\n",
    "T = df_[treatment]  # indicator for the treatment\n",
    "X = df_.drop(columns=[outcome, treatment, sample])  # pre-treatment covariates"
   ]
  },
  {
   "cell_type": "code",
   "execution_count": 12,
   "id": "794b9e61-e94d-4afa-abbb-e98e624a5f63",
   "metadata": {
    "tags": []
   },
   "outputs": [
    {
     "data": {
      "text/html": [
       "<div>\n",
       "<style scoped>\n",
       "    .dataframe tbody tr th:only-of-type {\n",
       "        vertical-align: middle;\n",
       "    }\n",
       "\n",
       "    .dataframe tbody tr th {\n",
       "        vertical-align: top;\n",
       "    }\n",
       "\n",
       "    .dataframe thead th {\n",
       "        text-align: right;\n",
       "    }\n",
       "</style>\n",
       "<table border=\"1\" class=\"dataframe\">\n",
       "  <thead>\n",
       "    <tr style=\"text-align: right;\">\n",
       "      <th></th>\n",
       "      <th>te</th>\n",
       "      <th>te_sq</th>\n",
       "    </tr>\n",
       "    <tr>\n",
       "      <th>S</th>\n",
       "      <th></th>\n",
       "      <th></th>\n",
       "    </tr>\n",
       "  </thead>\n",
       "  <tbody>\n",
       "    <tr>\n",
       "      <th>0</th>\n",
       "      <td>-0.061811</td>\n",
       "      <td>0.036710</td>\n",
       "    </tr>\n",
       "    <tr>\n",
       "      <th>1</th>\n",
       "      <td>-0.004323</td>\n",
       "      <td>0.623111</td>\n",
       "    </tr>\n",
       "  </tbody>\n",
       "</table>\n",
       "</div>"
      ],
      "text/plain": [
       "         te     te_sq\n",
       "S                    \n",
       "0 -0.061811  0.036710\n",
       "1 -0.004323  0.623111"
      ]
     },
     "execution_count": 12,
     "metadata": {},
     "output_type": "execute_result"
    }
   ],
   "source": [
    "importlib.reload(learn)\n",
    "df_v, pi, pi_m, mu_1_m, mu_0_m, e_m, data2 = learn.estimate_dml(\n",
    "    data, outcome, treatment, sample, crossfit=10\n",
    ")\n",
    "\n",
    "df_v.join(S).groupby(by=\"S\").mean()"
   ]
  },
  {
   "cell_type": "code",
   "execution_count": 14,
   "id": "05894cc0-7e01-432e-8c14-1c189ecbc9be",
   "metadata": {
    "tags": []
   },
   "outputs": [
    {
     "name": "stdout",
     "output_type": "stream",
     "text": [
      "ATE Est: -0.0318\n",
      "leaf                   0.500000\n",
      "age                    0.002838\n",
      "xrace                  0.064233\n",
      "bbenzo30_base          0.061733\n",
      "sex                    0.063755\n",
      "bamphetamine30_base    0.205033\n",
      "bcannabis30_base       0.019320\n",
      "ivdrug                 0.083087\n",
      "dtype: float64\n",
      "Baseline Objective:0.0003\n",
      "Optimized Objective (Forest):0.0003\n"
     ]
    }
   ],
   "source": [
    "importlib.reload(learn)\n",
    "# D, w_tree, testing_data = learn.tree_opt(data, outcome, treatment, sample, leaf_proba=1)\n",
    "D_rash, D_forest, w_forest, rashomon_set, f, testing_data = learn.forest_opt(\n",
    "    data=df_,\n",
    "    outcome=\"wk10.relapse_this_week\",\n",
    "    treatment=\"med_met\",\n",
    "    sample=\"S\",\n",
    "    leaf_proba=1,\n",
    "    num_trees=1000,\n",
    "    vote_threshold=1 / 2,\n",
    "    top_k_trees=True,\n",
    "    k=100,\n",
    ")\n",
    "\n",
    "baseline_loss = np.sqrt(np.sum(D_forest[\"vsq\"]) / ((D_forest.shape[0] ** 2)))\n",
    "optimized_loss_forest = np.sqrt(\n",
    "    np.sum(D_rash[\"vsq\"] * D_rash[\"w_opt\"]) / ((np.sum(D_rash[\"w_opt\"])) ** 2)\n",
    ")\n",
    "print(\"Baseline Objective:%.4f\" % (baseline_loss))\n",
    "print(\"Optimized Objective (Forest):%.4f\" % (optimized_loss_forest))"
   ]
  },
  {
   "cell_type": "code",
   "execution_count": 18,
   "id": "43b7f0c2-5cbe-4e0d-8da8-5e4b4cd2133e",
   "metadata": {
    "tags": []
   },
   "outputs": [
    {
     "data": {
      "text/plain": [
       "[Text(0.4, 0.8333333333333334, 'bamphetamine30_base <= 0.5\\nsamples = 100.0%\\nvalue = [0.016, 0.984]'),\n",
       " Text(0.2, 0.5, 'samples = 93.3%\\nvalue = [0.0, 1.0]'),\n",
       " Text(0.6, 0.5, 'ivdrug <= 0.5\\nsamples = 6.7%\\nvalue = [0.247, 0.753]'),\n",
       " Text(0.4, 0.16666666666666666, 'samples = 1.6%\\nvalue = [1.0, 0.0]'),\n",
       " Text(0.8, 0.16666666666666666, 'samples = 5.0%\\nvalue = [0.0, 1.0]')]"
      ]
     },
     "execution_count": 18,
     "metadata": {},
     "output_type": "execute_result"
    },
    {
     "data": {
      "image/png": "[encoded data removed]",
      "text/plain": [
       "<Figure size 1000x600 with 1 Axes>"
      ]
     },
     "metadata": {},
     "output_type": "display_data"
    }
   ],
   "source": [
    "sns.set(font_scale=1)\n",
    "fig, ax = plt.subplots(ncols=1, figsize=(10, 6), sharex=True, sharey=True)\n",
    "tree.plot_tree(\n",
    "    f,\n",
    "    ax=ax,\n",
    "    feature_names=df_.drop(columns=[outcome, sample, treatment]).columns,\n",
    "    filled=True,\n",
    "    proportion=True,\n",
    "    impurity=False,\n",
    ")"
   ]
  },
  {
   "cell_type": "code",
   "execution_count": 34,
   "id": "53a93143-6790-4899-a90b-3d3a369bb786",
   "metadata": {
    "tags": []
   },
   "outputs": [],
   "source": [
    "D_rash.to_csv(\"tedsa_analysis_forest_rashomon_opt.csv\")"
   ]
  },
  {
   "cell_type": "code",
   "execution_count": 37,
   "id": "71ee2518-1167-44d0-972d-5b19724de516",
   "metadata": {
    "tags": []
   },
   "outputs": [
    {
     "name": "stdout",
     "output_type": "stream",
     "text": [
      "Pre Pruning, ATTE: -0.03179 ± 0.00052\n",
      "Post Pruning, ATTE: -0.03718 ± 0.00051\n"
     ]
    }
   ],
   "source": [
    "print(\n",
    "    r\"Pre Pruning, ATTE: %.5f ± %.5f\"\n",
    "    % (\n",
    "        D_rash[\"v\"].mean(),\n",
    "        1.96 * np.sqrt(D_rash[\"vsq\"].mean() / D_rash[\"w_opt\"].count()),\n",
    "    )\n",
    ")\n",
    "\n",
    "print(\n",
    "    r\"Post Pruning, ATTE: %.5f ± %.5f\"\n",
    "    % (\n",
    "        D_rash[\"v\"].loc[D_rash[\"w_opt\"] == 1].mean(),\n",
    "        1.96\n",
    "        * np.sqrt(\n",
    "            D_rash[\"vsq\"].loc[D_rash[\"w_opt\"] == 1].mean() / D_rash[\"w_opt\"].sum()\n",
    "        ),\n",
    "    )\n",
    ")"
   ]
  },
  {
   "cell_type": "markdown",
   "id": "8b090845-e21b-483c-9456-eaf972e09fe8",
   "metadata": {},
   "source": [
    "Thoughts:\n",
    "* TEDSA (observational data) has fewer covariates than experimental sample. Maybe there is different and interesting question here?"
   ]
  }
 ],
 "metadata": {
  "kernelspec": {
   "display_name": "Python 3 (ipykernel)",
   "language": "python",
   "name": "python3"
  },
  "language_info": {
   "codemirror_mode": {
    "name": "ipython",
    "version": 3
   },
   "file_extension": ".py",
   "mimetype": "text/x-python",
   "name": "python",
   "nbconvert_exporter": "python",
   "pygments_lexer": "ipython3",
   "version": "3.10.9"
  }
 },
 "nbformat": 4,
 "nbformat_minor": 5
}
