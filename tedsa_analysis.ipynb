{
 "cells": [
  {
   "cell_type": "code",
   "execution_count": 1,
   "id": "949d8262-5e51-4d35-a8bb-7acfd4fe5d11",
   "metadata": {
    "tags": []
   },
   "outputs": [
    {
     "data": {
      "text/html": [
       "\n",
       "                <script type=\"application/javascript\" id=\"jupyter_black\">\n",
       "                (function() {\n",
       "                    if (window.IPython === undefined) {\n",
       "                        return\n",
       "                    }\n",
       "                    var msg = \"WARNING: it looks like you might have loaded \" +\n",
       "                        \"jupyter_black in a non-lab notebook with \" +\n",
       "                        \"`is_lab=True`. Please double check, and if \" +\n",
       "                        \"loading with `%load_ext` please review the README!\"\n",
       "                    console.log(msg)\n",
       "                    alert(msg)\n",
       "                })()\n",
       "                </script>\n",
       "                "
      ],
      "text/plain": [
       "<IPython.core.display.HTML object>"
      ]
     },
     "metadata": {},
     "output_type": "display_data"
    }
   ],
   "source": [
    "import numpy as np\n",
    "import pandas as pd\n",
    "import matplotlib.pyplot as plt\n",
    "from matplotlib.patches import Rectangle\n",
    "import seaborn as sns\n",
    "import scipy.special as sp\n",
    "import sklearn.datasets as datasets\n",
    "import sklearn.linear_model as lm\n",
    "import sklearn.ensemble as en\n",
    "import sklearn.tree as tree\n",
    "from sklearn.model_selection import train_test_split\n",
    "import econml\n",
    "import importlib\n",
    "import pyreadr\n",
    "\n",
    "#### data generation packages\n",
    "import strawman_edge\n",
    "import strawman_center\n",
    "import all_linear\n",
    "\n",
    "#### main packages\n",
    "import characterize\n",
    "import estimate_atte as est\n",
    "import learn_w as learn\n",
    "import black\n",
    "\n",
    "importlib.reload(est)\n",
    "importlib.reload(learn)\n",
    "\n",
    "import warnings\n",
    "\n",
    "warnings.filterwarnings(\"ignore\")\n",
    "\n",
    "%load_ext jupyter_black\n",
    "sns.set(font_scale=1.25, style=\"whitegrid\")\n",
    "np.random.seed(0)"
   ]
  },
  {
   "cell_type": "code",
   "execution_count": 224,
   "id": "76c797aa-dc0e-483c-a215-4183c505f722",
   "metadata": {
    "tags": []
   },
   "outputs": [],
   "source": [
    "outcome_cols = [\"opioiduse12\", \"opioiduse24\"]\n",
    "treatment_col = \"medicine_assigned\"\n",
    "discrete_cov = [\"xrace\", \"mar\", \"sex\"]\n",
    "\n",
    "baseline_harmonized = pd.read_csv(\n",
    "    \"/Users/harshparikh/Library/CloudStorage/OneDrive-JohnsHopkins/MOUD_data/updated_data/ctn0094/drv/clean_patients_with_relapse_wide.csv\",\n",
    "    index_col=0,\n",
    ")\n",
    "\n",
    "# baseline_harmonized = baseline_harmonized.rename(\n",
    "#     columns={col: col.split(\".\")[1] for col in baseline_harmonized.columns}\n",
    "# ).set_index(\"who\")\n",
    "\n",
    "stacked_list = []\n",
    "for i in range(1, 6):\n",
    "    stacked_list.append(\n",
    "        pd.read_csv(\n",
    "            \"/Users/harshparikh/Library/CloudStorage/OneDrive-JohnsHopkins/MOUD_data/stacked_list_%d.csv\"\n",
    "            % (i),\n",
    "            index_col=0,\n",
    "        )\n",
    "    )\n",
    "df = stacked_list[0]\n",
    "\n",
    "df_tedsa = df.loc[df[\"trialdata\"] == 0]"
   ]
  },
  {
   "cell_type": "code",
   "execution_count": 225,
   "id": "9a07edcc-ced6-4642-88c9-f1636ad7c578",
   "metadata": {
    "tags": []
   },
   "outputs": [
    {
     "data": {
      "text/html": [
       "<div>\n",
       "<style scoped>\n",
       "    .dataframe tbody tr th:only-of-type {\n",
       "        vertical-align: middle;\n",
       "    }\n",
       "\n",
       "    .dataframe tbody tr th {\n",
       "        vertical-align: top;\n",
       "    }\n",
       "\n",
       "    .dataframe thead th {\n",
       "        text-align: right;\n",
       "    }\n",
       "</style>\n",
       "<table border=\"1\" class=\"dataframe\">\n",
       "  <thead>\n",
       "    <tr style=\"text-align: right;\">\n",
       "      <th></th>\n",
       "      <th>age</th>\n",
       "      <th>hcows</th>\n",
       "      <th>edu</th>\n",
       "      <th>hwithdraw</th>\n",
       "      <th>alcdisorder</th>\n",
       "      <th>cocdisorder</th>\n",
       "      <th>hasBrainDamage</th>\n",
       "      <th>hasEpilepsy</th>\n",
       "      <th>hasSchiz</th>\n",
       "      <th>hasBipolar</th>\n",
       "      <th>...</th>\n",
       "      <th>medicine_assigned_nal</th>\n",
       "      <th>xrace_1</th>\n",
       "      <th>xrace_2</th>\n",
       "      <th>xrace_3</th>\n",
       "      <th>xrace_4</th>\n",
       "      <th>mar_1.0</th>\n",
       "      <th>mar_2.0</th>\n",
       "      <th>mar_3.0</th>\n",
       "      <th>sex_female</th>\n",
       "      <th>sex_male</th>\n",
       "    </tr>\n",
       "    <tr>\n",
       "      <th>project</th>\n",
       "      <th></th>\n",
       "      <th></th>\n",
       "      <th></th>\n",
       "      <th></th>\n",
       "      <th></th>\n",
       "      <th></th>\n",
       "      <th></th>\n",
       "      <th></th>\n",
       "      <th></th>\n",
       "      <th></th>\n",
       "      <th></th>\n",
       "      <th></th>\n",
       "      <th></th>\n",
       "      <th></th>\n",
       "      <th></th>\n",
       "      <th></th>\n",
       "      <th></th>\n",
       "      <th></th>\n",
       "      <th></th>\n",
       "      <th></th>\n",
       "      <th></th>\n",
       "    </tr>\n",
       "  </thead>\n",
       "  <tbody>\n",
       "    <tr>\n",
       "      <th>27</th>\n",
       "      <td>36.881196</td>\n",
       "      <td>12.789223</td>\n",
       "      <td>2.085890</td>\n",
       "      <td>2.473059</td>\n",
       "      <td>0.212903</td>\n",
       "      <td>0.323102</td>\n",
       "      <td>0.091483</td>\n",
       "      <td>0.031471</td>\n",
       "      <td>0.025217</td>\n",
       "      <td>0.115748</td>\n",
       "      <td>...</td>\n",
       "      <td>0.000000</td>\n",
       "      <td>0.675846</td>\n",
       "      <td>0.085759</td>\n",
       "      <td>0.162077</td>\n",
       "      <td>0.076318</td>\n",
       "      <td>0.020456</td>\n",
       "      <td>0.037766</td>\n",
       "      <td>0.069237</td>\n",
       "      <td>0.322581</td>\n",
       "      <td>0.677419</td>\n",
       "    </tr>\n",
       "    <tr>\n",
       "      <th>30</th>\n",
       "      <td>32.058333</td>\n",
       "      <td>13.041899</td>\n",
       "      <td>2.227778</td>\n",
       "      <td>2.469274</td>\n",
       "      <td>0.108333</td>\n",
       "      <td>0.077778</td>\n",
       "      <td>0.175000</td>\n",
       "      <td>0.025000</td>\n",
       "      <td>0.002793</td>\n",
       "      <td>0.058496</td>\n",
       "      <td>...</td>\n",
       "      <td>0.000000</td>\n",
       "      <td>0.886111</td>\n",
       "      <td>0.022222</td>\n",
       "      <td>0.050000</td>\n",
       "      <td>0.041667</td>\n",
       "      <td>0.283333</td>\n",
       "      <td>0.213889</td>\n",
       "      <td>0.500000</td>\n",
       "      <td>0.419444</td>\n",
       "      <td>0.580556</td>\n",
       "    </tr>\n",
       "    <tr>\n",
       "      <th>51</th>\n",
       "      <td>33.857895</td>\n",
       "      <td>16.677193</td>\n",
       "      <td>2.168421</td>\n",
       "      <td>2.877193</td>\n",
       "      <td>0.278947</td>\n",
       "      <td>0.307018</td>\n",
       "      <td>0.121053</td>\n",
       "      <td>0.085965</td>\n",
       "      <td>0.012281</td>\n",
       "      <td>0.138596</td>\n",
       "      <td>...</td>\n",
       "      <td>0.496491</td>\n",
       "      <td>0.652632</td>\n",
       "      <td>0.094737</td>\n",
       "      <td>0.173684</td>\n",
       "      <td>0.078947</td>\n",
       "      <td>0.096491</td>\n",
       "      <td>0.215789</td>\n",
       "      <td>0.687719</td>\n",
       "      <td>0.296491</td>\n",
       "      <td>0.703509</td>\n",
       "    </tr>\n",
       "  </tbody>\n",
       "</table>\n",
       "<p>3 rows × 134 columns</p>\n",
       "</div>"
      ],
      "text/plain": [
       "               age      hcows       edu  hwithdraw  alcdisorder  cocdisorder  \\\n",
       "project                                                                        \n",
       "27       36.881196  12.789223  2.085890   2.473059     0.212903     0.323102   \n",
       "30       32.058333  13.041899  2.227778   2.469274     0.108333     0.077778   \n",
       "51       33.857895  16.677193  2.168421   2.877193     0.278947     0.307018   \n",
       "\n",
       "         hasBrainDamage  hasEpilepsy  hasSchiz  hasBipolar  ...  \\\n",
       "project                                                     ...   \n",
       "27             0.091483     0.031471  0.025217    0.115748  ...   \n",
       "30             0.175000     0.025000  0.002793    0.058496  ...   \n",
       "51             0.121053     0.085965  0.012281    0.138596  ...   \n",
       "\n",
       "         medicine_assigned_nal   xrace_1   xrace_2   xrace_3   xrace_4  \\\n",
       "project                                                                  \n",
       "27                    0.000000  0.675846  0.085759  0.162077  0.076318   \n",
       "30                    0.000000  0.886111  0.022222  0.050000  0.041667   \n",
       "51                    0.496491  0.652632  0.094737  0.173684  0.078947   \n",
       "\n",
       "          mar_1.0   mar_2.0   mar_3.0  sex_female  sex_male  \n",
       "project                                                      \n",
       "27       0.020456  0.037766  0.069237    0.322581  0.677419  \n",
       "30       0.283333  0.213889  0.500000    0.419444  0.580556  \n",
       "51       0.096491  0.215789  0.687719    0.296491  0.703509  \n",
       "\n",
       "[3 rows x 134 columns]"
      ]
     },
     "execution_count": 225,
     "metadata": {},
     "output_type": "execute_result"
    }
   ],
   "source": [
    "pd.get_dummies(baseline_harmonized, columns=[treatment_col] + discrete_cov).groupby(\n",
    "    by=[\"project\"]\n",
    ").mean()"
   ]
  },
  {
   "cell_type": "markdown",
   "id": "fd98a5a8-b932-4306-8293-c6e2b18d9941",
   "metadata": {},
   "source": [
    "## TEDS-A vs CTN 27"
   ]
  },
  {
   "cell_type": "code",
   "execution_count": 226,
   "id": "26d8391e-fa1c-4772-a289-837e6279d88f",
   "metadata": {
    "tags": []
   },
   "outputs": [
    {
     "data": {
      "text/html": [
       "<div>\n",
       "<style scoped>\n",
       "    .dataframe tbody tr th:only-of-type {\n",
       "        vertical-align: middle;\n",
       "    }\n",
       "\n",
       "    .dataframe tbody tr th {\n",
       "        vertical-align: top;\n",
       "    }\n",
       "\n",
       "    .dataframe thead th {\n",
       "        text-align: right;\n",
       "    }\n",
       "</style>\n",
       "<table border=\"1\" class=\"dataframe\">\n",
       "  <thead>\n",
       "    <tr style=\"text-align: right;\">\n",
       "      <th></th>\n",
       "      <th>opioiduse12</th>\n",
       "      <th>opioiduse24</th>\n",
       "    </tr>\n",
       "    <tr>\n",
       "      <th>med_met</th>\n",
       "      <th></th>\n",
       "      <th></th>\n",
       "    </tr>\n",
       "  </thead>\n",
       "  <tbody>\n",
       "    <tr>\n",
       "      <th>0</th>\n",
       "      <td>0.629380</td>\n",
       "      <td>0.750674</td>\n",
       "    </tr>\n",
       "    <tr>\n",
       "      <th>1</th>\n",
       "      <td>0.553875</td>\n",
       "      <td>0.650284</td>\n",
       "    </tr>\n",
       "  </tbody>\n",
       "</table>\n",
       "</div>"
      ],
      "text/plain": [
       "         opioiduse12  opioiduse24\n",
       "med_met                          \n",
       "0           0.629380     0.750674\n",
       "1           0.553875     0.650284"
      ]
     },
     "execution_count": 226,
     "metadata": {},
     "output_type": "execute_result"
    }
   ],
   "source": [
    "ct94 = baseline_harmonized.loc[(baseline_harmonized[\"project\"] == 27)]\n",
    "outcome94 = ct94[outcome_cols]\n",
    "\n",
    "common_cols = set.intersection(set(df_tedsa.columns), set(ct94.columns))\n",
    "\n",
    "df_tedsa_cc = df_tedsa[common_cols]\n",
    "df_tedsa_cc[\"S\"] = 0\n",
    "ct94_cc = ct94[common_cols].fillna(0)\n",
    "ct94_cc[\"med_met\"] = (\n",
    "    (ct94[treatment_col] == \"met\").astype(int).fillna(0)\n",
    ")  # methadone = 1 and bupenorphine = 0\n",
    "ct94_cc[\"sex\"] = (ct94[\"sex\"] == \"male\").astype(int)  # male = 1 and female = 0\n",
    "\n",
    "# invert age categories\n",
    "df_tedsa_cc[\"age\"].replace(\n",
    "    {\n",
    "        1: 13,\n",
    "        2: 16,\n",
    "        3: 18,\n",
    "        4: 22,\n",
    "        5: 27,\n",
    "        6: 32,\n",
    "        7: 37,\n",
    "        8: 42,\n",
    "        9: 47,\n",
    "        10: 52,\n",
    "        11: 60,\n",
    "        12: 68,\n",
    "    },\n",
    "    inplace=True,\n",
    ")\n",
    "\n",
    "ct94_cc[\"S\"] = 1\n",
    "ct94_cc = ct94_cc.astype(int)\n",
    "\n",
    "ct94_cc = ct94_cc.join(outcome94, how=\"inner\")\n",
    "\n",
    "ct94_cc.groupby(by=\"med_met\").mean()[outcome_cols]"
   ]
  },
  {
   "cell_type": "code",
   "execution_count": 227,
   "id": "7ccfd592-9b94-4a57-80a7-4ca0af2dfadb",
   "metadata": {
    "tags": []
   },
   "outputs": [
    {
     "name": "stdout",
     "output_type": "stream",
     "text": [
      "(-0.1003903005722031, 0.05123408063788226)\n"
     ]
    }
   ],
   "source": [
    "print(\n",
    "    (\n",
    "        ct94_cc.loc[ct94_cc[\"med_met\"] == 1, outcome_cols[1]].mean()\n",
    "        - ct94_cc.loc[ct94_cc[\"med_met\"] == 0, outcome_cols[1]].mean(),\n",
    "        1.96\n",
    "        * np.sqrt(\n",
    "            ct94_cc.loc[ct94_cc[\"med_met\"] == 1, outcome_cols[1]].var()\n",
    "            / ct94_cc.loc[ct94_cc[\"med_met\"] == 1, outcome_cols[1]].shape[0]\n",
    "            + ct94_cc.loc[ct94_cc[\"med_met\"] == 0, outcome_cols[1]].var()\n",
    "            / ct94_cc.loc[ct94_cc[\"med_met\"] == 0, outcome_cols[1]].shape[0]\n",
    "        ),\n",
    "    )\n",
    ")"
   ]
  },
  {
   "cell_type": "code",
   "execution_count": 297,
   "id": "2b1ab1f9-97e4-458f-a8e5-4a463a3194ab",
   "metadata": {
    "tags": []
   },
   "outputs": [],
   "source": [
    "df_primary = pd.concat([df_tedsa_cc.sample(frac=0.05), ct94_cc])\n",
    "\n",
    "df_ = df_primary.drop(columns=[outcome_cols[0]]).fillna(0)\n",
    "\n",
    "outcome = outcome_cols[1]\n",
    "treatment = \"med_met\"\n",
    "sample = \"S\"\n",
    "data = df_\n",
    "S = df_[sample]  # indicator for the sample\n",
    "Y = df_[outcome]  # outcome variable\n",
    "T = df_[treatment]  # indicator for the treatment\n",
    "\n",
    "data_dummy = pd.get_dummies(data, columns=[\"xrace\", \"mar\"])\n",
    "data_dummy[\"Education(12y)\"] = (data_dummy[\"edu\"] >= 2).astype(int)\n",
    "data_dummy.drop(columns=[\"edu\", \"mar_0\"], inplace=True)\n",
    "data_dummy.rename(\n",
    "    columns={\n",
    "        \"sex\": \"Sex\",\n",
    "        \"age\": \"Age\",\n",
    "        \"ivdrug\": \"IV Drug Use\",\n",
    "        \"bamphetamine30_base\": \"Hx Amphetamine\",\n",
    "        \"bbenzo30_base\": \"Hx Benzo\",\n",
    "        \"bcannabis30_base\": \"Hx Cannabis\",\n",
    "        \"xrace_1\": \"White\",\n",
    "        \"xrace_2\": \"Black\",\n",
    "        \"xrace_3\": \"Hispanic\",\n",
    "        \"xrace_4\": \"Other Race\",\n",
    "        \"mar_1\": \"Married\",\n",
    "        \"mar_2\": \"Divorced/Separated\",\n",
    "        \"mar_3\": \"Single\",\n",
    "    },\n",
    "    inplace=True,\n",
    ")\n",
    "\n",
    "X = data_dummy.drop(columns=[outcome, treatment, sample])  # pre-treatment covariates"
   ]
  },
  {
   "cell_type": "code",
   "execution_count": 298,
   "id": "8ea83eba-3c25-4207-803a-0a85f127e3c8",
   "metadata": {
    "tags": []
   },
   "outputs": [
    {
     "data": {
      "text/plain": [
       "(38272, 14)"
      ]
     },
     "execution_count": 298,
     "metadata": {},
     "output_type": "execute_result"
    }
   ],
   "source": [
    "X.shape"
   ]
  },
  {
   "cell_type": "code",
   "execution_count": 311,
   "id": "794b9e61-e94d-4afa-abbb-e98e624a5f63",
   "metadata": {
    "tags": []
   },
   "outputs": [
    {
     "name": "stdout",
     "output_type": "stream",
     "text": [
      "Fold 0\n",
      "Fold 1\n",
      "Fold 2\n",
      "Fold 3\n",
      "Fold 4\n",
      "Fold 5\n",
      "Fold 6\n",
      "Fold 7\n",
      "Fold 8\n",
      "Fold 9\n",
      "         te     te_sq\n",
      "S                    \n",
      "0 -0.099752  0.077771\n",
      "1 -0.002787  5.158594\n"
     ]
    }
   ],
   "source": [
    "importlib.reload(learn)\n",
    "df_v, pi, pi_m, mu_1_m, mu_0_m, e_m, data2 = learn.estimate_dml(\n",
    "    data_dummy, outcome, treatment, sample, crossfit=10\n",
    ")"
   ]
  },
  {
   "cell_type": "code",
   "execution_count": 318,
   "id": "1a1ac990-4db7-4eac-aeca-54047cc86805",
   "metadata": {
    "tags": []
   },
   "outputs": [
    {
     "name": "stdout",
     "output_type": "stream",
     "text": [
      "         te     te_sq\n",
      "S                    \n",
      "0 -0.099752  0.077771\n",
      "1 -0.002787  5.158594\n",
      "te      -0.096532\n",
      "te_sq    0.246504\n",
      "S        0.033210\n",
      "dtype: float64\n"
     ]
    }
   ],
   "source": [
    "print(df_v.join(S).groupby(by=\"S\").mean())\n",
    "print(df_v.join(S).mean())"
   ]
  },
  {
   "cell_type": "code",
   "execution_count": 367,
   "id": "05894cc0-7e01-432e-8c14-1c189ecbc9be",
   "metadata": {
    "tags": []
   },
   "outputs": [
    {
     "name": "stdout",
     "output_type": "stream",
     "text": [
      "Fold 0\n",
      "Fold 1\n",
      "Fold 2\n",
      "Fold 3\n",
      "Fold 4\n",
      "ATE Est: -0.0864\n",
      "leaf                  0.500000\n",
      "IV Drug Use           0.065458\n",
      "Sex                   0.041614\n",
      "Age                   0.001368\n",
      "Hx Cannabis           0.004477\n",
      "Hx Benzo              0.019775\n",
      "Hx Amphetamine        0.033308\n",
      "White                 0.036877\n",
      "Black                 0.093395\n",
      "Hispanic              0.003925\n",
      "Other Race            0.052593\n",
      "Married               0.024202\n",
      "Divorced/Separated    0.002751\n",
      "Single                0.038964\n",
      "Education(12y)        0.081293\n",
      "dtype: float64\n",
      "Baseline Objective:0.0027\n"
     ]
    }
   ],
   "source": [
    "importlib.reload(learn)\n",
    "# D, w_tree, testing_data = learn.tree_opt(data, outcome, treatment, sample, leaf_proba=1)\n",
    "D_rash, D_forest, w_forest, rashomon_set, f, testing_data = learn.forest_opt(\n",
    "    data=data_dummy,\n",
    "    outcome=outcome,\n",
    "    treatment=treatment,\n",
    "    sample=sample,\n",
    "    leaf_proba=1,\n",
    "    num_trees=3000,\n",
    "    vote_threshold=1 / 2,\n",
    "    # top_k_trees=True,\n",
    "    # k=50,\n",
    ")\n",
    "\n",
    "baseline_loss = np.sqrt(np.sum(D_forest[\"vsq\"]) / ((D_forest.shape[0] ** 2)))\n",
    "print(\"Baseline Objective:%.4f\" % (baseline_loss))"
   ]
  },
  {
   "cell_type": "code",
   "execution_count": 368,
   "id": "51b4744b-b6ea-4627-a5aa-19c99867b556",
   "metadata": {
    "tags": []
   },
   "outputs": [
    {
     "name": "stdout",
     "output_type": "stream",
     "text": [
      "Number of Selected Trees: 17\n"
     ]
    },
    {
     "data": {
      "image/png": "[encoded data removed]",
      "text/plain": [
       "<Figure size 1000x2100 with 3 Axes>"
      ]
     },
     "metadata": {},
     "output_type": "display_data"
    }
   ],
   "source": [
    "w_rash = [\n",
    "    \"w_tree_%d\" % (i)\n",
    "    for i in range(len(w_forest))\n",
    "    if w_forest[i][\"local objective\"] < 0.875 * baseline_loss\n",
    "]\n",
    "print(\"Number of Selected Trees: %d\" % (len(w_rash)))\n",
    "avg_votes = (D_forest[w_rash].mean(axis=1) >= 0.25).astype(int)\n",
    "\n",
    "explainer = en.AdaBoostRegressor().fit(X.loc[avg_votes.index], avg_votes)\n",
    "\n",
    "len(explainer.estimators_)\n",
    "\n",
    "num_trees = min(3, len(explainer.estimators_))\n",
    "fig, ax = plt.subplots(nrows=num_trees, figsize=(10, 7 * num_trees))\n",
    "for i in range(num_trees):\n",
    "    if num_trees == 1:\n",
    "        tree.plot_tree(\n",
    "            explainer.estimators_[i],\n",
    "            feature_names=X.columns,\n",
    "            ax=ax,\n",
    "            filled=True,\n",
    "            fontsize=10,\n",
    "            # proportion=True,\n",
    "        )\n",
    "    else:\n",
    "        tree.plot_tree(\n",
    "            explainer.estimators_[i],\n",
    "            feature_names=X.columns,\n",
    "            ax=ax[i],\n",
    "            filled=True,\n",
    "            fontsize=10,\n",
    "            # proportion=True,\n",
    "        )\n",
    "plt.savefig(\"tedsa_ctn27_2.pdf\")"
   ]
  },
  {
   "cell_type": "code",
   "execution_count": 384,
   "id": "4d864403-e6d2-4837-8700-b8b01ad72c62",
   "metadata": {
    "tags": []
   },
   "outputs": [
    {
     "data": {
      "text/html": [
       "<div>\n",
       "<style scoped>\n",
       "    .dataframe tbody tr th:only-of-type {\n",
       "        vertical-align: middle;\n",
       "    }\n",
       "\n",
       "    .dataframe tbody tr th {\n",
       "        vertical-align: top;\n",
       "    }\n",
       "\n",
       "    .dataframe thead th {\n",
       "        text-align: right;\n",
       "    }\n",
       "</style>\n",
       "<table border=\"1\" class=\"dataframe\">\n",
       "  <thead>\n",
       "    <tr style=\"text-align: right;\">\n",
       "      <th></th>\n",
       "      <th></th>\n",
       "      <th></th>\n",
       "      <th>v</th>\n",
       "      <th>vsq</th>\n",
       "      <th>l(X)</th>\n",
       "    </tr>\n",
       "    <tr>\n",
       "      <th>Black</th>\n",
       "      <th>IV Drug Use</th>\n",
       "      <th>Sex</th>\n",
       "      <th></th>\n",
       "      <th></th>\n",
       "      <th></th>\n",
       "    </tr>\n",
       "  </thead>\n",
       "  <tbody>\n",
       "    <tr>\n",
       "      <th rowspan=\"4\" valign=\"top\">0</th>\n",
       "      <th rowspan=\"2\" valign=\"top\">0</th>\n",
       "      <th>0</th>\n",
       "      <td>-0.054668</td>\n",
       "      <td>0.172890</td>\n",
       "      <td>0.295995</td>\n",
       "    </tr>\n",
       "    <tr>\n",
       "      <th>1</th>\n",
       "      <td>0.037702</td>\n",
       "      <td>0.280574</td>\n",
       "      <td>0.460871</td>\n",
       "    </tr>\n",
       "    <tr>\n",
       "      <th rowspan=\"2\" valign=\"top\">1</th>\n",
       "      <th>0</th>\n",
       "      <td>-0.206107</td>\n",
       "      <td>0.179970</td>\n",
       "      <td>0.787740</td>\n",
       "    </tr>\n",
       "    <tr>\n",
       "      <th>1</th>\n",
       "      <td>-0.127103</td>\n",
       "      <td>0.243849</td>\n",
       "      <td>1.467601</td>\n",
       "    </tr>\n",
       "    <tr>\n",
       "      <th rowspan=\"4\" valign=\"top\">1</th>\n",
       "      <th rowspan=\"2\" valign=\"top\">0</th>\n",
       "      <th>0</th>\n",
       "      <td>-0.031496</td>\n",
       "      <td>0.119865</td>\n",
       "      <td>0.061230</td>\n",
       "    </tr>\n",
       "    <tr>\n",
       "      <th>1</th>\n",
       "      <td>0.006661</td>\n",
       "      <td>0.080324</td>\n",
       "      <td>0.122885</td>\n",
       "    </tr>\n",
       "    <tr>\n",
       "      <th rowspan=\"2\" valign=\"top\">1</th>\n",
       "      <th>0</th>\n",
       "      <td>-0.177581</td>\n",
       "      <td>4.646773</td>\n",
       "      <td>0.270809</td>\n",
       "    </tr>\n",
       "    <tr>\n",
       "      <th>1</th>\n",
       "      <td>-0.081737</td>\n",
       "      <td>0.160134</td>\n",
       "      <td>0.665295</td>\n",
       "    </tr>\n",
       "  </tbody>\n",
       "</table>\n",
       "</div>"
      ],
      "text/plain": [
       "                              v       vsq      l(X)\n",
       "Black IV Drug Use Sex                              \n",
       "0     0           0   -0.054668  0.172890  0.295995\n",
       "                  1    0.037702  0.280574  0.460871\n",
       "      1           0   -0.206107  0.179970  0.787740\n",
       "                  1   -0.127103  0.243849  1.467601\n",
       "1     0           0   -0.031496  0.119865  0.061230\n",
       "                  1    0.006661  0.080324  0.122885\n",
       "      1           0   -0.177581  4.646773  0.270809\n",
       "                  1   -0.081737  0.160134  0.665295"
      ]
     },
     "execution_count": 384,
     "metadata": {},
     "output_type": "execute_result"
    }
   ],
   "source": [
    "X.join(S).join(D_forest[[\"v\", \"vsq\", \"l(X)\"]]).groupby(\n",
    "    by=[\"Black\", \"IV Drug Use\", \"Sex\"]\n",
    ").mean()[\n",
    "    [\"v\", \"vsq\", \"l(X)\"]\n",
    "]  # .sort_values(by=\"l(X)\", ascending=False)"
   ]
  },
  {
   "cell_type": "code",
   "execution_count": 383,
   "id": "3be08070-ec45-4139-93c2-6b1475a282b8",
   "metadata": {
    "tags": []
   },
   "outputs": [
    {
     "data": {
      "text/html": [
       "<div>\n",
       "<style scoped>\n",
       "    .dataframe tbody tr th:only-of-type {\n",
       "        vertical-align: middle;\n",
       "    }\n",
       "\n",
       "    .dataframe tbody tr th {\n",
       "        vertical-align: top;\n",
       "    }\n",
       "\n",
       "    .dataframe thead th {\n",
       "        text-align: right;\n",
       "    }\n",
       "</style>\n",
       "<table border=\"1\" class=\"dataframe\">\n",
       "  <thead>\n",
       "    <tr style=\"text-align: right;\">\n",
       "      <th></th>\n",
       "      <th></th>\n",
       "      <th></th>\n",
       "      <th>v</th>\n",
       "      <th>vsq</th>\n",
       "      <th>l(X)</th>\n",
       "    </tr>\n",
       "    <tr>\n",
       "      <th>Black</th>\n",
       "      <th>IV Drug Use</th>\n",
       "      <th>Sex</th>\n",
       "      <th></th>\n",
       "      <th></th>\n",
       "      <th></th>\n",
       "    </tr>\n",
       "  </thead>\n",
       "  <tbody>\n",
       "    <tr>\n",
       "      <th rowspan=\"4\" valign=\"top\">0</th>\n",
       "      <th rowspan=\"2\" valign=\"top\">0</th>\n",
       "      <th>0</th>\n",
       "      <td>1.600000</td>\n",
       "      <td>1.600000</td>\n",
       "      <td>1.600000</td>\n",
       "    </tr>\n",
       "    <tr>\n",
       "      <th>1</th>\n",
       "      <td>1.176471</td>\n",
       "      <td>1.176471</td>\n",
       "      <td>1.176471</td>\n",
       "    </tr>\n",
       "    <tr>\n",
       "      <th rowspan=\"2\" valign=\"top\">1</th>\n",
       "      <th>0</th>\n",
       "      <td>1.000000</td>\n",
       "      <td>1.000000</td>\n",
       "      <td>1.000000</td>\n",
       "    </tr>\n",
       "    <tr>\n",
       "      <th>1</th>\n",
       "      <td>0.666667</td>\n",
       "      <td>0.666667</td>\n",
       "      <td>0.666667</td>\n",
       "    </tr>\n",
       "    <tr>\n",
       "      <th rowspan=\"4\" valign=\"top\">1</th>\n",
       "      <th rowspan=\"2\" valign=\"top\">0</th>\n",
       "      <th>0</th>\n",
       "      <td>5.000000</td>\n",
       "      <td>5.000000</td>\n",
       "      <td>5.000000</td>\n",
       "    </tr>\n",
       "    <tr>\n",
       "      <th>1</th>\n",
       "      <td>3.000000</td>\n",
       "      <td>3.000000</td>\n",
       "      <td>3.000000</td>\n",
       "    </tr>\n",
       "    <tr>\n",
       "      <th rowspan=\"2\" valign=\"top\">1</th>\n",
       "      <th>0</th>\n",
       "      <td>2.000000</td>\n",
       "      <td>2.000000</td>\n",
       "      <td>2.000000</td>\n",
       "    </tr>\n",
       "    <tr>\n",
       "      <th>1</th>\n",
       "      <td>0.750000</td>\n",
       "      <td>0.750000</td>\n",
       "      <td>0.750000</td>\n",
       "    </tr>\n",
       "  </tbody>\n",
       "</table>\n",
       "</div>"
      ],
      "text/plain": [
       "                              v       vsq      l(X)\n",
       "Black IV Drug Use Sex                              \n",
       "0     0           0    1.600000  1.600000  1.600000\n",
       "                  1    1.176471  1.176471  1.176471\n",
       "      1           0    1.000000  1.000000  1.000000\n",
       "                  1    0.666667  0.666667  0.666667\n",
       "1     0           0    5.000000  5.000000  5.000000\n",
       "                  1    3.000000  3.000000  3.000000\n",
       "      1           0    2.000000  2.000000  2.000000\n",
       "                  1    0.750000  0.750000  0.750000"
      ]
     },
     "execution_count": 383,
     "metadata": {},
     "output_type": "execute_result"
    }
   ],
   "source": [
    "(\n",
    "    X.join(D_forest[[\"v\", \"vsq\", \"l(X)\", \"S\"]])\n",
    "    .loc[D_forest[\"S\"] == 0]\n",
    "    .groupby(by=[\"Black\", \"IV Drug Use\", \"Sex\"])\n",
    "    .count()[[\"v\", \"vsq\", \"l(X)\"]]\n",
    "    / (X.join(D_forest[[\"v\", \"vsq\", \"l(X)\", \"S\"]]).loc[D_forest[\"S\"] == 0].shape[0])\n",
    ").round(2) / (\n",
    "    X.join(D_forest[[\"v\", \"vsq\", \"l(X)\", \"S\"]])\n",
    "    .loc[D_forest[\"S\"] == 1]\n",
    "    .groupby(by=[\"Black\", \"IV Drug Use\", \"Sex\"])\n",
    "    .count()[[\"v\", \"vsq\", \"l(X)\"]]\n",
    "    / (X.join(D_forest[[\"v\", \"vsq\", \"l(X)\", \"S\"]]).loc[D_forest[\"S\"] == 1].shape[0])\n",
    ").round(\n",
    "    2\n",
    ")"
   ]
  },
  {
   "cell_type": "code",
   "execution_count": 380,
   "id": "7d5af1f8-a723-498d-9235-7b557a812e1a",
   "metadata": {
    "tags": []
   },
   "outputs": [
    {
     "data": {
      "text/html": [
       "<div>\n",
       "<style scoped>\n",
       "    .dataframe tbody tr th:only-of-type {\n",
       "        vertical-align: middle;\n",
       "    }\n",
       "\n",
       "    .dataframe tbody tr th {\n",
       "        vertical-align: top;\n",
       "    }\n",
       "\n",
       "    .dataframe thead th {\n",
       "        text-align: right;\n",
       "    }\n",
       "</style>\n",
       "<table border=\"1\" class=\"dataframe\">\n",
       "  <thead>\n",
       "    <tr style=\"text-align: right;\">\n",
       "      <th></th>\n",
       "      <th></th>\n",
       "      <th></th>\n",
       "      <th>v</th>\n",
       "      <th>vsq</th>\n",
       "      <th>l(X)</th>\n",
       "    </tr>\n",
       "    <tr>\n",
       "      <th>Black</th>\n",
       "      <th>IV Drug Use</th>\n",
       "      <th>Sex</th>\n",
       "      <th></th>\n",
       "      <th></th>\n",
       "      <th></th>\n",
       "    </tr>\n",
       "  </thead>\n",
       "  <tbody>\n",
       "    <tr>\n",
       "      <th rowspan=\"4\" valign=\"top\">0</th>\n",
       "      <th rowspan=\"2\" valign=\"top\">0</th>\n",
       "      <th>0</th>\n",
       "      <td>0.16</td>\n",
       "      <td>0.16</td>\n",
       "      <td>0.16</td>\n",
       "    </tr>\n",
       "    <tr>\n",
       "      <th>1</th>\n",
       "      <td>0.20</td>\n",
       "      <td>0.20</td>\n",
       "      <td>0.20</td>\n",
       "    </tr>\n",
       "    <tr>\n",
       "      <th rowspan=\"2\" valign=\"top\">1</th>\n",
       "      <th>0</th>\n",
       "      <td>0.20</td>\n",
       "      <td>0.20</td>\n",
       "      <td>0.20</td>\n",
       "    </tr>\n",
       "    <tr>\n",
       "      <th>1</th>\n",
       "      <td>0.30</td>\n",
       "      <td>0.30</td>\n",
       "      <td>0.30</td>\n",
       "    </tr>\n",
       "    <tr>\n",
       "      <th rowspan=\"4\" valign=\"top\">1</th>\n",
       "      <th rowspan=\"2\" valign=\"top\">0</th>\n",
       "      <th>0</th>\n",
       "      <td>0.05</td>\n",
       "      <td>0.05</td>\n",
       "      <td>0.05</td>\n",
       "    </tr>\n",
       "    <tr>\n",
       "      <th>1</th>\n",
       "      <td>0.06</td>\n",
       "      <td>0.06</td>\n",
       "      <td>0.06</td>\n",
       "    </tr>\n",
       "    <tr>\n",
       "      <th rowspan=\"2\" valign=\"top\">1</th>\n",
       "      <th>0</th>\n",
       "      <td>0.02</td>\n",
       "      <td>0.02</td>\n",
       "      <td>0.02</td>\n",
       "    </tr>\n",
       "    <tr>\n",
       "      <th>1</th>\n",
       "      <td>0.03</td>\n",
       "      <td>0.03</td>\n",
       "      <td>0.03</td>\n",
       "    </tr>\n",
       "  </tbody>\n",
       "</table>\n",
       "</div>"
      ],
      "text/plain": [
       "                          v   vsq  l(X)\n",
       "Black IV Drug Use Sex                  \n",
       "0     0           0    0.16  0.16  0.16\n",
       "                  1    0.20  0.20  0.20\n",
       "      1           0    0.20  0.20  0.20\n",
       "                  1    0.30  0.30  0.30\n",
       "1     0           0    0.05  0.05  0.05\n",
       "                  1    0.06  0.06  0.06\n",
       "      1           0    0.02  0.02  0.02\n",
       "                  1    0.03  0.03  0.03"
      ]
     },
     "execution_count": 380,
     "metadata": {},
     "output_type": "execute_result"
    }
   ],
   "source": [
    "(\n",
    "    X.join(D_forest[[\"v\", \"vsq\", \"l(X)\", \"S\"]])\n",
    "    .loc[D_forest[\"S\"] == 0]\n",
    "    .groupby(by=[\"Black\", \"IV Drug Use\", \"Sex\"])\n",
    "    .count()[[\"v\", \"vsq\", \"l(X)\"]]\n",
    "    / (X.join(D_forest[[\"v\", \"vsq\", \"l(X)\", \"S\"]]).loc[D_forest[\"S\"] == 0].shape[0])\n",
    ").round(2)"
   ]
  },
  {
   "cell_type": "code",
   "execution_count": 317,
   "id": "71ee2518-1167-44d0-972d-5b19724de516",
   "metadata": {
    "tags": []
   },
   "outputs": [
    {
     "name": "stdout",
     "output_type": "stream",
     "text": [
      "Pre Pruning, SATE: -10.04 ± 7.18\n",
      "Pre Pruning, ATTE: -8.64 ± 0.53\n",
      "Post Pruning, ATTE: -8.97 ± 0.50\n"
     ]
    }
   ],
   "source": [
    "print(\n",
    "    r\"Pre Pruning, SATE: %.2f ± %.2f\"\n",
    "    % (\n",
    "        100\n",
    "        * (\n",
    "            df_.loc[(df_[sample] == 1) * (df_[treatment] == 1), outcome].mean()\n",
    "            - df_.loc[(df_[sample] == 1) * (df_[treatment] == 0), outcome].mean()\n",
    "        ),\n",
    "        100\n",
    "        * 1.96\n",
    "        * (\n",
    "            df_.loc[(df_[sample] == 1) * (df_[treatment] == 1), outcome].sem()\n",
    "            + df_.loc[(df_[sample] == 1) * (df_[treatment] == 0), outcome].sem()\n",
    "        ),\n",
    "    )\n",
    ")\n",
    "\n",
    "print(\n",
    "    r\"Pre Pruning, ATTE: %.2f ± %.2f\"\n",
    "    % (\n",
    "        100 * D_rash[\"v\"].mean(),\n",
    "        100 * 1.96 * np.sqrt(D_rash[\"vsq\"].mean() / D_rash[\"w_opt\"].count()),\n",
    "    )\n",
    ")\n",
    "\n",
    "print(\n",
    "    r\"Post Pruning, ATTE: %.2f ± %.2f\"\n",
    "    % (\n",
    "        100 * D_rash[\"v\"].loc[D_rash[\"w_opt\"] == 1].mean(),\n",
    "        100\n",
    "        * 1.96\n",
    "        * np.sqrt(\n",
    "            D_rash[\"vsq\"].loc[D_rash[\"w_opt\"] == 1].mean() / D_rash[\"w_opt\"].sum()\n",
    "        ),\n",
    "    )\n",
    ")"
   ]
  },
  {
   "cell_type": "code",
   "execution_count": 346,
   "id": "ef33816f-f1f6-4b54-a3f2-9ff872c1e0c9",
   "metadata": {
    "tags": []
   },
   "outputs": [],
   "source": [
    "selection_score = lm.LogisticRegressionCV().fit(X, S)"
   ]
  },
  {
   "cell_type": "code",
   "execution_count": 365,
   "id": "03d343da-febe-44c2-88b7-a1cbd3d4c571",
   "metadata": {
    "tags": []
   },
   "outputs": [],
   "source": [
    "pop_interest = (X[\"Black\"] == 0) * (X[\"IV Drug Use\"] == 0)  # * (X[\"Sex\"] == 0)\n",
    "X_interest = X.loc[pop_interest]\n",
    "S_interest = S.loc[pop_interest]"
   ]
  },
  {
   "cell_type": "code",
   "execution_count": 366,
   "id": "6644148c-f12d-403e-a10c-d94ae52de9a8",
   "metadata": {
    "tags": []
   },
   "outputs": [
    {
     "data": {
      "text/plain": [
       "(0.3873306196626835, 0.025555471297489953)"
      ]
     },
     "execution_count": 366,
     "metadata": {},
     "output_type": "execute_result"
    }
   ],
   "source": [
    "(\n",
    "    np.mean(\n",
    "        selection_score.predict_proba(X_interest)[:, 1]\n",
    "        / selection_score.predict_proba(X_interest)[:, 0]\n",
    "    ),\n",
    "    S_interest.mean() / (1 - S_interest.mean()),\n",
    ")"
   ]
  },
  {
   "cell_type": "markdown",
   "id": "8b090845-e21b-483c-9456-eaf972e09fe8",
   "metadata": {},
   "source": [
    "Thoughts:\n",
    "* TEDSA (observational data) has fewer covariates than experimental sample. Maybe there is different and interesting question here?"
   ]
  },
  {
   "cell_type": "code",
   "execution_count": 358,
   "id": "01a8c052-1f47-4f03-887d-3d4dd4e6c635",
   "metadata": {},
   "outputs": [
    {
     "data": {
      "text/plain": [
       "3065250    False\n",
       "4694296    False\n",
       "4763008    False\n",
       "5206960    False\n",
       "4741349    False\n",
       "           ...  \n",
       "1933       False\n",
       "1934       False\n",
       "1935       False\n",
       "1936       False\n",
       "1937       False\n",
       "Length: 38272, dtype: bool"
      ]
     },
     "execution_count": 358,
     "metadata": {},
     "output_type": "execute_result"
    }
   ],
   "source": [
    "pop_interest"
   ]
  },
  {
   "cell_type": "code",
   "execution_count": null,
   "id": "68db200a-6129-47e5-8038-9a5542f7b381",
   "metadata": {},
   "outputs": [],
   "source": []
  }
 ],
 "metadata": {
  "kernelspec": {
   "display_name": "Python 3 (ipykernel)",
   "language": "python",
   "name": "python3"
  },
  "language_info": {
   "codemirror_mode": {
    "name": "ipython",
    "version": 3
   },
   "file_extension": ".py",
   "mimetype": "text/x-python",
   "name": "python",
   "nbconvert_exporter": "python",
   "pygments_lexer": "ipython3",
   "version": "3.10.9"
  }
 },
 "nbformat": 4,
 "nbformat_minor": 5
}
