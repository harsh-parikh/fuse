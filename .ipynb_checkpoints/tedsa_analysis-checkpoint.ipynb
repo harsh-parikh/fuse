{
 "cells": [
  {
   "cell_type": "code",
   "execution_count": 1,
   "id": "949d8262-5e51-4d35-a8bb-7acfd4fe5d11",
   "metadata": {
    "tags": []
   },
   "outputs": [
    {
     "data": {
      "text/html": [
       "\n",
       "                <script type=\"application/javascript\" id=\"jupyter_black\">\n",
       "                (function() {\n",
       "                    if (window.IPython === undefined) {\n",
       "                        return\n",
       "                    }\n",
       "                    var msg = \"WARNING: it looks like you might have loaded \" +\n",
       "                        \"jupyter_black in a non-lab notebook with \" +\n",
       "                        \"`is_lab=True`. Please double check, and if \" +\n",
       "                        \"loading with `%load_ext` please review the README!\"\n",
       "                    console.log(msg)\n",
       "                    alert(msg)\n",
       "                })()\n",
       "                </script>\n",
       "                "
      ],
      "text/plain": [
       "<IPython.core.display.HTML object>"
      ]
     },
     "metadata": {},
     "output_type": "display_data"
    }
   ],
   "source": [
    "import numpy as np\n",
    "import pandas as pd\n",
    "import matplotlib.pyplot as plt\n",
    "from matplotlib.patches import Rectangle\n",
    "import seaborn as sns\n",
    "import scipy.special as sp\n",
    "import sklearn.datasets as datasets\n",
    "import sklearn.linear_model as lm\n",
    "import sklearn.ensemble as en\n",
    "import sklearn.tree as tree\n",
    "from sklearn.model_selection import train_test_split\n",
    "from sklearn.impute import KNNImputer\n",
    "import econml\n",
    "import importlib\n",
    "import pyreadr\n",
    "\n",
    "#### data generation packages\n",
    "import strawman_edge\n",
    "import strawman_center\n",
    "import all_linear\n",
    "\n",
    "#### main packages\n",
    "import characterize\n",
    "import estimate_atte as est\n",
    "import learn_w as learn\n",
    "import black\n",
    "\n",
    "importlib.reload(est)\n",
    "importlib.reload(learn)\n",
    "\n",
    "import warnings\n",
    "\n",
    "warnings.filterwarnings(\"ignore\")\n",
    "\n",
    "%load_ext jupyter_black\n",
    "sns.set(font_scale=1.25, style=\"whitegrid\")\n",
    "np.random.seed(0)"
   ]
  },
  {
   "cell_type": "markdown",
   "id": "034bf21f-4fa4-4722-8a3f-723cca98444f",
   "metadata": {},
   "source": [
    "## Fetching the Data"
   ]
  },
  {
   "cell_type": "code",
   "execution_count": 2,
   "id": "76c797aa-dc0e-483c-a215-4183c505f722",
   "metadata": {
    "tags": []
   },
   "outputs": [],
   "source": [
    "outcome_cols = [\"opioiduse12\", \"opioiduse24\"]\n",
    "treatment_col = \"medicine_assigned\"\n",
    "discrete_cov = [\"xrace\", \"mar\", \"sex\"]\n",
    "\n",
    "baseline_harmonized = pd.read_csv(\n",
    "    \"/Users/harshparikh/Library/CloudStorage/OneDrive-JohnsHopkins/MOUD_data/updated_data/ctn0094/drv/clean_patients_with_relapse_wide.csv\",\n",
    "    index_col=0,\n",
    ")\n",
    "\n",
    "# baseline_harmonized = baseline_harmonized.rename(\n",
    "#     columns={col: col.split(\".\")[1] for col in baseline_harmonized.columns}\n",
    "# ).set_index(\"who\")\n",
    "\n",
    "stacked_list = []\n",
    "for i in range(1, 6):\n",
    "    stacked_list.append(\n",
    "        pd.read_csv(\n",
    "            \"/Users/harshparikh/Library/CloudStorage/OneDrive-JohnsHopkins/MOUD_data/stacked_list_%d.csv\"\n",
    "            % (i),\n",
    "            index_col=0,\n",
    "        )\n",
    "    )\n",
    "df = stacked_list[0]\n",
    "\n",
    "df_tedsa = df.loc[df[\"trialdata\"] == 0]"
   ]
  },
  {
   "cell_type": "markdown",
   "id": "fd98a5a8-b932-4306-8293-c6e2b18d9941",
   "metadata": {},
   "source": [
    "## Data Fusion TEDS-A + CTN 27"
   ]
  },
  {
   "cell_type": "code",
   "execution_count": 3,
   "id": "5ca75ba5-a916-45e9-b026-061ee9f73466",
   "metadata": {
    "tags": []
   },
   "outputs": [
    {
     "name": "stdout",
     "output_type": "stream",
     "text": [
      "(1271, 11)\n"
     ]
    },
    {
     "data": {
      "text/html": [
       "<div>\n",
       "<style scoped>\n",
       "    .dataframe tbody tr th:only-of-type {\n",
       "        vertical-align: middle;\n",
       "    }\n",
       "\n",
       "    .dataframe tbody tr th {\n",
       "        vertical-align: top;\n",
       "    }\n",
       "\n",
       "    .dataframe thead th {\n",
       "        text-align: right;\n",
       "    }\n",
       "</style>\n",
       "<table border=\"1\" class=\"dataframe\">\n",
       "  <thead>\n",
       "    <tr style=\"text-align: right;\">\n",
       "      <th></th>\n",
       "      <th>opioiduse12</th>\n",
       "      <th>opioiduse24</th>\n",
       "    </tr>\n",
       "    <tr>\n",
       "      <th>med_met</th>\n",
       "      <th></th>\n",
       "      <th></th>\n",
       "    </tr>\n",
       "  </thead>\n",
       "  <tbody>\n",
       "    <tr>\n",
       "      <th>0</th>\n",
       "      <td>0.629380</td>\n",
       "      <td>0.750674</td>\n",
       "    </tr>\n",
       "    <tr>\n",
       "      <th>1</th>\n",
       "      <td>0.553875</td>\n",
       "      <td>0.650284</td>\n",
       "    </tr>\n",
       "  </tbody>\n",
       "</table>\n",
       "</div>"
      ],
      "text/plain": [
       "         opioiduse12  opioiduse24\n",
       "med_met                          \n",
       "0           0.629380     0.750674\n",
       "1           0.553875     0.650284"
      ]
     },
     "execution_count": 3,
     "metadata": {},
     "output_type": "execute_result"
    }
   ],
   "source": [
    "ct94 = baseline_harmonized.loc[(baseline_harmonized[\"project\"] == 27)]\n",
    "outcome94 = ct94[outcome_cols]\n",
    "\n",
    "common_cols = set.intersection(set(df_tedsa.columns), set(ct94.columns))\n",
    "\n",
    "ct94_cc = ct94[common_cols].drop(columns=[\"edu\", \"mar\"])\n",
    "ct94_cc[\"sex\"] = (ct94[\"sex\"] == \"male\").astype(int)  # male = 1 and female = 0\n",
    "# ct94_cc[\"mar\"].loc[(1 - ct94_cc[\"mar\"].isna()) == 1] = (ct94_cc[\"mar\"] == 1.0).astype(\n",
    "#     int\n",
    "# )\n",
    "# ct94_cc[\"edu\"].loc[(1 - ct94_cc[\"edu\"].isna()) == 1] = (ct94_cc[\"edu\"] >= 2.0).astype(\n",
    "#     int\n",
    "# )\n",
    "\n",
    "imputer = KNNImputer(n_neighbors=4, weights=\"distance\", add_indicator=False)\n",
    "ct94_cc_imputed = imputer.fit_transform(ct94_cc)\n",
    "\n",
    "ct94_cc = pd.DataFrame(ct94_cc_imputed, index=ct94_cc.index, columns=ct94_cc.columns)\n",
    "\n",
    "ct94_cc[\"med_met\"] = (ct94[treatment_col] == \"met\").astype(\n",
    "    int\n",
    ")  # methadone = 1 and bupenorphine = 0\n",
    "ct94_cc = ct94_cc.dropna()\n",
    "\n",
    "ct94_cc[\"S\"] = 1\n",
    "ct94_cc = ct94_cc.round(0).astype(int)\n",
    "\n",
    "ct94_cc = ct94_cc.join(outcome94, how=\"inner\")\n",
    "print(ct94_cc.shape)\n",
    "ct94_cc.groupby(by=\"med_met\").mean()[outcome_cols]"
   ]
  },
  {
   "cell_type": "code",
   "execution_count": 4,
   "id": "26d8391e-fa1c-4772-a289-837e6279d88f",
   "metadata": {
    "tags": []
   },
   "outputs": [],
   "source": [
    "df_tedsa_cc = df_tedsa[common_cols].drop(columns=[\"edu\", \"mar\"])\n",
    "df_tedsa_cc[\"S\"] = 0\n",
    "# invert age categories\n",
    "df_tedsa_cc[\"age\"].replace(\n",
    "    {\n",
    "        1: 13,\n",
    "        2: 16,\n",
    "        3: 18,\n",
    "        4: 22,\n",
    "        5: 27,\n",
    "        6: 32,\n",
    "        7: 37,\n",
    "        8: 42,\n",
    "        9: 47,\n",
    "        10: 52,\n",
    "        11: 60,\n",
    "        12: 68,\n",
    "    },\n",
    "    inplace=True,\n",
    ")\n",
    "\n",
    "# df_tedsa_cc[\"mar\"].loc[(1 - df_tedsa_cc[\"mar\"].isna()) == 1] = (\n",
    "#     df_tedsa_cc[\"mar\"] == 1.0\n",
    "# ).astype(int)\n",
    "# df_tedsa_cc[\"edu\"].loc[(1 - df_tedsa_cc[\"edu\"].isna()) == 1] = (\n",
    "#     df_tedsa_cc[\"edu\"] >= 2.0\n",
    "# ).astype(int)"
   ]
  },
  {
   "cell_type": "code",
   "execution_count": 5,
   "id": "29a93496-cdbc-49e8-98d3-d2e2af1e1baf",
   "metadata": {
    "tags": []
   },
   "outputs": [],
   "source": [
    "df_primary = pd.concat([df_tedsa_cc.sample(frac=1, replace=False), ct94_cc])\n",
    "\n",
    "df_ = df_primary.drop(columns=[outcome_cols[0]]).fillna(0)"
   ]
  },
  {
   "cell_type": "code",
   "execution_count": 6,
   "id": "f3c7b9b1-b48e-42eb-b34f-b22e63b49707",
   "metadata": {
    "tags": []
   },
   "outputs": [],
   "source": [
    "outcome = outcome_cols[1]\n",
    "treatment = \"med_met\"\n",
    "sample = \"S\"\n",
    "data = df_\n",
    "S = df_[sample]  # indicator for the sample\n",
    "Y = df_[outcome]  # outcome variable\n",
    "T = df_[treatment]  # indicator for the treatment\n",
    "\n",
    "data_dummy = pd.get_dummies(data, columns=[\"xrace\"])\n",
    "data_dummy.rename(\n",
    "    columns={\n",
    "        \"sex\": \"Male\",\n",
    "        \"age\": \"Age\",\n",
    "        \"ivdrug\": \"IV Drug Use\",\n",
    "        \"bamphetamine30_base\": \"Hx Amphetamine\",\n",
    "        \"bbenzo30_base\": \"Hx Benzo\",\n",
    "        \"bcannabis30_base\": \"Hx Cannabis\",\n",
    "        \"xrace_1\": \"White\",\n",
    "        \"xrace_2\": \"Black\",\n",
    "        \"xrace_3\": \"Hispanic\",\n",
    "        \"xrace_4\": \"Other Race\",\n",
    "        # \"mar\": \"Married\",\n",
    "        # \"edu\": \"Education(12y)\",\n",
    "    },\n",
    "    inplace=True,\n",
    ")\n",
    "\n",
    "X = data_dummy.drop(columns=[outcome, treatment, sample])  # pre-treatment covariates\n",
    "\n",
    "latex_table = data_dummy.groupby(by=[sample]).mean().T.round(4).to_latex()"
   ]
  },
  {
   "cell_type": "markdown",
   "id": "950f80a2-a148-4719-b531-becdc35ed619",
   "metadata": {},
   "source": [
    "## Estimate RCT-ATE and Target-ATE"
   ]
  },
  {
   "cell_type": "code",
   "execution_count": 7,
   "id": "ba22a047-6c0f-4e4f-bc98-230b667d3569",
   "metadata": {
    "tags": []
   },
   "outputs": [
    {
     "name": "stderr",
     "output_type": "stream",
     "text": [
      "\n",
      "KeyboardInterrupt\n",
      "\n"
     ]
    }
   ],
   "source": [
    "importlib.reload(learn)\n",
    "df_v, pi, pi_m, e_m, data2 = learn.estimate_dml(data_dummy, outcome, treatment, sample)"
   ]
  },
  {
   "cell_type": "code",
   "execution_count": null,
   "id": "033c83c6-67b3-42cd-8c55-91036f9daa62",
   "metadata": {
    "tags": []
   },
   "outputs": [],
   "source": [
    "df_v[\"te_sq\"].mean(), df_v[\"a_sq\"].mean()"
   ]
  },
  {
   "cell_type": "code",
   "execution_count": null,
   "id": "891a95e0-8c7f-4151-b997-ba1823b01e74",
   "metadata": {
    "tags": []
   },
   "outputs": [],
   "source": [
    "print(\n",
    "    \"RCT-ATE: %.2f ± %.2f\"\n",
    "    % (\n",
    "        100\n",
    "        * (\n",
    "            df_.loc[(df_[sample] == 1) * (df_[treatment] == 1), outcome].mean()\n",
    "            - df_.loc[(df_[sample] == 1) * (df_[treatment] == 0), outcome].mean()\n",
    "        ),\n",
    "        100\n",
    "        * 1.96\n",
    "        * (\n",
    "            df_.loc[(df_[sample] == 1) * (df_[treatment] == 1), outcome].sem()\n",
    "            + df_.loc[(df_[sample] == 1) * (df_[treatment] == 0), outcome].sem()\n",
    "        ),\n",
    "    )\n",
    ")\n",
    "\n",
    "\n",
    "print(\n",
    "    \"Transported ATE: %.2f ± %.2f\"\n",
    "    % (100 * df_v[\"te\"].mean(), 1.96 * 100 * df_v[\"te\"].sem())\n",
    ")"
   ]
  },
  {
   "cell_type": "markdown",
   "id": "4de2c7d9-9f8b-4d3f-a0c6-e2328109fed6",
   "metadata": {},
   "source": [
    "## Characterizing Underrepresented Population via Selection Score"
   ]
  },
  {
   "cell_type": "code",
   "execution_count": null,
   "id": "9181547f-a05f-4150-9bea-06c2de252039",
   "metadata": {
    "tags": []
   },
   "outputs": [],
   "source": [
    "np.random.seed(42)\n",
    "data_dummy_logit = data_dummy.copy(deep=True)\n",
    "data_dummy_logit[\"pi(x)\"] = pi_m.predict_proba(X)[:, 1]\n",
    "# exp_te_m = en.AdaBoostRegressor().fit(data2[X.drop(columns=[\"Age\"]).columns], df_v[\"a\"])"
   ]
  },
  {
   "cell_type": "code",
   "execution_count": null,
   "id": "a95d3467-3c9b-4754-bf12-80e2c50714ea",
   "metadata": {
    "tags": []
   },
   "outputs": [],
   "source": [
    "sns.kdeplot(\n",
    "    (data_dummy_logit[\"pi(x)\"].loc[S == 1] / S.mean())\n",
    "    / ((1 - data_dummy_logit[\"pi(x)\"].loc[S == 1]) / (1 - S.mean())),\n",
    "    fill=True,\n",
    ")\n",
    "sns.kdeplot(\n",
    "    (data_dummy_logit[\"pi(x)\"].loc[S == 0] / S.mean())\n",
    "    / ((1 - data_dummy_logit[\"pi(x)\"].loc[S == 0]) / (1 - S.mean())),\n",
    "    bw=0.15,\n",
    "    fill=True,\n",
    ")\n",
    "# sns.kdeplot(data_dummy_logit[\"pi(x)\"].loc[S == 0] / S.mean(), bw=0.15, fill=True)\n",
    "\n",
    "plt.legend([\"S=1\", \"S=0\"])\n",
    "plt.xlabel(r\"$\\ell(x)/\\overline{\\ell}$\")"
   ]
  },
  {
   "cell_type": "code",
   "execution_count": null,
   "id": "f819c830-c581-411b-bcbd-b43a401b4c75",
   "metadata": {
    "tags": []
   },
   "outputs": [],
   "source": [
    "data_dummy_logit = data_dummy_logit.drop(columns=X.columns, errors=\"ignore\")\n",
    "data_dummy_logit.mean()"
   ]
  },
  {
   "cell_type": "code",
   "execution_count": null,
   "id": "0254ed77-9c09-4506-8f58-7f535f6ea54d",
   "metadata": {
    "tags": []
   },
   "outputs": [],
   "source": [
    "importlib.reload(learn)\n",
    "# D, w_tree, testing_data = learn.tree_opt(data, outcome, treatment, sample, leaf_proba=1)\n",
    "np.random.seed(402)\n",
    "D_labels, f, testing_data = learn.kmeans_opt(\n",
    "    data=data_dummy_logit,\n",
    "    outcome=outcome,\n",
    "    k=500,\n",
    "    treatment=treatment,\n",
    "    sample=sample,\n",
    "    threshold=1,\n",
    ")"
   ]
  },
  {
   "cell_type": "code",
   "execution_count": null,
   "id": "af8118a7-e3ea-46f4-861b-7fd48cc4d710",
   "metadata": {
    "tags": []
   },
   "outputs": [],
   "source": [
    "data_dummy_logit[\"pi(x)/pi\"] = data_dummy_logit[\"pi(x)\"] / data_dummy_logit[\"S\"].mean()\n",
    "fig, ax = plt.subplots(sharex=True, figsize=(10, 3), dpi=600)\n",
    "sns.violinplot(\n",
    "    data=data_dummy_logit,\n",
    "    x=\"pi(x)/pi\",\n",
    "    y=\"S\",\n",
    "    hue=\"S\",\n",
    "    split=True,\n",
    "    orient=\"h\",\n",
    "    ax=ax[0],\n",
    "    alpha=0.5,\n",
    "    inner=\"quart\",bw=0.25,\n",
    ")\n",
    "plt.savefig(\"selection_logit.pdf\")\n",
    "\n",
    "data_dummy_logit[\"w\"] = D_labels[\"w\"]\n",
    "\n",
    "fig, ax = plt.subplots(sharex=True, figsize=(10, 3), dpi=600)\n",
    "sns.violinplot(\n",
    "    data=data_dummy_logit,\n",
    "    x=\"pi(x)/pi\",\n",
    "    y=\"w\",\n",
    "    hue=\"w\",\n",
    "    split=True,\n",
    "    orient=\"h\",\n",
    "    ax=ax[1],\n",
    "    alpha=0.5,\n",
    "    inner=\"quart\",bw=0.25,\n",
    ")\n",
    "\n",
    "plt.xlabel(r\"$\\ell(x)/\\overline{\\ell}$\")\n",
    "plt.savefig(\"underrep_logit.pdf\")"
   ]
  },
  {
   "cell_type": "code",
   "execution_count": null,
   "id": "68ef8252-6dff-4e20-bcef-9db2f5538b74",
   "metadata": {
    "tags": []
   },
   "outputs": [],
   "source": [
    "print(\n",
    "    r\"Pre Pruning, ATTE: %.3f ± %.3f\"\n",
    "    % (\n",
    "        100 * D_labels[\"v\"].mean(),\n",
    "        100\n",
    "        * 1.96\n",
    "        * np.sqrt(D_labels[\"vsq\"].sum() / ((D_labels[\"w\"].astype(int).count()) ** 2)),\n",
    "    )\n",
    ")\n",
    "\n",
    "print(\n",
    "    r\"Post Pruning, ATTE: %.3f ± %.3f\"\n",
    "    % (\n",
    "        100 * D_labels[\"v\"].loc[D_labels[\"w\"] == 1].mean(),\n",
    "        100\n",
    "        * 1.96\n",
    "        * np.sqrt(\n",
    "            D_labels[\"vsq\"].loc[D_labels[\"w\"] == 1].sum()\n",
    "            / ((D_labels[\"w\"].astype(int).sum()) ** 2)\n",
    "        ),\n",
    "    )\n",
    ")"
   ]
  },
  {
   "cell_type": "markdown",
   "id": "4c9b4af5-f356-4cdb-9a40-e40e75c193cd",
   "metadata": {},
   "source": [
    "## Characterizing Underrepresented Population via ROOT"
   ]
  },
  {
   "cell_type": "code",
   "execution_count": null,
   "id": "05894cc0-7e01-432e-8c14-1c189ecbc9be",
   "metadata": {
    "tags": []
   },
   "outputs": [],
   "source": [
    "importlib.reload(learn)\n",
    "# D, w_tree, testing_data = learn.tree_opt(data, outcome, treatment, sample, leaf_proba=1)\n",
    "np.random.seed(42)\n",
    "D_rash, D_forest, w_forest, rashomon_set, f, testing_data = learn.forest_opt(\n",
    "    data=data_dummy,\n",
    "    outcome=outcome,\n",
    "    treatment=treatment,\n",
    "    sample=sample,\n",
    "    leaf_proba=0.5,\n",
    "    num_trees=5000,\n",
    "    vote_threshold=8 / 10,\n",
    "    # top_k_trees=True,\n",
    "    # k=5,\n",
    ")\n",
    "\n",
    "baseline_loss = np.sqrt(np.sum(D_forest[\"vsq\"]) / ((D_forest.shape[0] ** 2)))\n",
    "# print(\"Baseline Objective:%.4f\" % (baseline_loss))"
   ]
  },
  {
   "cell_type": "code",
   "execution_count": null,
   "id": "147c1000-413b-40ac-a076-0a056e09a4f6",
   "metadata": {
    "tags": []
   },
   "outputs": [],
   "source": [
    "local_obj = pd.DataFrame(\n",
    "    np.array([w_forest[i][\"local objective\"] for i in range(len(w_forest))]),\n",
    "    columns=[\"Objective\"],\n",
    ").sort_values(by=\"Objective\")\n",
    "\n",
    "top_k = 10\n",
    "plt.plot((local_obj.iloc[:top_k] / baseline_loss)[\"Objective\"].values)"
   ]
  },
  {
   "cell_type": "code",
   "execution_count": null,
   "id": "8095e686-03ca-4a83-ac79-3b48fb74a0b1",
   "metadata": {
    "tags": []
   },
   "outputs": [],
   "source": [
    "w_rash = [\n",
    "    \"w_tree_%d\" % (i)\n",
    "    for i in range(len(w_forest))\n",
    "    if i in list(local_obj.iloc[:top_k].index)\n",
    "]\n",
    "avg_votes = (D_forest[w_rash].mean(axis=1) >= 0.99).astype(int)\n",
    "D_rash[\"w_opt\"] = avg_votes\n",
    "\n",
    "np.random.seed(42)\n",
    "num_trees = 1\n",
    "explainer = tree.DecisionTreeClassifier().fit(X.loc[avg_votes.index], avg_votes)"
   ]
  },
  {
   "cell_type": "code",
   "execution_count": null,
   "id": "51b4744b-b6ea-4627-a5aa-19c99867b556",
   "metadata": {
    "tags": []
   },
   "outputs": [],
   "source": [
    "fig, ax = plt.subplots(nrows=num_trees, figsize=(20, 10), dpi=600)\n",
    "for i in range(num_trees):\n",
    "    if num_trees == 1:\n",
    "        tree.plot_tree(\n",
    "            explainer,  # .estimators_[i, 0],\n",
    "            feature_names=X.columns,\n",
    "            ax=ax,\n",
    "            filled=True,\n",
    "            fontsize=10,\n",
    "            proportion=True,\n",
    "            impurity=False,\n",
    "        )\n",
    "    else:\n",
    "        tree.plot_tree(\n",
    "            explainer.estimators_[i, 0],\n",
    "            feature_names=X.columns,\n",
    "            ax=ax[i],\n",
    "            filled=True,\n",
    "            fontsize=10,\n",
    "            proportion=True,\n",
    "        )\n",
    "plt.savefig(\"tedsa_ctn27.pdf\", dpi=600)"
   ]
  },
  {
   "cell_type": "code",
   "execution_count": null,
   "id": "21a45169-ac80-4a2e-b993-4b30ec5ca3c5",
   "metadata": {
    "tags": []
   },
   "outputs": [],
   "source": [
    "w = explainer.predict(data_dummy[X.columns])\n",
    "data_dummy[\"w\"] = w\n",
    "\n",
    "pd.concat(\n",
    "    [\n",
    "        data_dummy.groupby(by=\"S\").mean().T.round(4),\n",
    "        data_dummy.loc[data_dummy[\"w\"] == 1].groupby(by=\"S\").mean().T.round(4),\n",
    "    ],\n",
    "    axis=1,\n",
    ")"
   ]
  },
  {
   "cell_type": "code",
   "execution_count": null,
   "id": "71ee2518-1167-44d0-972d-5b19724de516",
   "metadata": {
    "tags": []
   },
   "outputs": [],
   "source": [
    "D_rash[\"w_opt\"] = explainer.predict(X.loc[avg_votes.index])\n",
    "print(\n",
    "    r\"Post Pruning, ATTE: %.2f ± %.4f\"\n",
    "    % (\n",
    "        100 * D_rash[\"v\"].loc[D_rash[\"w_opt\"].astype(int) == 1].mean(),\n",
    "        100 * 1.96 * D_rash[\"v\"].loc[D_rash[\"w_opt\"].astype(int) == 1].sem(),\n",
    "    )\n",
    ")"
   ]
  },
  {
   "cell_type": "code",
   "execution_count": null,
   "id": "0e87ea71-22cd-4fe4-8867-fd31ddb8da12",
   "metadata": {
    "tags": []
   },
   "outputs": [],
   "source": [
    "data_dummy_logit[\"w\"] = D_rash[\"w_opt\"]\n",
    "fig, ax = plt.subplots(sharex=True, figsize=(10, 3), dpi=600)\n",
    "sns.violinplot(\n",
    "    data=data_dummy_logit,\n",
    "    y=\"w\",\n",
    "    hue=\"w\",\n",
    "    x=\"pi(x)/pi\",\n",
    "    orient=\"h\",\n",
    "    split=True,\n",
    "    alpha=0.5,\n",
    "    ax=ax[1],\n",
    "    bw=0.25,\n",
    "    inner=\"quart\",\n",
    ")\n",
    "plt.ylabel(\"w\")\n",
    "plt.legend(title=\"w\")\n",
    "plt.xlabel(r\"$\\ell(x)/\\overline{\\ell}$\")\n",
    "plt.savefig(\"underrep_root.pdf\")\n",
    "\n",
    "\n",
    "print(\n",
    "    (\n",
    "        D_rash.loc[D_rash[\"w_opt\"] == 1][\"v\"].mean(),\n",
    "        D_rash.loc[D_rash[\"w_opt\"] == 0][\"v\"].mean(),\n",
    "    )\n",
    ")"
   ]
  },
  {
   "cell_type": "code",
   "execution_count": null,
   "id": "8c740f39-22b9-45ad-8131-307f0fc5cbbc",
   "metadata": {},
   "outputs": [],
   "source": []
  }
 ],
 "metadata": {
  "kernelspec": {
   "display_name": "Python 3 (ipykernel)",
   "language": "python",
   "name": "python3"
  },
  "language_info": {
   "codemirror_mode": {
    "name": "ipython",
    "version": 3
   },
   "file_extension": ".py",
   "mimetype": "text/x-python",
   "name": "python",
   "nbconvert_exporter": "python",
   "pygments_lexer": "ipython3",
   "version": "3.10.9"
  }
 },
 "nbformat": 4,
 "nbformat_minor": 5
}
