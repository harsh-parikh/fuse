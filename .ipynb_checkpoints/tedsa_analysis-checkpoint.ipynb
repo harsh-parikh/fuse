{
 "cells": [
  {
   "cell_type": "code",
   "execution_count": 1,
   "id": "949d8262-5e51-4d35-a8bb-7acfd4fe5d11",
   "metadata": {
    "tags": []
   },
   "outputs": [
    {
     "data": {
      "text/html": [
       "\n",
       "                <script type=\"application/javascript\" id=\"jupyter_black\">\n",
       "                (function() {\n",
       "                    if (window.IPython === undefined) {\n",
       "                        return\n",
       "                    }\n",
       "                    var msg = \"WARNING: it looks like you might have loaded \" +\n",
       "                        \"jupyter_black in a non-lab notebook with \" +\n",
       "                        \"`is_lab=True`. Please double check, and if \" +\n",
       "                        \"loading with `%load_ext` please review the README!\"\n",
       "                    console.log(msg)\n",
       "                    alert(msg)\n",
       "                })()\n",
       "                </script>\n",
       "                "
      ],
      "text/plain": [
       "<IPython.core.display.HTML object>"
      ]
     },
     "metadata": {},
     "output_type": "display_data"
    }
   ],
   "source": [
    "import numpy as np\n",
    "import pandas as pd\n",
    "import matplotlib.pyplot as plt\n",
    "from matplotlib.patches import Rectangle\n",
    "import seaborn as sns\n",
    "import scipy.special as sp\n",
    "import sklearn.datasets as datasets\n",
    "import sklearn.linear_model as lm\n",
    "import sklearn.ensemble as en\n",
    "import sklearn.tree as tree\n",
    "from sklearn.model_selection import train_test_split\n",
    "import econml\n",
    "import importlib\n",
    "import pyreadr\n",
    "\n",
    "#### data generation packages\n",
    "import strawman_edge\n",
    "import strawman_center\n",
    "import all_linear\n",
    "\n",
    "#### main packages\n",
    "import characterize\n",
    "import estimate_atte as est\n",
    "import learn_w as learn\n",
    "import black\n",
    "\n",
    "importlib.reload(est)\n",
    "importlib.reload(learn)\n",
    "\n",
    "import warnings\n",
    "\n",
    "warnings.filterwarnings(\"ignore\")\n",
    "\n",
    "%load_ext jupyter_black\n",
    "sns.set(font_scale=1.25, style=\"whitegrid\")"
   ]
  },
  {
   "cell_type": "code",
   "execution_count": 2,
   "id": "76c797aa-dc0e-483c-a215-4183c505f722",
   "metadata": {
    "tags": []
   },
   "outputs": [],
   "source": [
    "baseline_harmonized = pyreadr.read_r(\n",
    "    \"/Users/harshparikh/Library/CloudStorage/OneDrive-JohnsHopkins/MOUD_data/merged/baseline_harmonized_07272023.rds\"\n",
    ")[None].set_index(\"who\")\n",
    "\n",
    "relapse_harmonized_wide = pyreadr.read_r(\n",
    "    \"/Users/harshparikh/Library/CloudStorage/OneDrive-JohnsHopkins/MOUD_data/merged/relapse_harmonized_wide_09062023.rds\"\n",
    ")[None].set_index(\"who\")\n",
    "\n",
    "stacked_list = []\n",
    "for i in range(1, 6):\n",
    "    stacked_list.append(\n",
    "        pd.read_csv(\n",
    "            \"/Users/harshparikh/Library/CloudStorage/OneDrive-JohnsHopkins/MOUD_data/stacked_list_%d.csv\"\n",
    "            % (i),\n",
    "            index_col=0,\n",
    "        )\n",
    "    )\n",
    "df = stacked_list[0]\n",
    "\n",
    "df_tedsa = df.loc[df[\"trialdata\"] == 0]"
   ]
  },
  {
   "cell_type": "code",
   "execution_count": 3,
   "id": "d46a786a-a200-489a-8947-db40255618a8",
   "metadata": {
    "tags": []
   },
   "outputs": [],
   "source": [
    "outcome_cols = [\"wk%d.relapse_this_week\" % (i) for i in range(1, 11)]\n",
    "outcome94 = relapse_harmonized_wide.loc[\n",
    "    (relapse_harmonized_wide[\"project\"] == \"27\")\n",
    "    # + (relapse_harmonized_wide[\"project\"] == \"30\")\n",
    "    # + (relapse_harmonized_wide[\"project\"] == \"51\")\n",
    "][outcome_cols]"
   ]
  },
  {
   "cell_type": "code",
   "execution_count": 4,
   "id": "b95c22b0-87fa-4151-9519-e37f979ddd98",
   "metadata": {
    "tags": []
   },
   "outputs": [],
   "source": [
    "ct94 = baseline_harmonized.loc[\n",
    "    (baseline_harmonized[\"project\"] == \"27\")\n",
    "    # + (baseline_harmonized[\"project\"] == \"30\")\n",
    "    # + (baseline_harmonized[\"project\"] == \"51\")\n",
    "]"
   ]
  },
  {
   "cell_type": "code",
   "execution_count": 5,
   "id": "9c5d3951-af68-41cb-9ce6-f8080cfbeb16",
   "metadata": {
    "tags": []
   },
   "outputs": [],
   "source": [
    "common_cols = set.intersection(set(df_tedsa.columns), set(ct94.columns))"
   ]
  },
  {
   "cell_type": "code",
   "execution_count": 6,
   "id": "16f1f5e2-74e1-4184-a3e4-dbaafa45a517",
   "metadata": {
    "tags": []
   },
   "outputs": [],
   "source": [
    "df_tedsa_cc = df_tedsa[common_cols]\n",
    "df_tedsa_cc[\"S\"] = 0\n",
    "ct94_cc = ct94[common_cols].fillna(0)\n",
    "ct94_cc[\"med_met\"] = (\n",
    "    (ct94[\"medicine\"] == \"met\").astype(int).fillna(0)\n",
    ")  # methadone = 1 and bupenorphine = 0\n",
    "ct94_cc[\"sex\"] = (ct94[\"sex\"] == \"male\").astype(int)  # male = 1 and female = 0\n",
    "\n",
    "# Create age categories\n",
    "ct94_cc[\"age1\"] = 0\n",
    "ct94_cc.loc[ct94_cc[\"age\"] < 15, \"age1\"] = 1\n",
    "ct94_cc.loc[(ct94_cc[\"age\"] > 14) & (ct94_cc[\"age\"] < 18), \"age1\"] = 2\n",
    "ct94_cc.loc[(ct94_cc[\"age\"] > 17) & (ct94_cc[\"age\"] < 21), \"age1\"] = 3\n",
    "ct94_cc.loc[(ct94_cc[\"age\"] > 20) & (ct94_cc[\"age\"] < 25), \"age1\"] = 4\n",
    "ct94_cc.loc[(ct94_cc[\"age\"] > 24) & (ct94_cc[\"age\"] < 30), \"age1\"] = 5\n",
    "ct94_cc.loc[(ct94_cc[\"age\"] > 29) & (ct94_cc[\"age\"] < 35), \"age1\"] = 6\n",
    "ct94_cc.loc[(ct94_cc[\"age\"] > 34) & (ct94_cc[\"age\"] < 40), \"age1\"] = 7\n",
    "ct94_cc.loc[(ct94_cc[\"age\"] > 39) & (ct94_cc[\"age\"] < 45), \"age1\"] = 8\n",
    "ct94_cc.loc[(ct94_cc[\"age\"] > 44) & (ct94_cc[\"age\"] < 50), \"age1\"] = 9\n",
    "ct94_cc.loc[(ct94_cc[\"age\"] > 49) & (ct94_cc[\"age\"] < 55), \"age1\"] = 10\n",
    "ct94_cc.loc[(ct94_cc[\"age\"] > 54) & (ct94_cc[\"age\"] < 65), \"age1\"] = 11\n",
    "ct94_cc.loc[ct94_cc[\"age\"] > 64, \"age1\"] = 12\n",
    "\n",
    "# Assign the 'age1' values to 'age' column\n",
    "ct94_cc[\"age\"] = ct94_cc[\"age1\"]\n",
    "\n",
    "# Optionally, you can drop the 'age1' column if you no longer need it\n",
    "ct94_cc.drop(columns=[\"age1\"], inplace=True)\n",
    "ct94_cc[\"S\"] = 1\n",
    "ct94_cc = ct94_cc.astype(int)"
   ]
  },
  {
   "cell_type": "code",
   "execution_count": 7,
   "id": "943bcafb-b3fd-40a1-8e06-42c7f661ce71",
   "metadata": {
    "tags": []
   },
   "outputs": [],
   "source": [
    "ct94_cc = ct94_cc.join(outcome94, how=\"inner\")"
   ]
  },
  {
   "cell_type": "code",
   "execution_count": 8,
   "id": "83c0b190-688d-41c3-8e19-73615bc8ad33",
   "metadata": {
    "tags": []
   },
   "outputs": [],
   "source": [
    "df_primary = pd.concat([df_tedsa_cc, ct94_cc])"
   ]
  },
  {
   "cell_type": "code",
   "execution_count": 10,
   "id": "73b5002a-8663-4230-a4a7-801dd9846283",
   "metadata": {
    "tags": []
   },
   "outputs": [],
   "source": [
    "df_ = df_primary.drop(\n",
    "    columns=[\"wk%d.relapse_this_week\" % (i) for i in range(1, 10)]\n",
    ").fillna(0)"
   ]
  },
  {
   "cell_type": "code",
   "execution_count": 11,
   "id": "380986a2-d312-425d-ac75-b77b667eb5da",
   "metadata": {
    "tags": []
   },
   "outputs": [],
   "source": [
    "outcome = \"wk10.relapse_this_week\"\n",
    "treatment = \"med_met\"\n",
    "sample = \"S\"\n",
    "data = df_\n",
    "S = df_[sample]  # indicator for the sample\n",
    "Y = df_[outcome]  # outcome variable\n",
    "T = df_[treatment]  # indicator for the treatment\n",
    "X = df_.drop(columns=[outcome, treatment, sample])  # pre-treatment covariates"
   ]
  },
  {
   "cell_type": "code",
   "execution_count": 12,
   "id": "794b9e61-e94d-4afa-abbb-e98e624a5f63",
   "metadata": {
    "tags": []
   },
   "outputs": [
    {
     "data": {
      "text/html": [
       "<div>\n",
       "<style scoped>\n",
       "    .dataframe tbody tr th:only-of-type {\n",
       "        vertical-align: middle;\n",
       "    }\n",
       "\n",
       "    .dataframe tbody tr th {\n",
       "        vertical-align: top;\n",
       "    }\n",
       "\n",
       "    .dataframe thead th {\n",
       "        text-align: right;\n",
       "    }\n",
       "</style>\n",
       "<table border=\"1\" class=\"dataframe\">\n",
       "  <thead>\n",
       "    <tr style=\"text-align: right;\">\n",
       "      <th></th>\n",
       "      <th>te</th>\n",
       "      <th>te_sq</th>\n",
       "    </tr>\n",
       "    <tr>\n",
       "      <th>S</th>\n",
       "      <th></th>\n",
       "      <th></th>\n",
       "    </tr>\n",
       "  </thead>\n",
       "  <tbody>\n",
       "    <tr>\n",
       "      <th>0</th>\n",
       "      <td>-0.061811</td>\n",
       "      <td>0.036710</td>\n",
       "    </tr>\n",
       "    <tr>\n",
       "      <th>1</th>\n",
       "      <td>-0.004323</td>\n",
       "      <td>0.623111</td>\n",
       "    </tr>\n",
       "  </tbody>\n",
       "</table>\n",
       "</div>"
      ],
      "text/plain": [
       "         te     te_sq\n",
       "S                    \n",
       "0 -0.061811  0.036710\n",
       "1 -0.004323  0.623111"
      ]
     },
     "execution_count": 12,
     "metadata": {},
     "output_type": "execute_result"
    }
   ],
   "source": [
    "importlib.reload(learn)\n",
    "df_v, pi, pi_m, mu_1_m, mu_0_m, e_m, data2 = learn.estimate_dml(\n",
    "    data, outcome, treatment, sample, crossfit=10\n",
    ")\n",
    "\n",
    "df_v.join(S).groupby(by=\"S\").mean()"
   ]
  },
  {
   "cell_type": "code",
   "execution_count": 13,
   "id": "05894cc0-7e01-432e-8c14-1c189ecbc9be",
   "metadata": {
    "tags": []
   },
   "outputs": [
    {
     "name": "stdout",
     "output_type": "stream",
     "text": [
      "ATE Est: -0.0318\n",
      "leaf                   0.500000\n",
      "age                    0.002838\n",
      "xrace                  0.064233\n",
      "bbenzo30_base          0.061733\n",
      "sex                    0.063755\n",
      "bamphetamine30_base    0.205033\n",
      "bcannabis30_base       0.019320\n",
      "ivdrug                 0.083087\n",
      "dtype: float64\n"
     ]
    },
    {
     "ename": "KeyboardInterrupt",
     "evalue": "",
     "output_type": "error",
     "traceback": [
      "\u001b[0;31m---------------------------------------------------------------------------\u001b[0m",
      "\u001b[0;31mKeyboardInterrupt\u001b[0m                         Traceback (most recent call last)",
      "Cell \u001b[0;32mIn[13], line 3\u001b[0m\n\u001b[1;32m      1\u001b[0m importlib\u001b[38;5;241m.\u001b[39mreload(learn)\n\u001b[1;32m      2\u001b[0m \u001b[38;5;66;03m# D, w_tree, testing_data = learn.tree_opt(data, outcome, treatment, sample, leaf_proba=1)\u001b[39;00m\n\u001b[0;32m----> 3\u001b[0m D_rash, D_forest, w_forest, rashomon_set, f, testing_data \u001b[38;5;241m=\u001b[39m \u001b[43mlearn\u001b[49m\u001b[38;5;241;43m.\u001b[39;49m\u001b[43mforest_opt\u001b[49m\u001b[43m(\u001b[49m\n\u001b[1;32m      4\u001b[0m \u001b[43m    \u001b[49m\u001b[43mdata\u001b[49m\u001b[38;5;241;43m=\u001b[39;49m\u001b[43mdf_\u001b[49m\u001b[43m,\u001b[49m\n\u001b[1;32m      5\u001b[0m \u001b[43m    \u001b[49m\u001b[43moutcome\u001b[49m\u001b[38;5;241;43m=\u001b[39;49m\u001b[38;5;124;43m\"\u001b[39;49m\u001b[38;5;124;43mwk10.relapse_this_week\u001b[39;49m\u001b[38;5;124;43m\"\u001b[39;49m\u001b[43m,\u001b[49m\n\u001b[1;32m      6\u001b[0m \u001b[43m    \u001b[49m\u001b[43mtreatment\u001b[49m\u001b[38;5;241;43m=\u001b[39;49m\u001b[38;5;124;43m\"\u001b[39;49m\u001b[38;5;124;43mmed_met\u001b[39;49m\u001b[38;5;124;43m\"\u001b[39;49m\u001b[43m,\u001b[49m\n\u001b[1;32m      7\u001b[0m \u001b[43m    \u001b[49m\u001b[43msample\u001b[49m\u001b[38;5;241;43m=\u001b[39;49m\u001b[38;5;124;43m\"\u001b[39;49m\u001b[38;5;124;43mS\u001b[39;49m\u001b[38;5;124;43m\"\u001b[39;49m\u001b[43m,\u001b[49m\n\u001b[1;32m      8\u001b[0m \u001b[43m    \u001b[49m\u001b[43mleaf_proba\u001b[49m\u001b[38;5;241;43m=\u001b[39;49m\u001b[38;5;241;43m1\u001b[39;49m\u001b[43m,\u001b[49m\n\u001b[1;32m      9\u001b[0m \u001b[43m    \u001b[49m\u001b[43mnum_trees\u001b[49m\u001b[38;5;241;43m=\u001b[39;49m\u001b[38;5;241;43m5000\u001b[39;49m\u001b[43m,\u001b[49m\n\u001b[1;32m     10\u001b[0m \u001b[43m    \u001b[49m\u001b[43mvote_threshold\u001b[49m\u001b[38;5;241;43m=\u001b[39;49m\u001b[38;5;241;43m1\u001b[39;49m\u001b[43m \u001b[49m\u001b[38;5;241;43m/\u001b[39;49m\u001b[43m \u001b[49m\u001b[38;5;241;43m2\u001b[39;49m\u001b[43m,\u001b[49m\n\u001b[1;32m     11\u001b[0m \u001b[43m    \u001b[49m\u001b[43mtop_k_trees\u001b[49m\u001b[38;5;241;43m=\u001b[39;49m\u001b[38;5;28;43;01mTrue\u001b[39;49;00m\u001b[43m,\u001b[49m\n\u001b[1;32m     12\u001b[0m \u001b[43m    \u001b[49m\u001b[43mk\u001b[49m\u001b[38;5;241;43m=\u001b[39;49m\u001b[38;5;241;43m100\u001b[39;49m\u001b[43m,\u001b[49m\n\u001b[1;32m     13\u001b[0m \u001b[43m)\u001b[49m\n\u001b[1;32m     15\u001b[0m baseline_loss \u001b[38;5;241m=\u001b[39m np\u001b[38;5;241m.\u001b[39msqrt(np\u001b[38;5;241m.\u001b[39msum(D_forest[\u001b[38;5;124m\"\u001b[39m\u001b[38;5;124mvsq\u001b[39m\u001b[38;5;124m\"\u001b[39m]) \u001b[38;5;241m/\u001b[39m ((D_forest\u001b[38;5;241m.\u001b[39mshape[\u001b[38;5;241m0\u001b[39m] \u001b[38;5;241m*\u001b[39m\u001b[38;5;241m*\u001b[39m \u001b[38;5;241m2\u001b[39m)))\n\u001b[1;32m     16\u001b[0m optimized_loss_forest \u001b[38;5;241m=\u001b[39m np\u001b[38;5;241m.\u001b[39msqrt(\n\u001b[1;32m     17\u001b[0m     np\u001b[38;5;241m.\u001b[39msum(D_rash[\u001b[38;5;124m\"\u001b[39m\u001b[38;5;124mvsq\u001b[39m\u001b[38;5;124m\"\u001b[39m] \u001b[38;5;241m*\u001b[39m D_rash[\u001b[38;5;124m\"\u001b[39m\u001b[38;5;124mw_opt\u001b[39m\u001b[38;5;124m\"\u001b[39m]) \u001b[38;5;241m/\u001b[39m ((np\u001b[38;5;241m.\u001b[39msum(D_rash[\u001b[38;5;124m\"\u001b[39m\u001b[38;5;124mw_opt\u001b[39m\u001b[38;5;124m\"\u001b[39m])) \u001b[38;5;241m*\u001b[39m\u001b[38;5;241m*\u001b[39m \u001b[38;5;241m2\u001b[39m)\n\u001b[1;32m     18\u001b[0m )\n",
      "File \u001b[0;32m~/Library/CloudStorage/OneDrive-JohnsHopkins/GitHub/fuse/learn_w.py:442\u001b[0m, in \u001b[0;36mforest_opt\u001b[0;34m(data, outcome, treatment, sample, leaf_proba, seed, num_trees, vote_threshold, explore_proba, feature_est, top_k_trees, k, cutoff)\u001b[0m\n\u001b[1;32m    440\u001b[0m D[\u001b[38;5;124m\"\u001b[39m\u001b[38;5;124mw\u001b[39m\u001b[38;5;124m\"\u001b[39m] \u001b[38;5;241m=\u001b[39m np\u001b[38;5;241m.\u001b[39mones_like(vsq)\n\u001b[1;32m    441\u001b[0m D[\u001b[38;5;124m\"\u001b[39m\u001b[38;5;124mS\u001b[39m\u001b[38;5;124m\"\u001b[39m] \u001b[38;5;241m=\u001b[39m S\n\u001b[0;32m--> 442\u001b[0m w_tree \u001b[38;5;241m=\u001b[39m \u001b[43msplit\u001b[49m\u001b[43m(\u001b[49m\u001b[43msplit_feature\u001b[49m\u001b[43m,\u001b[49m\u001b[43m \u001b[49m\u001b[43mD\u001b[49m\u001b[43m,\u001b[49m\u001b[43m \u001b[49m\u001b[43mD\u001b[49m\u001b[43m,\u001b[49m\u001b[43m \u001b[49m\u001b[43mnp\u001b[49m\u001b[38;5;241;43m.\u001b[39;49m\u001b[43minf\u001b[49m\u001b[43m,\u001b[49m\u001b[43m \u001b[49m\u001b[38;5;241;43m0\u001b[39;49m\u001b[43m,\u001b[49m\u001b[43m \u001b[49m\u001b[43mexplore_proba\u001b[49m\u001b[38;5;241;43m=\u001b[39;49m\u001b[43mexplore_proba\u001b[49m\u001b[43m)\u001b[49m\n\u001b[1;32m    443\u001b[0m D_forest[\u001b[38;5;124m\"\u001b[39m\u001b[38;5;124mw_tree_\u001b[39m\u001b[38;5;132;01m%d\u001b[39;00m\u001b[38;5;124m\"\u001b[39m\u001b[38;5;241m%\u001b[39m(t_iter)] \u001b[38;5;241m=\u001b[39m D[\u001b[38;5;124m\"\u001b[39m\u001b[38;5;124mw\u001b[39m\u001b[38;5;124m\"\u001b[39m]\n\u001b[1;32m    444\u001b[0m w_forest \u001b[38;5;241m+\u001b[39m\u001b[38;5;241m=\u001b[39m [w_tree]\n",
      "File \u001b[0;32m~/Library/CloudStorage/OneDrive-JohnsHopkins/GitHub/fuse/learn_w.py:152\u001b[0m, in \u001b[0;36msplit\u001b[0;34m(split_feature, X, D, parent_loss, depth, explore_proba)\u001b[0m\n\u001b[1;32m    133\u001b[0m         \u001b[38;5;28;01mreturn\u001b[39;00m {\n\u001b[1;32m    134\u001b[0m             \u001b[38;5;124m\"\u001b[39m\u001b[38;5;124mnode\u001b[39m\u001b[38;5;124m\"\u001b[39m: fj,\n\u001b[1;32m    135\u001b[0m             \u001b[38;5;124m\"\u001b[39m\u001b[38;5;124msplit\u001b[39m\u001b[38;5;124m\"\u001b[39m: cj,\n\u001b[0;32m   (...)\u001b[0m\n\u001b[1;32m    145\u001b[0m             \u001b[38;5;124m\"\u001b[39m\u001b[38;5;124mdepth\u001b[39m\u001b[38;5;124m\"\u001b[39m: depth,\n\u001b[1;32m    146\u001b[0m         }\n\u001b[1;32m    147\u001b[0m     \u001b[38;5;28;01melse\u001b[39;00m:\n\u001b[1;32m    148\u001b[0m         \u001b[38;5;28;01mreturn\u001b[39;00m {\n\u001b[1;32m    149\u001b[0m             \u001b[38;5;124m\"\u001b[39m\u001b[38;5;124mnode\u001b[39m\u001b[38;5;124m\"\u001b[39m: fj,\n\u001b[1;32m    150\u001b[0m             \u001b[38;5;124m\"\u001b[39m\u001b[38;5;124msplit\u001b[39m\u001b[38;5;124m\"\u001b[39m: cj,\n\u001b[1;32m    151\u001b[0m             \u001b[38;5;124m\"\u001b[39m\u001b[38;5;124mright_tree\u001b[39m\u001b[38;5;124m\"\u001b[39m: split(split_feature, X_right, D, new_loss, depth \u001b[38;5;241m+\u001b[39m \u001b[38;5;241m1\u001b[39m),\n\u001b[0;32m--> 152\u001b[0m             \u001b[38;5;124m\"\u001b[39m\u001b[38;5;124mleft_tree\u001b[39m\u001b[38;5;124m\"\u001b[39m: \u001b[43msplit\u001b[49m\u001b[43m(\u001b[49m\u001b[43msplit_feature\u001b[49m\u001b[43m,\u001b[49m\u001b[43m \u001b[49m\u001b[43mX_left\u001b[49m\u001b[43m,\u001b[49m\u001b[43m \u001b[49m\u001b[43mD\u001b[49m\u001b[43m,\u001b[49m\u001b[43m \u001b[49m\u001b[43mnew_loss\u001b[49m\u001b[43m,\u001b[49m\u001b[43m \u001b[49m\u001b[43mdepth\u001b[49m\u001b[43m \u001b[49m\u001b[38;5;241;43m+\u001b[39;49m\u001b[43m \u001b[49m\u001b[38;5;241;43m1\u001b[39;49m\u001b[43m)\u001b[49m,\n\u001b[1;32m    153\u001b[0m             \u001b[38;5;124m\"\u001b[39m\u001b[38;5;124mlocal objective\u001b[39m\u001b[38;5;124m\"\u001b[39m: np\u001b[38;5;241m.\u001b[39mnan_to_num(\n\u001b[1;32m    154\u001b[0m                 np\u001b[38;5;241m.\u001b[39msqrt(\n\u001b[1;32m    155\u001b[0m                     np\u001b[38;5;241m.\u001b[39msum(D[\u001b[38;5;124m\"\u001b[39m\u001b[38;5;124mvsq\u001b[39m\u001b[38;5;124m\"\u001b[39m] \u001b[38;5;241m*\u001b[39m D[\u001b[38;5;124m\"\u001b[39m\u001b[38;5;124mw\u001b[39m\u001b[38;5;124m\"\u001b[39m])\n\u001b[1;32m    156\u001b[0m                     \u001b[38;5;241m/\u001b[39m ((np\u001b[38;5;241m.\u001b[39msum(D[\u001b[38;5;124m\"\u001b[39m\u001b[38;5;124mw\u001b[39m\u001b[38;5;124m\"\u001b[39m]) \u001b[38;5;241m*\u001b[39m\u001b[38;5;241m*\u001b[39m \u001b[38;5;241m2\u001b[39m))\n\u001b[1;32m    157\u001b[0m                 ),\n\u001b[1;32m    158\u001b[0m                 nan\u001b[38;5;241m=\u001b[39mnp\u001b[38;5;241m.\u001b[39minf,\n\u001b[1;32m    159\u001b[0m             ),\n\u001b[1;32m    160\u001b[0m             \u001b[38;5;124m\"\u001b[39m\u001b[38;5;124mdepth\u001b[39m\u001b[38;5;124m\"\u001b[39m: depth,\n\u001b[1;32m    161\u001b[0m         }\n\u001b[1;32m    163\u001b[0m \u001b[38;5;28;01melse\u001b[39;00m:\n\u001b[1;32m    164\u001b[0m     split_feature_updated \u001b[38;5;241m=\u001b[39m reduce_weight(fj, split_feature\u001b[38;5;241m.\u001b[39mcopy(deep\u001b[38;5;241m=\u001b[39m\u001b[38;5;28;01mTrue\u001b[39;00m))\n",
      "File \u001b[0;32m~/Library/CloudStorage/OneDrive-JohnsHopkins/GitHub/fuse/learn_w.py:123\u001b[0m, in \u001b[0;36msplit\u001b[0;34m(split_feature, X, D, parent_loss, depth, explore_proba)\u001b[0m\n\u001b[1;32m    120\u001b[0m w_left \u001b[38;5;241m=\u001b[39m np\u001b[38;5;241m.\u001b[39margmin(loss_left)\n\u001b[1;32m    121\u001b[0m w_right \u001b[38;5;241m=\u001b[39m np\u001b[38;5;241m.\u001b[39margmin(loss_right)\n\u001b[0;32m--> 123\u001b[0m D\u001b[38;5;241m.\u001b[39mloc[X_left\u001b[38;5;241m.\u001b[39mindex, \u001b[38;5;124m\"\u001b[39m\u001b[38;5;124mw\u001b[39m\u001b[38;5;124m\"\u001b[39m] \u001b[38;5;241m=\u001b[39m w_left  \u001b[38;5;66;03m# update the global dataset\u001b[39;00m\n\u001b[1;32m    124\u001b[0m X_left\u001b[38;5;241m.\u001b[39mloc[\n\u001b[1;32m    125\u001b[0m     X_left\u001b[38;5;241m.\u001b[39mindex, \u001b[38;5;124m\"\u001b[39m\u001b[38;5;124mw\u001b[39m\u001b[38;5;124m\"\u001b[39m\n\u001b[1;32m    126\u001b[0m ] \u001b[38;5;241m=\u001b[39m w_left  \u001b[38;5;66;03m# update the local dataset that will be used for recursion\u001b[39;00m\n\u001b[1;32m    128\u001b[0m D\u001b[38;5;241m.\u001b[39mloc[X_right\u001b[38;5;241m.\u001b[39mindex, \u001b[38;5;124m\"\u001b[39m\u001b[38;5;124mw\u001b[39m\u001b[38;5;124m\"\u001b[39m] \u001b[38;5;241m=\u001b[39m w_right  \u001b[38;5;66;03m# update the global dataset\u001b[39;00m\n",
      "File \u001b[0;32m~/anaconda3/lib/python3.10/site-packages/pandas/core/indexing.py:814\u001b[0m, in \u001b[0;36m_LocationIndexer.__setitem__\u001b[0;34m(self, key, value)\u001b[0m\n\u001b[1;32m    812\u001b[0m \u001b[38;5;28;01melse\u001b[39;00m:\n\u001b[1;32m    813\u001b[0m     key \u001b[38;5;241m=\u001b[39m com\u001b[38;5;241m.\u001b[39mapply_if_callable(key, \u001b[38;5;28mself\u001b[39m\u001b[38;5;241m.\u001b[39mobj)\n\u001b[0;32m--> 814\u001b[0m indexer \u001b[38;5;241m=\u001b[39m \u001b[38;5;28;43mself\u001b[39;49m\u001b[38;5;241;43m.\u001b[39;49m\u001b[43m_get_setitem_indexer\u001b[49m\u001b[43m(\u001b[49m\u001b[43mkey\u001b[49m\u001b[43m)\u001b[49m\n\u001b[1;32m    815\u001b[0m \u001b[38;5;28mself\u001b[39m\u001b[38;5;241m.\u001b[39m_has_valid_setitem_indexer(key)\n\u001b[1;32m    817\u001b[0m iloc \u001b[38;5;241m=\u001b[39m \u001b[38;5;28mself\u001b[39m \u001b[38;5;28;01mif\u001b[39;00m \u001b[38;5;28mself\u001b[39m\u001b[38;5;241m.\u001b[39mname \u001b[38;5;241m==\u001b[39m \u001b[38;5;124m\"\u001b[39m\u001b[38;5;124miloc\u001b[39m\u001b[38;5;124m\"\u001b[39m \u001b[38;5;28;01melse\u001b[39;00m \u001b[38;5;28mself\u001b[39m\u001b[38;5;241m.\u001b[39mobj\u001b[38;5;241m.\u001b[39miloc\n",
      "File \u001b[0;32m~/anaconda3/lib/python3.10/site-packages/pandas/core/indexing.py:697\u001b[0m, in \u001b[0;36m_LocationIndexer._get_setitem_indexer\u001b[0;34m(self, key)\u001b[0m\n\u001b[1;32m    694\u001b[0m \u001b[38;5;28;01mif\u001b[39;00m \u001b[38;5;28misinstance\u001b[39m(key, \u001b[38;5;28mtuple\u001b[39m):\n\u001b[1;32m    695\u001b[0m     \u001b[38;5;28;01mwith\u001b[39;00m suppress(IndexingError):\n\u001b[1;32m    696\u001b[0m         \u001b[38;5;66;03m# suppress \"Too many indexers\"\u001b[39;00m\n\u001b[0;32m--> 697\u001b[0m         \u001b[38;5;28;01mreturn\u001b[39;00m \u001b[38;5;28;43mself\u001b[39;49m\u001b[38;5;241;43m.\u001b[39;49m\u001b[43m_convert_tuple\u001b[49m\u001b[43m(\u001b[49m\u001b[43mkey\u001b[49m\u001b[43m)\u001b[49m\n\u001b[1;32m    699\u001b[0m \u001b[38;5;28;01mif\u001b[39;00m \u001b[38;5;28misinstance\u001b[39m(key, \u001b[38;5;28mrange\u001b[39m):\n\u001b[1;32m    700\u001b[0m     \u001b[38;5;66;03m# GH#45479 test_loc_setitem_range_key\u001b[39;00m\n\u001b[1;32m    701\u001b[0m     key \u001b[38;5;241m=\u001b[39m \u001b[38;5;28mlist\u001b[39m(key)\n",
      "File \u001b[0;32m~/anaconda3/lib/python3.10/site-packages/pandas/core/indexing.py:896\u001b[0m, in \u001b[0;36m_LocationIndexer._convert_tuple\u001b[0;34m(self, key)\u001b[0m\n\u001b[1;32m    892\u001b[0m \u001b[38;5;129m@final\u001b[39m\n\u001b[1;32m    893\u001b[0m \u001b[38;5;28;01mdef\u001b[39;00m \u001b[38;5;21m_convert_tuple\u001b[39m(\u001b[38;5;28mself\u001b[39m, key: \u001b[38;5;28mtuple\u001b[39m) \u001b[38;5;241m-\u001b[39m\u001b[38;5;241m>\u001b[39m \u001b[38;5;28mtuple\u001b[39m:\n\u001b[1;32m    894\u001b[0m     \u001b[38;5;66;03m# Note: we assume _tupleize_axis_indexer has been called, if necessary.\u001b[39;00m\n\u001b[1;32m    895\u001b[0m     \u001b[38;5;28mself\u001b[39m\u001b[38;5;241m.\u001b[39m_validate_key_length(key)\n\u001b[0;32m--> 896\u001b[0m     keyidx \u001b[38;5;241m=\u001b[39m [\u001b[38;5;28mself\u001b[39m\u001b[38;5;241m.\u001b[39m_convert_to_indexer(k, axis\u001b[38;5;241m=\u001b[39mi) \u001b[38;5;28;01mfor\u001b[39;00m i, k \u001b[38;5;129;01min\u001b[39;00m \u001b[38;5;28menumerate\u001b[39m(key)]\n\u001b[1;32m    897\u001b[0m     \u001b[38;5;28;01mreturn\u001b[39;00m \u001b[38;5;28mtuple\u001b[39m(keyidx)\n",
      "File \u001b[0;32m~/anaconda3/lib/python3.10/site-packages/pandas/core/indexing.py:896\u001b[0m, in \u001b[0;36m<listcomp>\u001b[0;34m(.0)\u001b[0m\n\u001b[1;32m    892\u001b[0m \u001b[38;5;129m@final\u001b[39m\n\u001b[1;32m    893\u001b[0m \u001b[38;5;28;01mdef\u001b[39;00m \u001b[38;5;21m_convert_tuple\u001b[39m(\u001b[38;5;28mself\u001b[39m, key: \u001b[38;5;28mtuple\u001b[39m) \u001b[38;5;241m-\u001b[39m\u001b[38;5;241m>\u001b[39m \u001b[38;5;28mtuple\u001b[39m:\n\u001b[1;32m    894\u001b[0m     \u001b[38;5;66;03m# Note: we assume _tupleize_axis_indexer has been called, if necessary.\u001b[39;00m\n\u001b[1;32m    895\u001b[0m     \u001b[38;5;28mself\u001b[39m\u001b[38;5;241m.\u001b[39m_validate_key_length(key)\n\u001b[0;32m--> 896\u001b[0m     keyidx \u001b[38;5;241m=\u001b[39m [\u001b[38;5;28;43mself\u001b[39;49m\u001b[38;5;241;43m.\u001b[39;49m\u001b[43m_convert_to_indexer\u001b[49m\u001b[43m(\u001b[49m\u001b[43mk\u001b[49m\u001b[43m,\u001b[49m\u001b[43m \u001b[49m\u001b[43maxis\u001b[49m\u001b[38;5;241;43m=\u001b[39;49m\u001b[43mi\u001b[49m\u001b[43m)\u001b[49m \u001b[38;5;28;01mfor\u001b[39;00m i, k \u001b[38;5;129;01min\u001b[39;00m \u001b[38;5;28menumerate\u001b[39m(key)]\n\u001b[1;32m    897\u001b[0m     \u001b[38;5;28;01mreturn\u001b[39;00m \u001b[38;5;28mtuple\u001b[39m(keyidx)\n",
      "File \u001b[0;32m~/anaconda3/lib/python3.10/site-packages/pandas/core/indexing.py:1396\u001b[0m, in \u001b[0;36m_LocIndexer._convert_to_indexer\u001b[0;34m(self, key, axis)\u001b[0m\n\u001b[1;32m   1394\u001b[0m         \u001b[38;5;28;01mreturn\u001b[39;00m key\n\u001b[1;32m   1395\u001b[0m     \u001b[38;5;28;01melse\u001b[39;00m:\n\u001b[0;32m-> 1396\u001b[0m         \u001b[38;5;28;01mreturn\u001b[39;00m \u001b[38;5;28;43mself\u001b[39;49m\u001b[38;5;241;43m.\u001b[39;49m\u001b[43m_get_listlike_indexer\u001b[49m\u001b[43m(\u001b[49m\u001b[43mkey\u001b[49m\u001b[43m,\u001b[49m\u001b[43m \u001b[49m\u001b[43maxis\u001b[49m\u001b[43m)\u001b[49m[\u001b[38;5;241m1\u001b[39m]\n\u001b[1;32m   1397\u001b[0m \u001b[38;5;28;01melse\u001b[39;00m:\n\u001b[1;32m   1398\u001b[0m     \u001b[38;5;28;01mtry\u001b[39;00m:\n",
      "File \u001b[0;32m~/anaconda3/lib/python3.10/site-packages/pandas/core/indexing.py:1432\u001b[0m, in \u001b[0;36m_LocIndexer._get_listlike_indexer\u001b[0;34m(self, key, axis)\u001b[0m\n\u001b[1;32m   1429\u001b[0m ax \u001b[38;5;241m=\u001b[39m \u001b[38;5;28mself\u001b[39m\u001b[38;5;241m.\u001b[39mobj\u001b[38;5;241m.\u001b[39m_get_axis(axis)\n\u001b[1;32m   1430\u001b[0m axis_name \u001b[38;5;241m=\u001b[39m \u001b[38;5;28mself\u001b[39m\u001b[38;5;241m.\u001b[39mobj\u001b[38;5;241m.\u001b[39m_get_axis_name(axis)\n\u001b[0;32m-> 1432\u001b[0m keyarr, indexer \u001b[38;5;241m=\u001b[39m \u001b[43max\u001b[49m\u001b[38;5;241;43m.\u001b[39;49m\u001b[43m_get_indexer_strict\u001b[49m\u001b[43m(\u001b[49m\u001b[43mkey\u001b[49m\u001b[43m,\u001b[49m\u001b[43m \u001b[49m\u001b[43maxis_name\u001b[49m\u001b[43m)\u001b[49m\n\u001b[1;32m   1434\u001b[0m \u001b[38;5;28;01mreturn\u001b[39;00m keyarr, indexer\n",
      "File \u001b[0;32m~/anaconda3/lib/python3.10/site-packages/pandas/core/indexes/base.py:6066\u001b[0m, in \u001b[0;36mIndex._get_indexer_strict\u001b[0;34m(self, key, axis_name)\u001b[0m\n\u001b[1;32m   6064\u001b[0m \u001b[38;5;28;01mif\u001b[39;00m \u001b[38;5;28mself\u001b[39m\u001b[38;5;241m.\u001b[39m_index_as_unique:\n\u001b[1;32m   6065\u001b[0m     indexer \u001b[38;5;241m=\u001b[39m \u001b[38;5;28mself\u001b[39m\u001b[38;5;241m.\u001b[39mget_indexer_for(keyarr)\n\u001b[0;32m-> 6066\u001b[0m     keyarr \u001b[38;5;241m=\u001b[39m \u001b[38;5;28;43mself\u001b[39;49m\u001b[38;5;241;43m.\u001b[39;49m\u001b[43mreindex\u001b[49m\u001b[43m(\u001b[49m\u001b[43mkeyarr\u001b[49m\u001b[43m)\u001b[49m[\u001b[38;5;241m0\u001b[39m]\n\u001b[1;32m   6067\u001b[0m \u001b[38;5;28;01melse\u001b[39;00m:\n\u001b[1;32m   6068\u001b[0m     keyarr, indexer, new_indexer \u001b[38;5;241m=\u001b[39m \u001b[38;5;28mself\u001b[39m\u001b[38;5;241m.\u001b[39m_reindex_non_unique(keyarr)\n",
      "File \u001b[0;32m~/anaconda3/lib/python3.10/site-packages/pandas/core/indexes/base.py:4412\u001b[0m, in \u001b[0;36mIndex.reindex\u001b[0;34m(self, target, method, level, limit, tolerance)\u001b[0m\n\u001b[1;32m   4410\u001b[0m \u001b[38;5;28;01melse\u001b[39;00m:\n\u001b[1;32m   4411\u001b[0m     \u001b[38;5;28;01mif\u001b[39;00m \u001b[38;5;28mself\u001b[39m\u001b[38;5;241m.\u001b[39m_index_as_unique:\n\u001b[0;32m-> 4412\u001b[0m         indexer \u001b[38;5;241m=\u001b[39m \u001b[38;5;28;43mself\u001b[39;49m\u001b[38;5;241;43m.\u001b[39;49m\u001b[43mget_indexer\u001b[49m\u001b[43m(\u001b[49m\n\u001b[1;32m   4413\u001b[0m \u001b[43m            \u001b[49m\u001b[43mtarget\u001b[49m\u001b[43m,\u001b[49m\u001b[43m \u001b[49m\u001b[43mmethod\u001b[49m\u001b[38;5;241;43m=\u001b[39;49m\u001b[43mmethod\u001b[49m\u001b[43m,\u001b[49m\u001b[43m \u001b[49m\u001b[43mlimit\u001b[49m\u001b[38;5;241;43m=\u001b[39;49m\u001b[43mlimit\u001b[49m\u001b[43m,\u001b[49m\u001b[43m \u001b[49m\u001b[43mtolerance\u001b[49m\u001b[38;5;241;43m=\u001b[39;49m\u001b[43mtolerance\u001b[49m\n\u001b[1;32m   4414\u001b[0m \u001b[43m        \u001b[49m\u001b[43m)\u001b[49m\n\u001b[1;32m   4415\u001b[0m     \u001b[38;5;28;01melif\u001b[39;00m \u001b[38;5;28mself\u001b[39m\u001b[38;5;241m.\u001b[39m_is_multi:\n\u001b[1;32m   4416\u001b[0m         \u001b[38;5;28;01mraise\u001b[39;00m \u001b[38;5;167;01mValueError\u001b[39;00m(\u001b[38;5;124m\"\u001b[39m\u001b[38;5;124mcannot handle a non-unique multi-index!\u001b[39m\u001b[38;5;124m\"\u001b[39m)\n",
      "File \u001b[0;32m~/anaconda3/lib/python3.10/site-packages/pandas/core/indexes/base.py:3973\u001b[0m, in \u001b[0;36mIndex.get_indexer\u001b[0;34m(self, target, method, limit, tolerance)\u001b[0m\n\u001b[1;32m   3968\u001b[0m     target \u001b[38;5;241m=\u001b[39m target\u001b[38;5;241m.\u001b[39mastype(dtype, copy\u001b[38;5;241m=\u001b[39m\u001b[38;5;28;01mFalse\u001b[39;00m)\n\u001b[1;32m   3969\u001b[0m     \u001b[38;5;28;01mreturn\u001b[39;00m this\u001b[38;5;241m.\u001b[39m_get_indexer(\n\u001b[1;32m   3970\u001b[0m         target, method\u001b[38;5;241m=\u001b[39mmethod, limit\u001b[38;5;241m=\u001b[39mlimit, tolerance\u001b[38;5;241m=\u001b[39mtolerance\n\u001b[1;32m   3971\u001b[0m     )\n\u001b[0;32m-> 3973\u001b[0m \u001b[38;5;28;01mreturn\u001b[39;00m \u001b[38;5;28;43mself\u001b[39;49m\u001b[38;5;241;43m.\u001b[39;49m\u001b[43m_get_indexer\u001b[49m\u001b[43m(\u001b[49m\u001b[43mtarget\u001b[49m\u001b[43m,\u001b[49m\u001b[43m \u001b[49m\u001b[43mmethod\u001b[49m\u001b[43m,\u001b[49m\u001b[43m \u001b[49m\u001b[43mlimit\u001b[49m\u001b[43m,\u001b[49m\u001b[43m \u001b[49m\u001b[43mtolerance\u001b[49m\u001b[43m)\u001b[49m\n",
      "File \u001b[0;32m~/anaconda3/lib/python3.10/site-packages/pandas/core/indexes/base.py:4000\u001b[0m, in \u001b[0;36mIndex._get_indexer\u001b[0;34m(self, target, method, limit, tolerance)\u001b[0m\n\u001b[1;32m   3997\u001b[0m     \u001b[38;5;28;01melse\u001b[39;00m:\n\u001b[1;32m   3998\u001b[0m         tgt_values \u001b[38;5;241m=\u001b[39m target\u001b[38;5;241m.\u001b[39m_get_engine_target()\n\u001b[0;32m-> 4000\u001b[0m     indexer \u001b[38;5;241m=\u001b[39m \u001b[38;5;28;43mself\u001b[39;49m\u001b[38;5;241;43m.\u001b[39;49m\u001b[43m_engine\u001b[49m\u001b[38;5;241;43m.\u001b[39;49m\u001b[43mget_indexer\u001b[49m\u001b[43m(\u001b[49m\u001b[43mtgt_values\u001b[49m\u001b[43m)\u001b[49m\n\u001b[1;32m   4002\u001b[0m \u001b[38;5;28;01mreturn\u001b[39;00m ensure_platform_int(indexer)\n",
      "\u001b[0;31mKeyboardInterrupt\u001b[0m: "
     ]
    }
   ],
   "source": [
    "importlib.reload(learn)\n",
    "# D, w_tree, testing_data = learn.tree_opt(data, outcome, treatment, sample, leaf_proba=1)\n",
    "D_rash, D_forest, w_forest, rashomon_set, f, testing_data = learn.forest_opt(\n",
    "    data=df_,\n",
    "    outcome=\"wk10.relapse_this_week\",\n",
    "    treatment=\"med_met\",\n",
    "    sample=\"S\",\n",
    "    leaf_proba=1,\n",
    "    num_trees=1000,\n",
    "    vote_threshold=1 / 2,\n",
    "    top_k_trees=True,\n",
    "    k=100,\n",
    ")\n",
    "\n",
    "baseline_loss = np.sqrt(np.sum(D_forest[\"vsq\"]) / ((D_forest.shape[0] ** 2)))\n",
    "optimized_loss_forest = np.sqrt(\n",
    "    np.sum(D_rash[\"vsq\"] * D_rash[\"w_opt\"]) / ((np.sum(D_rash[\"w_opt\"])) ** 2)\n",
    ")\n",
    "print(\"Baseline Objective:%.4f\" % (baseline_loss))\n",
    "print(\"Optimized Objective (Forest):%.4f\" % (optimized_loss_forest))"
   ]
  },
  {
   "cell_type": "code",
   "execution_count": null,
   "id": "43b7f0c2-5cbe-4e0d-8da8-5e4b4cd2133e",
   "metadata": {
    "tags": []
   },
   "outputs": [],
   "source": [
    "sns.set(font_scale=1)\n",
    "fig, ax = plt.subplots(ncols=1, figsize=(10, 6), sharex=True, sharey=True)\n",
    "tree.plot_tree(\n",
    "    f,\n",
    "    ax=ax,\n",
    "    feature_names=df_.drop(columns=[outcome, sample, treatment]).columns,\n",
    "    filled=True,\n",
    ")"
   ]
  },
  {
   "cell_type": "markdown",
   "id": "8b090845-e21b-483c-9456-eaf972e09fe8",
   "metadata": {},
   "source": [
    "Thoughts:\n",
    "* TEDSA (observational data) has fewer covariates than experimental sample. Maybe there is different and interesting question here?"
   ]
  }
 ],
 "metadata": {
  "kernelspec": {
   "display_name": "Python 3 (ipykernel)",
   "language": "python",
   "name": "python3"
  },
  "language_info": {
   "codemirror_mode": {
    "name": "ipython",
    "version": 3
   },
   "file_extension": ".py",
   "mimetype": "text/x-python",
   "name": "python",
   "nbconvert_exporter": "python",
   "pygments_lexer": "ipython3",
   "version": "3.10.9"
  }
 },
 "nbformat": 4,
 "nbformat_minor": 5
}
