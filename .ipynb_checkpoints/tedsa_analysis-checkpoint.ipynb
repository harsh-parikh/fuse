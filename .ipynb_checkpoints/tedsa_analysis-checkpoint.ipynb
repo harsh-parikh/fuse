{
 "cells": [
  {
   "cell_type": "markdown",
   "id": "1a88899f-8933-4a13-97d0-92216d4864ed",
   "metadata": {},
   "source": [
    "# MOUD Case Study\n",
    "We apply ROOT to the medication for opioid use (MOUD) data where we are interested in transporting the treatment effect from the Starting Treatment With Agonist Replacement Therapies (START) trial to the population of individuals in the US seeking treatment for opioid use disorder, using the Treatment Episode Dataset-Admissions 2015-2017. We are interested in (i) the characteristics of the subpopulation for which we can precisely estimate the TATE using the trial evidence, (ii) the TATE estimate for this subpopulation, and (iii) the characteristics identifying those who are underrepresented in the trial cohort."
   ]
  },
  {
   "cell_type": "code",
   "execution_count": null,
   "id": "949d8262-5e51-4d35-a8bb-7acfd4fe5d11",
   "metadata": {
    "tags": []
   },
   "outputs": [],
   "source": [
    "import numpy as np\n",
    "import pandas as pd\n",
    "import matplotlib.pyplot as plt\n",
    "import seaborn as sns\n",
    "import sklearn.tree as tree\n",
    "from sklearn.impute import KNNImputer\n",
    "import importlib\n",
    "\n",
    "#### main packages\n",
    "import learn_w as learn\n",
    "import black\n",
    "\n",
    "importlib.reload(learn)\n",
    "\n",
    "import warnings\n",
    "\n",
    "warnings.filterwarnings(\"ignore\")\n",
    "\n",
    "%load_ext jupyter_black\n",
    "sns.set(font_scale=1.25, style=\"whitegrid\")\n",
    "np.random.seed(0)"
   ]
  },
  {
   "cell_type": "markdown",
   "id": "034bf21f-4fa4-4722-8a3f-723cca98444f",
   "metadata": {},
   "source": [
    "## Fetching the Data\n",
    "Reading the data from CSV"
   ]
  },
  {
   "cell_type": "code",
   "execution_count": null,
   "id": "76c797aa-dc0e-483c-a215-4183c505f722",
   "metadata": {
    "tags": []
   },
   "outputs": [],
   "source": [
    "outcome_cols = [\"opioiduse12\", \"opioiduse24\"] # defining outcome columns (12wk and 24wk outcomes)\n",
    "treatment_col = \"medicine_assigned\" # defining treatment column\n",
    "discrete_cov = [\"xrace\", \"mar\", \"sex\"] # declaring which covariate columns are discrete\n",
    "\n",
    "## reading and processing CTN 27 and TEDS-A data\n",
    "\n",
    "baseline_harmonized = pd.read_csv(\n",
    "    \"/Users/harshparikh/Library/CloudStorage/OneDrive-JohnsHopkins/MOUD_data/updated_data/ctn0094/drv/clean_patients_with_relapse_wide.csv\",\n",
    "    index_col=0,\n",
    ")\n",
    "\n",
    "stacked_list = []\n",
    "for i in range(1, 6):\n",
    "    stacked_list.append(\n",
    "        pd.read_csv(\n",
    "            \"/Users/harshparikh/Library/CloudStorage/OneDrive-JohnsHopkins/MOUD_data/stacked_list_%d.csv\"\n",
    "            % (i),\n",
    "            index_col=0,\n",
    "        )\n",
    "    )\n",
    "df = stacked_list[0]\n",
    "\n",
    "df_tedsa = df.loc[df[\"trialdata\"] == 0] # creating a dataframe for TEDS-A data"
   ]
  },
  {
   "cell_type": "markdown",
   "id": "fd98a5a8-b932-4306-8293-c6e2b18d9941",
   "metadata": {
    "tags": []
   },
   "source": [
    "### Combining TEDS-A + CTN 27 dataset"
   ]
  },
  {
   "cell_type": "code",
   "execution_count": null,
   "id": "5ca75ba5-a916-45e9-b026-061ee9f73466",
   "metadata": {
    "tags": []
   },
   "outputs": [],
   "source": [
    "np.random.seed(42) # setting the seed for reproducability\n",
    "\n",
    "ct94 = baseline_harmonized.loc[(baseline_harmonized[\"project\"] == 27)] # creating a dataframe for MOUD trial data CTN 27\n",
    "outcome94 = ct94[outcome_cols] # outcomes\n",
    "\n",
    "common_cols = set.intersection(set(df_tedsa.columns), set(ct94.columns)) # limiting to common columns across trial and target datasets\n",
    "\n",
    "ct94_cc = ct94[common_cols].drop(columns=[\"edu\", \"mar\"]) # dropping education and marital status from data due to lot of missingness\n",
    "\n",
    "ct94_cc[\"sex\"] = (ct94[\"sex\"] == \"male\").astype(int)  # male = 1 and female = 0\n",
    "\n",
    "imputer = KNNImputer(n_neighbors=4, weights=\"distance\", add_indicator=False)\n",
    "ct94_cc_imputed = imputer.fit_transform(ct94_cc) \n",
    "ct94_cc = pd.DataFrame(ct94_cc_imputed, index=ct94_cc.index, columns=ct94_cc.columns) # imputing missingness in rest of the trial data\n",
    "\n",
    "ct94_cc[\"med_met\"] = (ct94[treatment_col] == \"met\").astype(\n",
    "    int\n",
    ")  # methadone = 1 and bupenorphine = 0 ; binarizing treatment\n",
    "ct94_cc = ct94_cc.dropna() # dropping any missing values (which there should not be any)\n",
    "\n",
    "ct94_cc[\"S\"] = 1 # setting sample indicator \n",
    "ct94_cc = ct94_cc.round(0).astype(int) # setting datatype of each column to int\n",
    "\n",
    "ct94_cc = ct94_cc.join(outcome94, how=\"inner\") # joining outcome column with the data\n",
    "ct94_cc.groupby(by=\"med_met\").mean()[outcome_cols] # looking at avg outcomes per treatment arm"
   ]
  },
  {
   "cell_type": "code",
   "execution_count": null,
   "id": "26d8391e-fa1c-4772-a289-837e6279d88f",
   "metadata": {
    "tags": []
   },
   "outputs": [],
   "source": [
    "df_tedsa_cc = df_tedsa[common_cols].drop(columns=[\"edu\", \"mar\"]) # dropping education and marital status from data due to lot of missingness\n",
    "df_tedsa_cc[\"S\"] = 0  # setting sample indicator \n",
    "# invert age categories (we need to do this but because of this we will not consider underrepresentation on age)\n",
    "df_tedsa_cc[\"age\"].replace(\n",
    "    {\n",
    "        1: 13,\n",
    "        2: 16,\n",
    "        3: 18,\n",
    "        4: 22,\n",
    "        5: 27,\n",
    "        6: 32,\n",
    "        7: 37,\n",
    "        8: 42,\n",
    "        9: 47,\n",
    "        10: 52,\n",
    "        11: 60,\n",
    "        12: 68,\n",
    "    },\n",
    "    inplace=True,\n",
    ")"
   ]
  },
  {
   "cell_type": "code",
   "execution_count": null,
   "id": "29a93496-cdbc-49e8-98d3-d2e2af1e1baf",
   "metadata": {
    "tags": []
   },
   "outputs": [],
   "source": [
    "df_primary = pd.concat([df_tedsa_cc.sample(frac=1, replace=False), ct94_cc]) # merging target and trial cohorts \n",
    "df_ = df_primary.drop(columns=[outcome_cols[0]]).fillna(0) # outcome data is missing in the target sample -- we are just filling it with 0's however we are never going to use this outcome; python somehow does not like missing values"
   ]
  },
  {
   "cell_type": "code",
   "execution_count": null,
   "id": "f3c7b9b1-b48e-42eb-b34f-b22e63b49707",
   "metadata": {
    "tags": []
   },
   "outputs": [],
   "source": [
    "outcome = outcome_cols[1]\n",
    "treatment = \"med_met\"\n",
    "sample = \"S\"\n",
    "data = df_\n",
    "S = df_[sample]  # indicator for the sample\n",
    "Y = df_[outcome]  # outcome variable\n",
    "T = df_[treatment]  # indicator for the treatment\n",
    "\n",
    "data_dummy = pd.get_dummies(data, columns=[\"xrace\"]) # dummifying race\n",
    "\n",
    "# renaming variables to something meaningful\n",
    "data_dummy.rename(\n",
    "    columns={\n",
    "        \"sex\": \"Male\",\n",
    "        \"age\": \"Age\",\n",
    "        \"ivdrug\": \"IV Drug Use\",\n",
    "        \"bamphetamine30_base\": \"Hx Amphetamine\",\n",
    "        \"bbenzo30_base\": \"Hx Benzo\",\n",
    "        \"bcannabis30_base\": \"Hx Cannabis\",\n",
    "        \"xrace_1\": \"White\",\n",
    "        \"xrace_2\": \"Black\",\n",
    "        \"xrace_3\": \"Hispanic\",\n",
    "        \"xrace_4\": \"Other Race\",\n",
    "    },\n",
    "    inplace=True,\n",
    ")\n",
    "\n",
    "X = data_dummy.drop(columns=[outcome, treatment, sample])  # pre-treatment covariates\n",
    "\n",
    "latex_table = data_dummy.groupby(by=[sample]).mean().T.round(4).to_latex() # printing summary of covariates disaggregated by sample indicator"
   ]
  },
  {
   "cell_type": "markdown",
   "id": "950f80a2-a148-4719-b531-becdc35ed619",
   "metadata": {},
   "source": [
    "## Estimate RCT-ATE and Target-ATE"
   ]
  },
  {
   "cell_type": "code",
   "execution_count": null,
   "id": "ba22a047-6c0f-4e4f-bc98-230b667d3569",
   "metadata": {
    "tags": []
   },
   "outputs": [],
   "source": [
    "importlib.reload(learn)\n",
    "np.random.seed(42) # okay, I am setting the seed again for reproducability \n",
    "df_v, pi, pi_m, e_m, data2 = learn.estimate_ipw(data_dummy, outcome, treatment, sample) # running IPW estimation. This returns a dataframe unit specific weighted outcome, along with selection score per unit and models for selection and propensity score"
   ]
  },
  {
   "cell_type": "code",
   "execution_count": null,
   "id": "891a95e0-8c7f-4151-b997-ba1823b01e74",
   "metadata": {
    "tags": []
   },
   "outputs": [],
   "source": [
    "print(\n",
    "    \"RCT-ATE: %.2f ± %.2f\"\n",
    "    % (\n",
    "        100\n",
    "        * (\n",
    "            df_.loc[(df_[sample] == 1) * (df_[treatment] == 1), outcome].mean()\n",
    "            - df_.loc[(df_[sample] == 1) * (df_[treatment] == 0), outcome].mean()\n",
    "        ),\n",
    "        100\n",
    "        * (\n",
    "            df_.loc[(df_[sample] == 1) * (df_[treatment] == 1), outcome].sem()\n",
    "            + df_.loc[(df_[sample] == 1) * (df_[treatment] == 0), outcome].sem()\n",
    "        ),\n",
    "    )\n",
    ")\n",
    "\n",
    "\n",
    "print(\n",
    "    \"Transported ATE: %.2f ± %.2f\" % (100 * df_v[\"te\"].mean(), 100 * df_v[\"te\"].sem())\n",
    ")"
   ]
  },
  {
   "cell_type": "markdown",
   "id": "4de2c7d9-9f8b-4d3f-a0c6-e2328109fed6",
   "metadata": {
    "tags": []
   },
   "source": [
    "## Characterizing Underrepresented Population via Selection Score"
   ]
  },
  {
   "cell_type": "code",
   "execution_count": null,
   "id": "8ca79d58-36f3-4dfe-b268-0b57a584fa1b",
   "metadata": {
    "tags": []
   },
   "outputs": [],
   "source": [
    "np.random.seed(42)\n",
    "data_dummy_logit = data_dummy.copy(deep=True)\n",
    "data_dummy_logit[\"pi(x)\"] = pi_m.predict_proba(X)[:, 1]\n",
    "data_dummy_logit[\"pi(x)/pi\"] = data_dummy_logit[\"pi(x)\"] / data_dummy_logit[\"S\"].mean()\n",
    "# exp_te_m = en.AdaBoostRegressor().fit(data2[X.drop(columns=[\"Age\"]).columns], df_v[\"a\"])\n",
    "\n",
    "data_dummy_logit[\"pi(x)/pi\"] = data_dummy_logit[\"pi(x)\"] / data_dummy_logit[\"S\"].mean()"
   ]
  },
  {
   "cell_type": "markdown",
   "id": "ac69c8ce-7e9b-4486-a948-2654f2029a25",
   "metadata": {},
   "source": [
    "### Plotting selection scores per study samples"
   ]
  },
  {
   "cell_type": "code",
   "execution_count": null,
   "id": "4a6aa746-a046-4986-89d2-adfb94b0e751",
   "metadata": {
    "tags": []
   },
   "outputs": [],
   "source": [
    "fig, ax = plt.subplots(sharex=True, figsize=(10, 3), dpi=600)\n",
    "sns.set(font_scale=1.8, style=\"whitegrid\")\n",
    "sns.violinplot(\n",
    "    data=data_dummy_logit,\n",
    "    x=\"pi(x)/pi\",\n",
    "    y=\"S\",\n",
    "    hue=\"S\",\n",
    "    split=True,\n",
    "    orient=\"h\",\n",
    "    ax=ax,\n",
    "    alpha=0.5,\n",
    "    inner=\"quart\",\n",
    "    bw=0.25,\n",
    "    palette=\"Set1\",\n",
    ")\n",
    "plt.xlabel(r\"$\\ell(x)/{\\ell}$\")\n",
    "plt.tight_layout()\n",
    "plt.savefig(\"selection_logit.pdf\")\n",
    "\n",
    "data_dummy_logit = data_dummy_logit.drop(columns=X.columns, errors=\"ignore\")\n",
    "data_dummy_logit.mean()"
   ]
  },
  {
   "cell_type": "markdown",
   "id": "32d37f43-bb74-4570-99be-3ca138a7b815",
   "metadata": {},
   "source": [
    "### Ad-hoc $w(x) = \\mathbf{1}[ \\ell(x)/\\ell > 0.87 ]$"
   ]
  },
  {
   "cell_type": "code",
   "execution_count": null,
   "id": "449b67f6-be6d-45f8-ad82-75fdead97253",
   "metadata": {
    "tags": []
   },
   "outputs": [],
   "source": [
    "data_dummy_logit[\"w (predefined threshold)\"] = (\n",
    "    (\n",
    "        (data_dummy_logit[\"pi(x)\"] / S.mean())\n",
    "        / ((1 - data_dummy_logit[\"pi(x)\"]) / (1 - S.mean()))\n",
    "    )\n",
    "    > 0.87\n",
    ").astype(int)\n",
    "data_dummy_logit.mean()\n",
    "\n",
    "print(\n",
    "    r\"Post Pruning, ATTE: %.3f ± %.3f\"\n",
    "    % (\n",
    "        100 * df_v[\"te\"].loc[data_dummy_logit[\"w (predefined threshold)\"] == 1].mean(),\n",
    "        100 * df_v[\"te\"].loc[data_dummy_logit[\"w (predefined threshold)\"] == 1].sem(),\n",
    "    )\n",
    ")\n",
    "\n",
    "data_dummy_logit[\"pi(x)/pi\"] = data_dummy_logit[\"pi(x)\"] / data_dummy_logit[\"S\"].mean()"
   ]
  },
  {
   "cell_type": "markdown",
   "id": "d2633566-652d-40d1-b15a-b1b61f5e3712",
   "metadata": {
    "tags": []
   },
   "source": [
    "### Modeling $w(x) = \\mathbf{1}[\\pi(x)/\\pi > a^\\star]$ and finding optimal $a^\\star$"
   ]
  },
  {
   "cell_type": "code",
   "execution_count": null,
   "id": "6ef018ce-6ded-430f-bbf4-744fd5e64d57",
   "metadata": {
    "tags": []
   },
   "outputs": [],
   "source": [
    "np.random.seed(42)\n",
    "a_vals = np.linspace(0.83, 0.86, num=5000)\n",
    "\n",
    "\n",
    "def obj(a):\n",
    "    data_dummy_logit[\"w (optimal threshold)\"] = (\n",
    "        data_dummy_logit[\"pi(x)/pi\"] > a\n",
    "    ).astype(int)\n",
    "    val = 100 * df_v[\"te\"].loc[data_dummy_logit[\"w (optimal threshold)\"] == 1].sem()\n",
    "    return val\n",
    "\n",
    "\n",
    "objs = [obj(a) for a in a_vals]\n",
    "\n",
    "plt.axhline(100 * df_v[\"te\"].sem())\n",
    "sns.lineplot(x=a_vals, y=objs)\n",
    "\n",
    "data_dummy_logit[\"w (optimal threshold)\"] = (\n",
    "    data_dummy_logit[\"pi(x)/pi\"] > a_vals[np.argmin(objs)]\n",
    ").astype(int)\n",
    "\n",
    "a_vals[np.argmin(objs)], objs[np.argmin(objs)], data_dummy_logit[\n",
    "    \"w (optimal threshold)\"\n",
    "].loc[data_dummy_logit[\"S\"] == 1].mean()"
   ]
  },
  {
   "cell_type": "markdown",
   "id": "73e0ab17-b132-4baf-beef-b27df502a41f",
   "metadata": {},
   "source": [
    "### Printing treatment effects estimates"
   ]
  },
  {
   "cell_type": "code",
   "execution_count": null,
   "id": "68ef8252-6dff-4e20-bcef-9db2f5538b74",
   "metadata": {
    "tags": []
   },
   "outputs": [],
   "source": [
    "print(\n",
    "    r\"Pre Pruning, ATTE: %.3f ± %.3f\"\n",
    "    % (\n",
    "        100 * df_v[\"te\"].mean(),\n",
    "        100 * df_v[\"te\"].sem(),\n",
    "    )\n",
    ")\n",
    "\n",
    "print(\n",
    "    r\"Post Pruning (using predefined $\\pi(x)$ threshold), ATTE: %.3f ± %.3f\"\n",
    "    % (\n",
    "        100\n",
    "        * df_v[\"te\"]\n",
    "        .loc[data_dummy_logit[\"w (predefined threshold)\"].astype(int) == 1]\n",
    "        .mean(),\n",
    "        100\n",
    "        * df_v[\"te\"]\n",
    "        .loc[data_dummy_logit[\"w (predefined threshold)\"].astype(int) == 1]\n",
    "        .sem(),\n",
    "    )\n",
    ")\n",
    "\n",
    "print(\n",
    "    r\"Post Pruning (using optimal $\\pi(x)$ threshold), ATTE: %.3f ± %.3f\"\n",
    "    % (\n",
    "        100\n",
    "        * df_v[\"te\"]\n",
    "        .loc[data_dummy_logit[\"w (optimal threshold)\"].astype(int) == 1]\n",
    "        .mean(),\n",
    "        100\n",
    "        * df_v[\"te\"]\n",
    "        .loc[data_dummy_logit[\"w (optimal threshold)\"].astype(int) == 1]\n",
    "        .sem(),\n",
    "    )\n",
    ")"
   ]
  },
  {
   "cell_type": "markdown",
   "id": "8da80b26-9d07-4b64-bece-06662b72f03b",
   "metadata": {
    "tags": []
   },
   "source": [
    "## Characterizing Underrepresented Population via Indicator $w(x)$\n",
    "$w(x) = \\sum_i w_i \\mathbf{1}[x=X_i]$"
   ]
  },
  {
   "cell_type": "code",
   "execution_count": null,
   "id": "2dfbc018-5d82-4972-9504-d50d83f3f3f1",
   "metadata": {
    "tags": []
   },
   "outputs": [],
   "source": [
    "importlib.reload(learn)\n",
    "# D, w_tree, testing_data = learn.tree_opt(data, outcome, treatment, sample, leaf_proba=1)\n",
    "np.random.seed(42)\n",
    "D_labels, f, testing_data = learn.kmeans_opt(\n",
    "    data=data_dummy,\n",
    "    outcome=outcome,\n",
    "    k=400,\n",
    "    treatment=treatment,\n",
    "    sample=sample,\n",
    "    threshold=1,\n",
    ")\n",
    "\n",
    "\n",
    "data_dummy_logit[\"w (Indicator)\"] = D_labels[\"w\"].astype(int)"
   ]
  },
  {
   "cell_type": "code",
   "execution_count": null,
   "id": "7dfa2608-1301-4a93-8e81-eb3edfcb971f",
   "metadata": {
    "tags": []
   },
   "outputs": [],
   "source": [
    "print(\n",
    "    r\"Post Pruning (using optimal $\\pi(x)$ threshold), ATTE: %.3f ± %.3f\"\n",
    "    % (\n",
    "        100 * df_v[\"te\"].loc[data_dummy_logit[\"w (Indicator)\"] == 1].mean(),\n",
    "        100 * df_v[\"te\"].loc[data_dummy_logit[\"w (Indicator)\"] == 1].sem(),\n",
    "    )\n",
    ")"
   ]
  },
  {
   "cell_type": "markdown",
   "id": "4c9b4af5-f356-4cdb-9a40-e40e75c193cd",
   "metadata": {},
   "source": [
    "## Characterizing Underrepresented Population via ROOT"
   ]
  },
  {
   "cell_type": "code",
   "execution_count": null,
   "id": "05894cc0-7e01-432e-8c14-1c189ecbc9be",
   "metadata": {
    "tags": []
   },
   "outputs": [],
   "source": [
    "importlib.reload(learn)\n",
    "\n",
    "# running ROOT\n",
    "np.random.seed(42)\n",
    "D_rash, D_forest, w_forest, rashomon_set, f, testing_data = learn.forest_opt(\n",
    "    data=data_dummy.drop(columns=[\"w\"], errors=\"ignore\"),\n",
    "    outcome=outcome,\n",
    "    treatment=treatment,\n",
    "    sample=sample,\n",
    "    leaf_proba=0.25,\n",
    "    num_trees=5000,\n",
    "    vote_threshold=9 / 10,\n",
    ")\n",
    "\n",
    "# calculating a baseline objective value i.e. SE when no region is pruned from the analysis \n",
    "baseline_loss = np.sqrt(np.sum(D_forest[\"vsq\"]) / ((D_forest.shape[0] ** 2)))"
   ]
  },
  {
   "cell_type": "code",
   "execution_count": null,
   "id": "147c1000-413b-40ac-a076-0a056e09a4f6",
   "metadata": {
    "tags": []
   },
   "outputs": [],
   "source": [
    "np.random.seed(42)\n",
    "\n",
    "### Sorting trees by their objective values (smallest to largest)\n",
    "local_obj = pd.DataFrame(\n",
    "    np.array([w_forest[i][\"local objective\"] for i in range(len(w_forest))]),\n",
    "    columns=[\"Objective\"],\n",
    ").sort_values(by=\"Objective\")\n",
    "\n",
    "### choosing top-k trees and plotting relative obj (Creating a Rashomon Set) -- seeing where the objective value stabilizes\n",
    "top_k = 25\n",
    "plt.plot((local_obj.iloc[:top_k] / baseline_loss)[\"Objective\"].values)\n",
    "\n",
    "w_rash = [\"w_tree_%d\" % (i) for i in list(local_obj.iloc[:top_k].index)]"
   ]
  },
  {
   "cell_type": "code",
   "execution_count": null,
   "id": "8095e686-03ca-4a83-ac79-3b48fb74a0b1",
   "metadata": {
    "tags": []
   },
   "outputs": [],
   "source": [
    "avg_votes = D_forest[w_rash].mean(axis=1)  \n",
    "D_rash[\"w_opt\"] = avg_votes\n",
    "print(\n",
    "    r\"Post Pruning, ATTE: %.3f ± %.3f\"\n",
    "    % (\n",
    "        100 * D_rash[\"v\"].loc[D_rash[\"w_opt\"].astype(int) == 1].mean(),\n",
    "        100 * D_rash[\"v\"].loc[D_rash[\"w_opt\"].astype(int) == 1].sem(),\n",
    "    )\n",
    ")\n",
    "\n",
    "np.random.seed(42)\n",
    "num_trees = 1\n",
    "explainer = tree.DecisionTreeClassifier(max_leaf_nodes=8).fit(\n",
    "    X.drop(columns=[\"Age\"]).loc[avg_votes.index], avg_votes == 1\n",
    ") # we are not using age here because we inverted categorical age variable to continuous number in target sample, rendering it not interesting for underrepresentation"
   ]
  },
  {
   "cell_type": "code",
   "execution_count": null,
   "id": "51b4744b-b6ea-4627-a5aa-19c99867b556",
   "metadata": {
    "tags": []
   },
   "outputs": [],
   "source": [
    "fig, ax = plt.subplots(nrows=num_trees, figsize=(20, 8), dpi=600)\n",
    "for i in range(num_trees):\n",
    "    if num_trees == 1:\n",
    "        tree.plot_tree(\n",
    "            explainer,  # .estimators_[i, 0],\n",
    "            feature_names=[\n",
    "                \"IV Drug Use\",\n",
    "                \"Hx Amphetamine\",\n",
    "                \"Male\",\n",
    "                \"Hx Cannabis\",\n",
    "                \"Hx Benzo\",\n",
    "                \"White\",\n",
    "                \"Black\",\n",
    "                \"Hispanic\",\n",
    "                \"Other Race\",\n",
    "            ],\n",
    "            ax=ax,\n",
    "            filled=True,\n",
    "            fontsize=10,\n",
    "            # proportion=True,\n",
    "            impurity=False,\n",
    "        )\n",
    "    else:\n",
    "        tree.plot_tree(\n",
    "            explainer.estimators_[i, 0],\n",
    "            feature_names=[\n",
    "                \"IV Drug Use\",\n",
    "                \"Hx Amphetamine\",\n",
    "                \"Male\",\n",
    "                \"Hx Cannabis\",\n",
    "                \"Hx Benzo\",\n",
    "                \"White\",\n",
    "                \"Black\",\n",
    "                \"Hispanic\",\n",
    "                \"Other Race\",\n",
    "            ],\n",
    "            ax=ax[i],\n",
    "            filled=True,\n",
    "            fontsize=10,\n",
    "            # proportion=True,\n",
    "        )\n",
    "plt.savefig(\"tedsa_ctn27.pdf\", dpi=600)"
   ]
  },
  {
   "cell_type": "markdown",
   "id": "f241436e-316a-4054-9fb2-885019b0f3b2",
   "metadata": {},
   "source": [
    "## Plotting All results in Selections Score Space"
   ]
  },
  {
   "cell_type": "code",
   "execution_count": null,
   "id": "0e87ea71-22cd-4fe4-8867-fd31ddb8da12",
   "metadata": {
    "tags": []
   },
   "outputs": [],
   "source": [
    "data_dummy_logit[\"w (ROOT)\"] = D_rash[\"w_opt\"].astype(int)\n",
    "fig, ax = plt.subplots(\n",
    "    nrows=2, ncols=2, sharex=True, sharey=True, figsize=(20, 8), dpi=600\n",
    ")\n",
    "\n",
    "sns.swarmplot(\n",
    "    data=data_dummy_logit.loc[data_dummy_logit[\"S\"] == 1].astype(float),\n",
    "    x=\"pi(x)/pi\",\n",
    "    y=\"w (predefined threshold)\",\n",
    "    hue=\"w (predefined threshold)\",\n",
    "    # split=True,\n",
    "    orient=\"h\",\n",
    "    ax=ax[0, 0],\n",
    "    size=5,\n",
    "    # alpha=0.5,\n",
    "    # inner=\"quart\",\n",
    "    # fill=True,\n",
    "    legend=False,\n",
    "    hue_order=[1, 0],\n",
    ")\n",
    "sns.violinplot(\n",
    "    data=data_dummy_logit.loc[data_dummy_logit[\"S\"] == 1].astype(float),\n",
    "    y=\"w (predefined threshold)\",\n",
    "    hue=\"w (predefined threshold)\",\n",
    "    x=\"pi(x)/pi\",\n",
    "    orient=\"h\",\n",
    "    # split=True,\n",
    "    alpha=0.25,\n",
    "    ax=ax[0, 0],\n",
    "    inner=\"quart\",\n",
    "    fill=True,\n",
    "    hue_order=[1, 0],\n",
    "    legend=False,\n",
    ")\n",
    "ax[0, 0].set_ylabel(\"w\")\n",
    "ax[0, 0].axvline(0.87, ls=\"--\", c=\"black\")\n",
    "ax[0, 0].set_title(\"(a) Predefined Defined Threshold on Selection Score\")\n",
    "\n",
    "sns.swarmplot(\n",
    "    data=data_dummy_logit.loc[data_dummy_logit[\"S\"] == 1].astype(float),\n",
    "    x=\"pi(x)/pi\",\n",
    "    y=\"w (optimal threshold)\",\n",
    "    hue=\"w (optimal threshold)\",\n",
    "    # split=True,\n",
    "    orient=\"h\",\n",
    "    ax=ax[0, 1],\n",
    "    size=5,\n",
    "    # alpha=0.5,\n",
    "    # inner=\"quart\",\n",
    "    # fill=True,\n",
    "    legend=False,\n",
    "    hue_order=[1, 0],\n",
    ")\n",
    "sns.violinplot(\n",
    "    data=data_dummy_logit.loc[data_dummy_logit[\"S\"] == 1].astype(float),\n",
    "    y=\"w (optimal threshold)\",\n",
    "    hue=\"w (optimal threshold)\",\n",
    "    x=\"pi(x)/pi\",\n",
    "    orient=\"h\",\n",
    "    # split=True,\n",
    "    alpha=0.25,\n",
    "    ax=ax[0, 1],\n",
    "    inner=\"quart\",\n",
    "    fill=True,\n",
    "    hue_order=[1, 0],\n",
    "    legend=False,\n",
    ")\n",
    "ax[0, 1].set_ylabel(\"w\")\n",
    "ax[0, 1].axvline(a_vals[np.argmin(objs)], ls=\"--\", c=\"black\")\n",
    "ax[0, 1].set_title(\"(b) Optimized Threshold on Selection Score\")\n",
    "\n",
    "\n",
    "sns.swarmplot(\n",
    "    data=data_dummy_logit.loc[data_dummy_logit[\"S\"] == 1].astype(float),\n",
    "    y=\"w (Indicator)\",\n",
    "    hue=\"w (Indicator)\",\n",
    "    x=\"pi(x)/pi\",\n",
    "    orient=\"h\",\n",
    "    # split=True,\n",
    "    # alpha=0.5,\n",
    "    ax=ax[1, 0],\n",
    "    size=5,\n",
    "    # inner=\"quart\",\n",
    "    # fill=True,\n",
    "    legend=False,\n",
    "    hue_order=[1, 0],\n",
    ")\n",
    "sns.violinplot(\n",
    "    data=data_dummy_logit.loc[data_dummy_logit[\"S\"] == 1].astype(float),\n",
    "    y=\"w (Indicator)\",\n",
    "    hue=\"w (Indicator)\",\n",
    "    x=\"pi(x)/pi\",\n",
    "    orient=\"h\",\n",
    "    # split=True,\n",
    "    alpha=0.25,\n",
    "    ax=ax[1, 0],\n",
    "    inner=\"quart\",\n",
    "    fill=True,\n",
    "    legend=False,\n",
    "    hue_order=[1, 0],\n",
    ")\n",
    "ax[1, 0].set_title(\"(c) Indicator\")\n",
    "ax[1, 0].set_ylabel(\"w\")\n",
    "\n",
    "\n",
    "sns.swarmplot(\n",
    "    data=data_dummy_logit.loc[data_dummy_logit[\"S\"] == 1].astype(float),\n",
    "    y=\"w (ROOT)\",\n",
    "    hue=\"w (ROOT)\",\n",
    "    x=\"pi(x)/pi\",\n",
    "    orient=\"h\",\n",
    "    # split=True,\n",
    "    # alpha=0.5,\n",
    "    ax=ax[1, 1],\n",
    "    size=5,\n",
    "    # inner=\"quart\",\n",
    "    # fill=True,\n",
    "    legend=False,\n",
    "    hue_order=[1, 0],\n",
    ")\n",
    "sns.violinplot(\n",
    "    data=data_dummy_logit.loc[data_dummy_logit[\"S\"] == 1].astype(float),\n",
    "    y=\"w (ROOT)\",\n",
    "    hue=\"w (ROOT)\",\n",
    "    x=\"pi(x)/pi\",\n",
    "    orient=\"h\",\n",
    "    # split=True,\n",
    "    alpha=0.25,\n",
    "    ax=ax[1, 1],\n",
    "    inner=\"quart\",\n",
    "    fill=True,\n",
    "    hue_order=[1, 0],\n",
    ")\n",
    "ax[1, 1].set_title(\"(d) ROOT\")\n",
    "ax[1, 1].legend(title=\"w\")\n",
    "ax[1, 1].set_ylabel(\"w\")\n",
    "\n",
    "\n",
    "# plt.ylabel(\"w\")\n",
    "# plt.legend(title=\"w\")\n",
    "plt.xlabel(r\"$\\ell(x)/\\ell$\")\n",
    "plt.tight_layout()\n",
    "plt.savefig(\"underrep_root.pdf\")\n"
   ]
  },
  {
   "cell_type": "code",
   "execution_count": null,
   "id": "a54a127d-fec5-4665-a919-191e0680da5f",
   "metadata": {},
   "outputs": [],
   "source": [
    "### Percentage of covariate space marked as underrepresented\n",
    "data_dummy_logit.mean()"
   ]
  }
 ],
 "metadata": {
  "kernelspec": {
   "display_name": "Python 3 (ipykernel)",
   "language": "python",
   "name": "python3"
  },
  "language_info": {
   "codemirror_mode": {
    "name": "ipython",
    "version": 3
   },
   "file_extension": ".py",
   "mimetype": "text/x-python",
   "name": "python",
   "nbconvert_exporter": "python",
   "pygments_lexer": "ipython3",
   "version": "3.10.9"
  }
 },
 "nbformat": 4,
 "nbformat_minor": 5
}
