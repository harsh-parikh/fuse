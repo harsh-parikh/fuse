{
 "cells": [
  {
   "cell_type": "code",
   "execution_count": null,
   "id": "949d8262-5e51-4d35-a8bb-7acfd4fe5d11",
   "metadata": {
    "tags": []
   },
   "outputs": [],
   "source": [
    "import numpy as np\n",
    "import pandas as pd\n",
    "import matplotlib.pyplot as plt\n",
    "from matplotlib.patches import Rectangle\n",
    "import seaborn as sns\n",
    "import scipy.special as sp\n",
    "import sklearn.datasets as datasets\n",
    "import sklearn.linear_model as lm\n",
    "import sklearn.ensemble as en\n",
    "import sklearn.tree as tree\n",
    "from sklearn.model_selection import train_test_split\n",
    "from sklearn.impute import KNNImputer\n",
    "import econml\n",
    "import importlib\n",
    "import pyreadr\n",
    "\n",
    "#### data generation packages\n",
    "import strawman_edge\n",
    "import strawman_center\n",
    "import all_linear\n",
    "\n",
    "#### main packages\n",
    "import characterize\n",
    "import estimate_atte as est\n",
    "import learn_w as learn\n",
    "import black\n",
    "\n",
    "importlib.reload(est)\n",
    "importlib.reload(learn)\n",
    "\n",
    "import warnings\n",
    "\n",
    "warnings.filterwarnings(\"ignore\")\n",
    "\n",
    "%load_ext jupyter_black\n",
    "sns.set(font_scale=1.25, style=\"whitegrid\")\n",
    "np.random.seed(0)"
   ]
  },
  {
   "cell_type": "code",
   "execution_count": null,
   "id": "76c797aa-dc0e-483c-a215-4183c505f722",
   "metadata": {
    "tags": []
   },
   "outputs": [],
   "source": [
    "outcome_cols = [\"opioiduse12\", \"opioiduse24\"]\n",
    "treatment_col = \"medicine_assigned\"\n",
    "discrete_cov = [\"xrace\", \"mar\", \"sex\"]\n",
    "\n",
    "baseline_harmonized = pd.read_csv(\n",
    "    \"/Users/harshparikh/Library/CloudStorage/OneDrive-JohnsHopkins/MOUD_data/updated_data/ctn0094/drv/clean_patients_with_relapse_wide.csv\",\n",
    "    index_col=0,\n",
    ")\n",
    "\n",
    "# baseline_harmonized = baseline_harmonized.rename(\n",
    "#     columns={col: col.split(\".\")[1] for col in baseline_harmonized.columns}\n",
    "# ).set_index(\"who\")\n",
    "\n",
    "stacked_list = []\n",
    "for i in range(1, 6):\n",
    "    stacked_list.append(\n",
    "        pd.read_csv(\n",
    "            \"/Users/harshparikh/Library/CloudStorage/OneDrive-JohnsHopkins/MOUD_data/stacked_list_%d.csv\"\n",
    "            % (i),\n",
    "            index_col=0,\n",
    "        )\n",
    "    )\n",
    "df = stacked_list[0]\n",
    "\n",
    "df_tedsa = df.loc[df[\"trialdata\"] == 0]"
   ]
  },
  {
   "cell_type": "markdown",
   "id": "fd98a5a8-b932-4306-8293-c6e2b18d9941",
   "metadata": {},
   "source": [
    "## TEDS-A vs CTN 27"
   ]
  },
  {
   "cell_type": "code",
   "execution_count": null,
   "id": "5ca75ba5-a916-45e9-b026-061ee9f73466",
   "metadata": {
    "tags": []
   },
   "outputs": [],
   "source": [
    "ct94 = baseline_harmonized.loc[(baseline_harmonized[\"project\"] == 27)]\n",
    "outcome94 = ct94[outcome_cols]\n",
    "\n",
    "common_cols = set.intersection(set(df_tedsa.columns), set(ct94.columns))\n",
    "\n",
    "ct94_cc = ct94[common_cols].drop(columns=[\"edu\", \"mar\"])\n",
    "ct94_cc[\"sex\"] = (ct94[\"sex\"] == \"male\").astype(int)  # male = 1 and female = 0\n",
    "# ct94_cc[\"mar\"].loc[(1 - ct94_cc[\"mar\"].isna()) == 1] = (ct94_cc[\"mar\"] == 1.0).astype(\n",
    "#     int\n",
    "# )\n",
    "# ct94_cc[\"edu\"].loc[(1 - ct94_cc[\"edu\"].isna()) == 1] = (ct94_cc[\"edu\"] >= 2.0).astype(\n",
    "#     int\n",
    "# )\n",
    "\n",
    "imputer = KNNImputer(n_neighbors=4, weights=\"distance\", add_indicator=False)\n",
    "ct94_cc_imputed = imputer.fit_transform(ct94_cc)\n",
    "\n",
    "ct94_cc = pd.DataFrame(ct94_cc_imputed, index=ct94_cc.index, columns=ct94_cc.columns)\n",
    "\n",
    "ct94_cc[\"med_met\"] = (ct94[treatment_col] == \"met\").astype(\n",
    "    int\n",
    ")  # methadone = 1 and bupenorphine = 0\n",
    "ct94_cc = ct94_cc.dropna()\n",
    "\n",
    "ct94_cc[\"S\"] = 1\n",
    "ct94_cc = ct94_cc.round(0).astype(int)\n",
    "\n",
    "ct94_cc = ct94_cc.join(outcome94, how=\"inner\")\n",
    "print(ct94_cc.shape)\n",
    "ct94_cc.groupby(by=\"med_met\").mean()[outcome_cols]"
   ]
  },
  {
   "cell_type": "code",
   "execution_count": null,
   "id": "26d8391e-fa1c-4772-a289-837e6279d88f",
   "metadata": {
    "tags": []
   },
   "outputs": [],
   "source": [
    "df_tedsa_cc = df_tedsa[common_cols].drop(columns=[\"edu\", \"mar\"])\n",
    "df_tedsa_cc[\"S\"] = 0\n",
    "# invert age categories\n",
    "df_tedsa_cc[\"age\"].replace(\n",
    "    {\n",
    "        1: 13,\n",
    "        2: 16,\n",
    "        3: 18,\n",
    "        4: 22,\n",
    "        5: 27,\n",
    "        6: 32,\n",
    "        7: 37,\n",
    "        8: 42,\n",
    "        9: 47,\n",
    "        10: 52,\n",
    "        11: 60,\n",
    "        12: 68,\n",
    "    },\n",
    "    inplace=True,\n",
    ")\n",
    "\n",
    "# df_tedsa_cc[\"mar\"].loc[(1 - df_tedsa_cc[\"mar\"].isna()) == 1] = (\n",
    "#     df_tedsa_cc[\"mar\"] == 1.0\n",
    "# ).astype(int)\n",
    "# df_tedsa_cc[\"edu\"].loc[(1 - df_tedsa_cc[\"edu\"].isna()) == 1] = (\n",
    "#     df_tedsa_cc[\"edu\"] >= 2.0\n",
    "# ).astype(int)"
   ]
  },
  {
   "cell_type": "code",
   "execution_count": null,
   "id": "29a93496-cdbc-49e8-98d3-d2e2af1e1baf",
   "metadata": {
    "tags": []
   },
   "outputs": [],
   "source": [
    "df_primary = pd.concat([df_tedsa_cc.sample(frac=1, replace=False), ct94_cc])\n",
    "\n",
    "df_ = df_primary.drop(columns=[outcome_cols[0]]).fillna(0)"
   ]
  },
  {
   "cell_type": "code",
   "execution_count": null,
   "id": "2b1ab1f9-97e4-458f-a8e5-4a463a3194ab",
   "metadata": {
    "tags": []
   },
   "outputs": [],
   "source": [
    "outcome = outcome_cols[1]\n",
    "treatment = \"med_met\"\n",
    "sample = \"S\"\n",
    "data = df_\n",
    "S = df_[sample]  # indicator for the sample\n",
    "Y = df_[outcome]  # outcome variable\n",
    "T = df_[treatment]  # indicator for the treatment\n",
    "\n",
    "data_dummy = pd.get_dummies(data, columns=[\"xrace\"])\n",
    "data_dummy.rename(\n",
    "    columns={\n",
    "        \"sex\": \"Male\",\n",
    "        \"age\": \"Age\",\n",
    "        \"ivdrug\": \"IV Drug Use\",\n",
    "        \"bamphetamine30_base\": \"Hx Amphetamine\",\n",
    "        \"bbenzo30_base\": \"Hx Benzo\",\n",
    "        \"bcannabis30_base\": \"Hx Cannabis\",\n",
    "        \"xrace_1\": \"White\",\n",
    "        \"xrace_2\": \"Black\",\n",
    "        \"xrace_3\": \"Hispanic\",\n",
    "        \"xrace_4\": \"Other Race\",\n",
    "        # \"mar\": \"Married\",\n",
    "        # \"edu\": \"Education(12y)\",\n",
    "    },\n",
    "    inplace=True,\n",
    ")\n",
    "\n",
    "X = data_dummy.drop(columns=[outcome, treatment, sample])  # pre-treatment covariates"
   ]
  },
  {
   "cell_type": "code",
   "execution_count": null,
   "id": "bf769e2f-2e53-41c6-a00e-c934e2f9bd2e",
   "metadata": {
    "tags": []
   },
   "outputs": [],
   "source": [
    "print(data_dummy.groupby(by=[sample]).quantile(0.75).T.round(2).to_latex())"
   ]
  },
  {
   "cell_type": "markdown",
   "id": "4de2c7d9-9f8b-4d3f-a0c6-e2328109fed6",
   "metadata": {},
   "source": [
    "#### CTN Analysis"
   ]
  },
  {
   "cell_type": "code",
   "execution_count": null,
   "id": "907f531c-a3b2-4cc2-8bda-477f38f0a04e",
   "metadata": {
    "tags": []
   },
   "outputs": [],
   "source": [
    "importlib.reload(learn)\n",
    "df_v, pi, pi_m, e_m, data2 = learn.estimate_dml(\n",
    "    data_dummy, outcome, treatment, sample, crossfit=5\n",
    ")"
   ]
  },
  {
   "cell_type": "code",
   "execution_count": null,
   "id": "92e15df6-6007-410d-8dcf-3661010ad85a",
   "metadata": {
    "tags": []
   },
   "outputs": [],
   "source": [
    "pd.concat(\n",
    "    [\n",
    "        df_v[[\"a\", \"te\"]].mean() * 100,\n",
    "        np.sqrt(df_v[[\"a_sq\", \"te_sq\"]].mean() / df_v.shape[0]) * 100,\n",
    "    ],\n",
    ")"
   ]
  },
  {
   "cell_type": "code",
   "execution_count": null,
   "id": "9181547f-a05f-4150-9bea-06c2de252039",
   "metadata": {
    "tags": []
   },
   "outputs": [],
   "source": [
    "np.random.seed(42)\n",
    "pi_m = en.AdaBoostRegressor().fit(X.drop(columns=[\"Age\"]), S)\n",
    "exp_te_m = en.AdaBoostRegressor().fit(data2[X.drop(columns=[\"Age\"]).columns], df_v[\"a\"])"
   ]
  },
  {
   "cell_type": "code",
   "execution_count": null,
   "id": "768edfb2-23b0-406f-b797-92f460694ee5",
   "metadata": {
    "tags": []
   },
   "outputs": [],
   "source": [
    "pd.concat(\n",
    "    [\n",
    "        pd.DataFrame(\n",
    "            pi_m.feature_importances_,\n",
    "            index=X.drop(columns=[\"Age\"]).columns,\n",
    "            columns=[\"Sample Selector\"],\n",
    "        ),\n",
    "        pd.DataFrame(\n",
    "            exp_te_m.feature_importances_,\n",
    "            index=X.drop(columns=[\"Age\"]).columns,\n",
    "            columns=[\"Effect Modifier\"],\n",
    "        ),\n",
    "    ],\n",
    "    axis=1,\n",
    ").round(2)"
   ]
  },
  {
   "cell_type": "code",
   "execution_count": null,
   "id": "584dfaae-57d3-4021-b9a5-e4cd9657876d",
   "metadata": {
    "tags": []
   },
   "outputs": [],
   "source": [
    "X.loc[S == 1].corr()"
   ]
  },
  {
   "cell_type": "markdown",
   "id": "4c9b4af5-f356-4cdb-9a40-e40e75c193cd",
   "metadata": {},
   "source": [
    "#### Transporting Effects"
   ]
  },
  {
   "cell_type": "code",
   "execution_count": null,
   "id": "05894cc0-7e01-432e-8c14-1c189ecbc9be",
   "metadata": {
    "tags": []
   },
   "outputs": [],
   "source": [
    "importlib.reload(learn)\n",
    "# D, w_tree, testing_data = learn.tree_opt(data, outcome, treatment, sample, leaf_proba=1)\n",
    "np.random.seed(42)\n",
    "D_rash, D_forest, w_forest, rashomon_set, f, testing_data = learn.forest_opt(\n",
    "    data=data_dummy,\n",
    "    outcome=outcome,\n",
    "    treatment=treatment,\n",
    "    sample=sample,\n",
    "    leaf_proba=0.5,\n",
    "    num_trees=5000,\n",
    "    vote_threshold=5 / 10,\n",
    "    # top_k_trees=True,\n",
    "    # k=5,\n",
    ")\n",
    "\n",
    "baseline_loss = np.sqrt(np.sum(D_forest[\"vsq\"]) / ((D_forest.shape[0] ** 2)))\n",
    "# print(\"Baseline Objective:%.4f\" % (baseline_loss))"
   ]
  },
  {
   "cell_type": "code",
   "execution_count": null,
   "id": "147c1000-413b-40ac-a076-0a056e09a4f6",
   "metadata": {
    "tags": []
   },
   "outputs": [],
   "source": [
    "local_obj = pd.DataFrame(\n",
    "    np.array([w_forest[i][\"local objective\"] for i in range(len(w_forest))]),\n",
    "    columns=[\"Objective\"],\n",
    ").sort_values(by=\"Objective\")\n",
    "\n",
    "top_k = 3000\n",
    "plt.plot((local_obj.iloc[:top_k] / baseline_loss)[\"Objective\"].values)"
   ]
  },
  {
   "cell_type": "code",
   "execution_count": null,
   "id": "8095e686-03ca-4a83-ac79-3b48fb74a0b1",
   "metadata": {
    "tags": []
   },
   "outputs": [],
   "source": [
    "w_rash = [\n",
    "    \"w_tree_%d\" % (i)\n",
    "    for i in range(len(w_forest))\n",
    "    if i in list(local_obj.iloc[:top_k].index)\n",
    "]\n",
    "avg_votes = (D_forest[w_rash].mean(axis=1) >= 0.5).astype(int)\n",
    "\n",
    "np.random.seed(42)\n",
    "num_trees = 1\n",
    "explainer = tree.DecisionTreeClassifier(max_leaf_nodes=16).fit(\n",
    "    X.drop(columns=[\"Age\"]).loc[avg_votes.index], avg_votes\n",
    ")"
   ]
  },
  {
   "cell_type": "code",
   "execution_count": null,
   "id": "51b4744b-b6ea-4627-a5aa-19c99867b556",
   "metadata": {
    "tags": []
   },
   "outputs": [],
   "source": [
    "fig, ax = plt.subplots(nrows=num_trees, figsize=(10, 5), dpi=600)\n",
    "for i in range(num_trees):\n",
    "    if num_trees == 1:\n",
    "        tree.plot_tree(\n",
    "            explainer,  # .estimators_[i, 0],\n",
    "            feature_names=X.drop(columns=[\"Age\"]).columns,\n",
    "            ax=ax,\n",
    "            filled=True,\n",
    "            fontsize=10,\n",
    "            proportion=True,\n",
    "            impurity=False,\n",
    "        )\n",
    "    else:\n",
    "        tree.plot_tree(\n",
    "            explainer.estimators_[i, 0],\n",
    "            feature_names=X.drop(columns=[\"Age\"]).columns,\n",
    "            ax=ax[i],\n",
    "            filled=True,\n",
    "            fontsize=10,\n",
    "            proportion=True,\n",
    "        )\n",
    "plt.savefig(\"tedsa_ctn27.pdf\", dpi=600)"
   ]
  },
  {
   "cell_type": "code",
   "execution_count": null,
   "id": "21a45169-ac80-4a2e-b993-4b30ec5ca3c5",
   "metadata": {
    "tags": []
   },
   "outputs": [],
   "source": [
    "w = explainer.predict(data_dummy[X.drop(columns=[\"Age\"]).columns])\n",
    "data_dummy[\"w\"] = w\n",
    "\n",
    "pd.concat(\n",
    "    [\n",
    "        data_dummy.groupby(by=\"S\").mean().T.round(2),\n",
    "        data_dummy.loc[data_dummy[\"w\"] == 1].groupby(by=\"S\").mean().T.round(2),\n",
    "    ],\n",
    "    axis=1,\n",
    ") * 100"
   ]
  },
  {
   "cell_type": "code",
   "execution_count": null,
   "id": "71ee2518-1167-44d0-972d-5b19724de516",
   "metadata": {
    "tags": []
   },
   "outputs": [],
   "source": [
    "print(\n",
    "    r\"Pre Pruning, SATE: %.2f ± %.2f\"\n",
    "    % (\n",
    "        100\n",
    "        * (\n",
    "            df_.loc[(df_[sample] == 1) * (df_[treatment] == 1), outcome].mean()\n",
    "            - df_.loc[(df_[sample] == 1) * (df_[treatment] == 0), outcome].mean()\n",
    "        ),\n",
    "        100\n",
    "        * 1.96\n",
    "        * (\n",
    "            df_.loc[(df_[sample] == 1) * (df_[treatment] == 1), outcome].sem()\n",
    "            + df_.loc[(df_[sample] == 1) * (df_[treatment] == 0), outcome].sem()\n",
    "        ),\n",
    "    )\n",
    ")\n",
    "\n",
    "print(\n",
    "    r\"Pre Pruning, ATTE: %.2f ± %.2f\"\n",
    "    % (\n",
    "        100 * D_rash[\"v\"].mean(),\n",
    "        100 * 1.96 * np.sqrt(D_rash[\"vsq\"].sum() / (D_rash[\"w_opt\"].count()) ** 2),\n",
    "    )\n",
    ")\n",
    "\n",
    "D_rash[\"w_opt\"] = explainer.predict(X.drop(columns=[\"Age\"]).loc[avg_votes.index])\n",
    "print(\n",
    "    r\"Post Pruning, ATTE: %.2f ± %.2f\"\n",
    "    % (\n",
    "        100 * D_rash[\"v\"].loc[D_rash[\"w_opt\"] == 1].mean(),\n",
    "        100\n",
    "        * 1.96\n",
    "        * np.sqrt(\n",
    "            D_rash[\"vsq\"].loc[D_rash[\"w_opt\"] == 1].sum()\n",
    "            / ((D_rash[\"w_opt\"].sum()) ** 2)\n",
    "        ),\n",
    "    )\n",
    ")"
   ]
  },
  {
   "cell_type": "code",
   "execution_count": null,
   "id": "74358c38-0f29-4d34-81bc-0cb30a36ed35",
   "metadata": {
    "tags": []
   },
   "outputs": [],
   "source": [
    "sns.kdeplot(D_rash.loc[D_rash[\"w_opt\"] == 1][\"vsq\"], fill=True)\n",
    "sns.kdeplot(D_rash.loc[D_rash[\"w_opt\"] == 0][\"vsq\"], fill=True)\n",
    "plt.axvline(D_rash.loc[D_rash[\"w_opt\"] == 1][\"vsq\"].mean(), c=\"C0\")\n",
    "plt.axvline(D_rash.loc[D_rash[\"w_opt\"] == 0][\"vsq\"].mean(), c=\"C1\")\n",
    "plt.xlim(0, 95)\n",
    "print(\n",
    "    (\n",
    "        np.sqrt(\n",
    "            D_rash.loc[data_dummy[\"w\"] == 1][\"vsq\"].mean()\n",
    "            / D_rash.loc[data_dummy[\"w\"] == 1][\"vsq\"].count()\n",
    "        ),\n",
    "        np.sqrt(D_rash[\"vsq\"].mean() / D_rash[\"vsq\"].count()),\n",
    "    )\n",
    ")"
   ]
  },
  {
   "cell_type": "code",
   "execution_count": null,
   "id": "0e87ea71-22cd-4fe4-8867-fd31ddb8da12",
   "metadata": {
    "tags": []
   },
   "outputs": [],
   "source": [
    "sns.kdeplot(D_rash.loc[D_rash[\"w_opt\"] == 1][\"v\"], fill=True)\n",
    "sns.kdeplot(D_rash.loc[D_rash[\"w_opt\"] == 0][\"v\"], fill=True)\n",
    "print(\n",
    "    (\n",
    "        D_rash.loc[D_rash[\"w_opt\"] == 1][\"v\"].mean(),\n",
    "        D_rash.loc[D_rash[\"w_opt\"] == 0][\"v\"].mean(),\n",
    "    )\n",
    ")"
   ]
  },
  {
   "cell_type": "code",
   "execution_count": null,
   "id": "8c740f39-22b9-45ad-8131-307f0fc5cbbc",
   "metadata": {},
   "outputs": [],
   "source": []
  }
 ],
 "metadata": {
  "kernelspec": {
   "display_name": "Python 3 (ipykernel)",
   "language": "python",
   "name": "python3"
  },
  "language_info": {
   "codemirror_mode": {
    "name": "ipython",
    "version": 3
   },
   "file_extension": ".py",
   "mimetype": "text/x-python",
   "name": "python",
   "nbconvert_exporter": "python",
   "pygments_lexer": "ipython3",
   "version": "3.10.9"
  }
 },
 "nbformat": 4,
 "nbformat_minor": 5
}
