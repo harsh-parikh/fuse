{
 "cells": [
  {
   "cell_type": "code",
   "execution_count": null,
   "id": "c1d50288-9d89-4e5e-97d5-247ba50e9688",
   "metadata": {
    "tags": []
   },
   "outputs": [],
   "source": [
    "import numpy as np\n",
    "import pandas as pd\n",
    "import matplotlib.pyplot as plt\n",
    "import seaborn as sns\n",
    "import sklearn.linear_model as lm\n",
    "import sklearn.ensemble as en\n",
    "import sklearn.tree as tree\n",
    "from sklearn.model_selection import train_test_split\n",
    "from sklearn.impute import KNNImputer\n",
    "import importlib\n",
    "import pyreadr\n",
    "\n",
    "import tqdm\n",
    "import black\n",
    "\n",
    "#### main package\n",
    "import learn_w as learn\n",
    "\n",
    "importlib.reload(learn)\n",
    "\n",
    "import warnings\n",
    "\n",
    "warnings.filterwarnings(\"ignore\")\n",
    "\n",
    "%load_ext jupyter_black\n",
    "sns.set(font_scale=1.25, style=\"whitegrid\")\n",
    "np.random.seed(0)"
   ]
  },
  {
   "cell_type": "markdown",
   "id": "01192f15-d214-4325-84bb-5bf8344ed7b3",
   "metadata": {},
   "source": [
    "# Fetching Real MOUD Data & Set it up"
   ]
  },
  {
   "cell_type": "code",
   "execution_count": null,
   "id": "8f5da584-3fb2-4538-b7fb-467916a5d364",
   "metadata": {
    "tags": []
   },
   "outputs": [],
   "source": [
    "outcome_cols = [\"opioiduse12\", \"opioiduse24\"]\n",
    "treatment_col = \"medicine_assigned\"\n",
    "discrete_cov = [\"xrace\", \"mar\", \"sex\"]\n",
    "\n",
    "baseline_harmonized = pd.read_csv(\n",
    "    \"/Users/harshparikh/Library/CloudStorage/OneDrive-JohnsHopkins/MOUD_data/updated_data/ctn0094/drv/clean_patients_with_relapse_wide.csv\",\n",
    "    index_col=0,\n",
    ")\n",
    "\n",
    "stacked_list = []\n",
    "for i in range(1, 6):\n",
    "    stacked_list.append(\n",
    "        pd.read_csv(\n",
    "            \"/Users/harshparikh/Library/CloudStorage/OneDrive-JohnsHopkins/MOUD_data/stacked_list_%d.csv\"\n",
    "            % (i),\n",
    "            index_col=0,\n",
    "        )\n",
    "    )\n",
    "df = stacked_list[0]\n",
    "\n",
    "df_tedsa = df.loc[df[\"trialdata\"] == 0]\n",
    "\n",
    "ct94 = baseline_harmonized.loc[(baseline_harmonized[\"project\"] == 27)]\n",
    "outcome94 = ct94[outcome_cols]\n",
    "\n",
    "common_cols = set.intersection(set(df_tedsa.columns), set(ct94.columns))\n",
    "\n",
    "ct94_cc = ct94[common_cols].drop(columns=[\"edu\", \"mar\"])\n",
    "ct94_cc[\"sex\"] = (ct94[\"sex\"] == \"male\").astype(int)  # male = 1 and female = 0\n",
    "\n",
    "imputer = KNNImputer(n_neighbors=4, weights=\"distance\", add_indicator=False)\n",
    "ct94_cc_imputed = imputer.fit_transform(ct94_cc)\n",
    "\n",
    "ct94_cc = pd.DataFrame(ct94_cc_imputed, index=ct94_cc.index, columns=ct94_cc.columns)\n",
    "\n",
    "ct94_cc[\"med_met\"] = (ct94[treatment_col] == \"met\").astype(\n",
    "    int\n",
    ")  # methadone = 1 and bupenorphine = 0\n",
    "ct94_cc = ct94_cc.dropna()\n",
    "\n",
    "ct94_cc[\"S\"] = 1\n",
    "ct94_cc = ct94_cc.round(0).astype(int)\n",
    "\n",
    "ct94_cc = ct94_cc.join(outcome94, how=\"inner\")\n",
    "print(ct94_cc.shape)\n",
    "ct94_cc.groupby(by=\"med_met\").mean()[outcome_cols]\n",
    "\n",
    "df_tedsa_cc = df_tedsa[common_cols].drop(columns=[\"edu\", \"mar\"])\n",
    "df_tedsa_cc[\"S\"] = 0\n",
    "# invert age categories\n",
    "df_tedsa_cc[\"age\"].replace(\n",
    "    {\n",
    "        1: 13,\n",
    "        2: 16,\n",
    "        3: 18,\n",
    "        4: 22,\n",
    "        5: 27,\n",
    "        6: 32,\n",
    "        7: 37,\n",
    "        8: 42,\n",
    "        9: 47,\n",
    "        10: 52,\n",
    "        11: 60,\n",
    "        12: 68,\n",
    "    },\n",
    "    inplace=True,\n",
    ")\n",
    "\n",
    "df_primary = pd.concat([df_tedsa_cc.sample(frac=1, replace=False), ct94_cc])\n",
    "\n",
    "df_ = df_primary.drop(columns=[outcome_cols[0]]).fillna(0)\n",
    "\n",
    "outcome = outcome_cols[1]\n",
    "treatment = \"med_met\"\n",
    "sample = \"S\"\n",
    "data = df_\n",
    "S = df_[sample]  # indicator for the sample\n",
    "Y = df_[outcome]  # outcome variable\n",
    "T = df_[treatment]  # indicator for the treatment\n",
    "\n",
    "data_dummy = pd.get_dummies(data, columns=[\"xrace\"])\n",
    "data_dummy.rename(\n",
    "    columns={\n",
    "        \"sex\": \"Male\",\n",
    "        \"age\": \"Age\",\n",
    "        \"ivdrug\": \"IV Drug Use\",\n",
    "        \"bamphetamine30_base\": \"Hx Amphetamine\",\n",
    "        \"bbenzo30_base\": \"Hx Benzo\",\n",
    "        \"bcannabis30_base\": \"Hx Cannabis\",\n",
    "        \"xrace_1\": \"White\",\n",
    "        \"xrace_2\": \"Black\",\n",
    "        \"xrace_3\": \"Hispanic\",\n",
    "        \"xrace_4\": \"Other Race\",\n",
    "    },\n",
    "    inplace=True,\n",
    ")\n",
    "\n",
    "X = data_dummy.drop(columns=[outcome, treatment, sample])  # pre-treatment covariates"
   ]
  },
  {
   "cell_type": "markdown",
   "id": "8b316995-9b84-4639-853e-f972ac4ae9f8",
   "metadata": {},
   "source": [
    "# Generate Synthetic MOUD Data via Modeling\n",
    "Impute Y(t) \\\n",
    "Logistic regression to model P(S=1 | X), \\\n",
    "Logistic regression to model P(T=1 | X, S=1) "
   ]
  },
  {
   "cell_type": "code",
   "execution_count": null,
   "id": "1e1296ef-e703-44c3-9d22-f6fe58185e9d",
   "metadata": {
    "tags": []
   },
   "outputs": [],
   "source": [
    "np.random.seed(42)\n",
    "y1_m = en.GradientBoostingClassifier(n_estimators=10000).fit(\n",
    "    X.loc[(S == 1) * (T == 1)], Y.loc[(S == 1) * (T == 1)]\n",
    ")\n",
    "y0_m = en.GradientBoostingClassifier(n_estimators=10000).fit(\n",
    "    X.loc[(S == 1) * (T == 0)], Y.loc[(S == 1) * (T == 0)]\n",
    ")"
   ]
  },
  {
   "cell_type": "code",
   "execution_count": null,
   "id": "58b9ca15-aaa3-45c3-bed7-d322e5dd4c6c",
   "metadata": {
    "tags": []
   },
   "outputs": [],
   "source": [
    "# P(S=1 | X)\n",
    "pi_m = lm.LogisticRegressionCV().fit(X, S)\n",
    "# P(T=1 | X, S=1)\n",
    "e_m = lm.LogisticRegressionCV().fit(X.loc[S == 1], T.loc[S == 1])"
   ]
  },
  {
   "cell_type": "code",
   "execution_count": null,
   "id": "c9fe86a7-891c-4e7b-9d23-5f72f425c529",
   "metadata": {},
   "outputs": [],
   "source": [
    "X_sim = X.copy(deep=True)\n",
    "\n",
    "joint_sim = X_sim.copy(deep=True)\n",
    "joint_sim[\"Y(1)\"] = np.random.binomial(1, y1_m.predict_proba(X_sim)[:, 1])\n",
    "joint_sim[\"Y(0)\"] = np.random.binomial(1, y0_m.predict_proba(X_sim)[:, 1])\n",
    "\n",
    "S_sim = np.random.binomial(1, pi_m.predict_proba(X_sim)[:, 1])\n",
    "T_sim = np.random.binomial(1, e_m.predict_proba(X_sim)[:, 1])\n",
    "Y_sim = T_sim * joint_sim[\"Y(1)\"] + (1 - T_sim) * joint_sim[\"Y(0)\"]"
   ]
  },
  {
   "cell_type": "code",
   "execution_count": null,
   "id": "c9fbec3f-e2f5-4150-95d3-d0dfc9f58d04",
   "metadata": {},
   "outputs": [],
   "source": [
    "df_sim = X_sim.copy(deep=True)\n",
    "df_sim[\"Y\"] = Y_sim\n",
    "df_sim[\"T\"] = T_sim\n",
    "df_sim[\"S\"] = S_sim"
   ]
  },
  {
   "cell_type": "markdown",
   "id": "7e38fc55-dadd-4c37-bf4b-b3d940a06717",
   "metadata": {},
   "source": [
    "## Plot feature importance of variables for outcome and selection models from the synthetic DGP"
   ]
  },
  {
   "cell_type": "code",
   "execution_count": null,
   "id": "af4dc030-80da-4327-aeeb-3d2d35a0a83b",
   "metadata": {
    "tags": []
   },
   "outputs": [],
   "source": [
    "feature_imp = pd.DataFrame()\n",
    "feature_imp[\"treatment effect\"] = pd.Series(\n",
    "    y1_m.feature_importances_ + y0_m.feature_importances_, index=X.columns\n",
    ").abs()\n",
    "feature_imp[\"sample\"] = pd.Series(pi_m.coef_[0], index=X.columns).abs()\n",
    "\n",
    "from sklearn.preprocessing import MinMaxScaler\n",
    "\n",
    "scaler = MinMaxScaler()\n",
    "feature_imp_scaled = pd.DataFrame(\n",
    "    scaler.fit_transform(feature_imp),\n",
    "    columns=feature_imp.columns,\n",
    "    index=feature_imp.index,\n",
    ")\n",
    "\n",
    "\n",
    "def label_point(data, x, y, val, ax):\n",
    "    for i in data.index:\n",
    "        if \"Hispanic\" in str(data.loc[i][val]):\n",
    "            ax.text(data.loc[i][x] + 0.01, data.loc[i][y], str(data.loc[i][val]))\n",
    "        else:\n",
    "            ax.text(data.loc[i][x] + 0.01, data.loc[i][y] - 0.05, str(data.loc[i][val]))\n",
    "\n",
    "\n",
    "fig, ax = plt.subplots(figsize=(10, 7), dpi=600)\n",
    "sns.scatterplot(\n",
    "    data=feature_imp_scaled.reset_index(),\n",
    "    x=\"treatment effect\",\n",
    "    y=\"sample\",\n",
    "    hue=\"index\",\n",
    "    ax=ax,\n",
    "    s=100,\n",
    "    legend=False,\n",
    ")\n",
    "label_point(\n",
    "    data=feature_imp_scaled.reset_index(),\n",
    "    x=\"treatment effect\",\n",
    "    y=\"sample\",\n",
    "    val=\"index\",\n",
    "    ax=ax,\n",
    ")\n",
    "plt.xlabel(\"Relative Feature Importance\\n (Treatment Effect)\")\n",
    "plt.ylabel(\"Relative Feature Importance\\n (Sample Selection Function)\")\n",
    "# plt.legend(ncols=3, loc=(0, -0.35))\n",
    "plt.tight_layout()\n",
    "plt.savefig(\"feature_importance_synth_case.pdf\")"
   ]
  },
  {
   "cell_type": "code",
   "execution_count": null,
   "id": "855f9ff0-7e26-4ed8-ad07-8a9c48749446",
   "metadata": {},
   "outputs": [],
   "source": [
    "joint_sim[\"TE\"] = joint_sim[\"Y(1)\"] - joint_sim[\"Y(0)\"]\n",
    "joint_sim[\"h\"] = (joint_sim[\"TE\"] - joint_sim[\"TE\"].mean()) ** 2\n",
    "\n",
    "te_exp = en.GradientBoostingRegressor().fit(X_sim, joint_sim[\"h\"])\n",
    "\n",
    "feature_imp[\"treatment effect\"] = pd.Series(\n",
    "    te_exp.feature_importances_, index=X_sim.columns\n",
    ").abs()\n",
    "\n",
    "from sklearn.preprocessing import MinMaxScaler\n",
    "\n",
    "scaler = MinMaxScaler()\n",
    "feature_imp_scaled = pd.DataFrame(\n",
    "    scaler.fit_transform(feature_imp),\n",
    "    columns=feature_imp.columns,\n",
    "    index=feature_imp.index,\n",
    ")\n",
    "\n",
    "\n",
    "def label_point(data, x, y, val, ax):\n",
    "    for i in data.index:\n",
    "        if \"Hispanic\" in str(data.loc[i][val]):\n",
    "            ax.text(data.loc[i][x] + 0.01, data.loc[i][y] - 0.05, str(data.loc[i][val]))\n",
    "        else:\n",
    "            ax.text(data.loc[i][x] + 0.01, data.loc[i][y], str(data.loc[i][val]))\n",
    "\n",
    "\n",
    "fig, ax = plt.subplots(figsize=(10, 7), dpi=600)\n",
    "sns.scatterplot(\n",
    "    data=np.log2(feature_imp_scaled + 1).reset_index(),\n",
    "    x=\"treatment effect\",\n",
    "    y=\"sample\",\n",
    "    hue=\"index\",\n",
    "    ax=ax,\n",
    "    s=100,\n",
    "    legend=False,\n",
    ")\n",
    "label_point(\n",
    "    data=np.log2(feature_imp_scaled + 1).reset_index(),\n",
    "    x=\"treatment effect\",\n",
    "    y=\"sample\",\n",
    "    val=\"index\",\n",
    "    ax=ax,\n",
    ")\n",
    "plt.xlabel(\"Relative Feature Importance\\n (Treatment Effect)\")\n",
    "plt.ylabel(\"Relative Feature Importance\\n (Sample Selection Function)\")\n",
    "# plt.legend(ncols=3, loc=(0, -0.35))\n",
    "plt.tight_layout()\n",
    "plt.savefig(\"feature_importance_synth_case.pdf\")"
   ]
  },
  {
   "cell_type": "markdown",
   "id": "a93b444a-c63a-4708-a6e2-91495671d2f0",
   "metadata": {
    "tags": []
   },
   "source": [
    "# Analyses"
   ]
  },
  {
   "cell_type": "code",
   "execution_count": null,
   "id": "ef099a34-9111-49aa-9773-5aeee3a4165a",
   "metadata": {
    "tags": []
   },
   "outputs": [],
   "source": [
    "data = df_sim\n",
    "treatment = \"T\"\n",
    "outcome = \"Y\"\n",
    "sample = \"S\""
   ]
  },
  {
   "cell_type": "markdown",
   "id": "ef3e3e99-d5ed-414d-ba91-549e7ae997e0",
   "metadata": {},
   "source": [
    "## Estimate Treatment Effects"
   ]
  },
  {
   "cell_type": "code",
   "execution_count": null,
   "id": "99fb5153-71ac-4278-a2a2-db48492b2909",
   "metadata": {
    "tags": []
   },
   "outputs": [],
   "source": [
    "importlib.reload(learn)\n",
    "df_v_est, pi_est, pi_m_est, e_m_est, data2_est = learn.estimate_ipw(\n",
    "    data, outcome, treatment, sample\n",
    ")"
   ]
  },
  {
   "cell_type": "code",
   "execution_count": null,
   "id": "c3be41a3-f940-43f8-a541-3ac31e94de3f",
   "metadata": {
    "tags": []
   },
   "outputs": [],
   "source": [
    "print(\n",
    "    \"RCT-ATE: %.2f ± %.2f\"\n",
    "    % (\n",
    "        100\n",
    "        * (\n",
    "            data.loc[(data[sample] == 1) * (data[treatment] == 1), outcome].mean()\n",
    "            - data.loc[(data[sample] == 1) * (data[treatment] == 0), outcome].mean()\n",
    "        ),\n",
    "        100\n",
    "        * (\n",
    "            data.loc[(data[sample] == 1) * (data[treatment] == 1), outcome].sem()\n",
    "            + data.loc[(data[sample] == 1) * (data[treatment] == 0), outcome].sem()\n",
    "        ),\n",
    "    )\n",
    ")\n",
    "\n",
    "\n",
    "print(\n",
    "    \"RCT-IPW ATE: %.2f ± %.2f\" % (100 * df_v_est[\"a\"].mean(), 100 * df_v_est[\"a\"].sem())\n",
    ")\n",
    "\n",
    "print(\n",
    "    \"Transported ATE: %.2f ± %.2f\"\n",
    "    % (100 * df_v_est[\"te\"].mean(), 100 * df_v_est[\"te\"].sem())\n",
    ")"
   ]
  },
  {
   "cell_type": "markdown",
   "id": "03dace9d-4dc0-4c5a-9793-f0c6f3f6d61f",
   "metadata": {},
   "source": [
    "## Plot Selection Score per Sample"
   ]
  },
  {
   "cell_type": "code",
   "execution_count": null,
   "id": "05a78b56-8a56-4d15-8a45-183d36bdf51e",
   "metadata": {
    "tags": []
   },
   "outputs": [],
   "source": [
    "np.random.seed(42)\n",
    "data_dummy_logit = data.copy(deep=True)\n",
    "data_dummy_logit[\"pi(x)\"] = pi_m_est.predict_proba(X_sim)[:, 1]\n",
    "data_dummy_logit[\"pi(x)/pi\"] = data_dummy_logit[\"pi(x)\"] / data_dummy_logit[\"S\"].mean()\n",
    "fig, ax = plt.subplots(sharex=True, figsize=(10, 3), dpi=600)\n",
    "sns.set(font_scale=1.8, style=\"whitegrid\")\n",
    "sns.violinplot(\n",
    "    data=data_dummy_logit,\n",
    "    x=\"pi(x)/pi\",\n",
    "    y=\"S\",\n",
    "    hue=\"S\",\n",
    "    split=True,\n",
    "    orient=\"h\",\n",
    "    ax=ax,\n",
    "    alpha=0.5,\n",
    "    inner=\"quart\",\n",
    "    bw=0.25,\n",
    "    palette=\"Set1\",\n",
    ")\n",
    "plt.xlabel(r\"$\\ell(x)/{\\ell}$\")\n",
    "plt.tight_layout()"
   ]
  },
  {
   "cell_type": "markdown",
   "id": "6bdd35d4-33b0-49be-a605-917e61f1da93",
   "metadata": {},
   "source": [
    "## Learn Underrepresented Groups via 3 different proposed methods"
   ]
  },
  {
   "cell_type": "markdown",
   "id": "b02cbe2d-6ade-425e-abe6-6fb5808f62a2",
   "metadata": {},
   "source": [
    "### Indicator Approach"
   ]
  },
  {
   "cell_type": "code",
   "execution_count": null,
   "id": "641e4125-b653-485a-8bf2-9b005f15a98d",
   "metadata": {
    "tags": []
   },
   "outputs": [],
   "source": [
    "importlib.reload(learn)\n",
    "np.random.seed(42)\n",
    "D_brute, f_brute, _ = learn.kmeans_opt(\n",
    "    data=data,\n",
    "    outcome=outcome,\n",
    "    treatment=treatment,\n",
    "    sample=sample,\n",
    ")\n",
    "print(\n",
    "    (\n",
    "        100 * D_brute.loc[D_brute[\"w\"].astype(int) == 1][\"v\"].mean(),\n",
    "        100 * D_brute.loc[D_brute[\"w\"].astype(int) == 1][\"v\"].sem(),\n",
    "    )\n",
    ")\n",
    "\n",
    "tree.plot_tree(f_brute, feature_names=X_sim.columns)"
   ]
  },
  {
   "cell_type": "markdown",
   "id": "6c01a7ae-cd34-4288-9a75-bfb82c91ebf5",
   "metadata": {},
   "source": [
    "### Linear Approximation"
   ]
  },
  {
   "cell_type": "code",
   "execution_count": null,
   "id": "8f124a22-af7e-4252-a63e-5e2365a1fdd6",
   "metadata": {
    "tags": []
   },
   "outputs": [],
   "source": [
    "importlib.reload(learn)\n",
    "np.random.seed(42)\n",
    "D_linear, f_linear, _ = learn.linear_opt(\n",
    "    data=data_dummy_logit,\n",
    "    outcome=outcome,\n",
    "    treatment=treatment,\n",
    "    sample=sample,\n",
    ")\n",
    "print(\n",
    "    (\n",
    "        100 * D_linear.loc[D_linear[\"w\"].astype(int) == 1][\"v\"].mean(),\n",
    "        100 * D_linear.loc[D_linear[\"w\"].astype(int) == 1][\"v\"].sem(),\n",
    "    )\n",
    ")\n",
    "\n",
    "tree.plot_tree(f_linear, feature_names=X_sim.columns)"
   ]
  },
  {
   "cell_type": "markdown",
   "id": "0b20197f-d96a-40bf-8f03-ae90a7ab3315",
   "metadata": {},
   "source": [
    "### Using a Single Tree Optimizer"
   ]
  },
  {
   "cell_type": "code",
   "execution_count": null,
   "id": "8c790fe6-d3ef-4d3b-8960-355d74bc3c6e",
   "metadata": {
    "tags": []
   },
   "outputs": [],
   "source": [
    "importlib.reload(learn)\n",
    "np.random.seed(366)\n",
    "D_tree, f_tree, _ = learn.tree_opt(\n",
    "    data=data,\n",
    "    outcome=outcome,\n",
    "    treatment=treatment,\n",
    "    sample=sample,\n",
    "    leaf_proba=0.1,\n",
    ")\n",
    "print(\n",
    "    (\n",
    "        100 * D_tree.loc[D_tree[\"w\"].astype(int) == 1][\"v\"].mean(),\n",
    "        100 * D_tree.loc[D_tree[\"w\"].astype(int) == 1][\"v\"].sem(),\n",
    "    )\n",
    ")\n",
    "\n",
    "tree.plot_tree(f_tree, feature_names=X_sim.columns)"
   ]
  },
  {
   "cell_type": "markdown",
   "id": "d428aae2-045d-4447-b5cd-6dcb85e8c73f",
   "metadata": {},
   "source": [
    "### Using ROOT based Forest Optimizer "
   ]
  },
  {
   "cell_type": "code",
   "execution_count": null,
   "id": "339a66be-4c5c-4d07-bedb-a799172360bb",
   "metadata": {
    "tags": []
   },
   "outputs": [],
   "source": [
    "importlib.reload(learn)\n",
    "np.random.seed(0)\n",
    "D_rash, D_forest, w_forest, rashomon_set, f_forest, _ = learn.forest_opt(\n",
    "    data=data,\n",
    "    outcome=outcome,\n",
    "    treatment=treatment,\n",
    "    sample=sample,\n",
    "    num_trees=2000,\n",
    "    vote_threshold=99 / 100,\n",
    "    explore_proba=0.1,\n",
    "    feature_est=\"gbt\",\n",
    "    top_k_trees=1,\n",
    ")\n",
    "print(\n",
    "    (\n",
    "        100 * D_rash.loc[D_rash[\"w_opt\"].astype(int) == 1][\"v\"].mean(),\n",
    "        100 * D_rash.loc[D_rash[\"w_opt\"].astype(int) == 1][\"v\"].sem(),\n",
    "    )\n",
    ")\n",
    "\n",
    "# tree.plot_tree(f_forest, feature_names=X_sim.columns)"
   ]
  },
  {
   "cell_type": "markdown",
   "id": "7ba911c7-9c34-4098-bdda-9cdc52e6ccc4",
   "metadata": {},
   "source": [
    "### Plotting ROOT Results"
   ]
  },
  {
   "cell_type": "code",
   "execution_count": null,
   "id": "ec92d185-2b21-4fda-85b3-5e28bb02ba64",
   "metadata": {
    "tags": []
   },
   "outputs": [],
   "source": [
    "baseline_loss = np.sqrt(np.sum(D_forest[\"vsq\"]) / ((D_forest.shape[0] ** 2)))\n",
    "local_obj = pd.DataFrame(\n",
    "    np.array([w_forest[i][\"local objective\"] for i in range(len(w_forest))]),\n",
    "    columns=[\"Objective\"],\n",
    ").sort_values(by=\"Objective\")\n",
    "\n",
    "# top_k = 1\n",
    "# # sns.pointplot((local_obj.iloc[:top_k])[\"Objective\"].values)\n",
    "\n",
    "\n",
    "w_rash = [\n",
    "    \"w_tree_%d\" % (i)\n",
    "    for i in range(len(w_forest))\n",
    "    if i in list(local_obj.iloc[:top_k].index)\n",
    "]\n",
    "avg_votes = (D_forest[w_rash].mean(axis=1) >= 0.99).astype(int)\n",
    "D_rash[\"w_opt\"] = avg_votes\n",
    "\n",
    "np.random.seed(42)\n",
    "num_trees = 1\n",
    "explainer = tree.DecisionTreeClassifier(max_depth=3).fit(\n",
    "    X.loc[avg_votes.index], avg_votes\n",
    ")\n",
    "\n",
    "\n",
    "fig, ax = plt.subplots(nrows=num_trees, figsize=(20, 8), dpi=600)\n",
    "for i in range(num_trees):\n",
    "    if num_trees == 1:\n",
    "        tree.plot_tree(\n",
    "            explainer,  # .estimators_[i, 0],\n",
    "            feature_names=X.columns,\n",
    "            ax=ax,\n",
    "            filled=True,\n",
    "            fontsize=10,\n",
    "            # proportion=True,\n",
    "            impurity=False,\n",
    "        )\n",
    "    else:\n",
    "        tree.plot_tree(\n",
    "            explainer.estimators_[i, 0],\n",
    "            feature_names=X.columns,\n",
    "            ax=ax[i],\n",
    "            filled=True,\n",
    "            fontsize=10,\n",
    "            # proportion=True,\n",
    "        )"
   ]
  }
 ],
 "metadata": {
  "kernelspec": {
   "display_name": "Python 3 (ipykernel)",
   "language": "python",
   "name": "python3"
  },
  "language_info": {
   "codemirror_mode": {
    "name": "ipython",
    "version": 3
   },
   "file_extension": ".py",
   "mimetype": "text/x-python",
   "name": "python",
   "nbconvert_exporter": "python",
   "pygments_lexer": "ipython3",
   "version": "3.10.9"
  }
 },
 "nbformat": 4,
 "nbformat_minor": 5
}
